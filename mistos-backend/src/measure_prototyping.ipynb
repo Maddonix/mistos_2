{
 "cells": [
  {
   "cell_type": "code",
   "execution_count": 87,
   "id": "registered-instruction",
   "metadata": {},
   "outputs": [],
   "source": [
    "import numpy as np\n",
    "import pandas as pd\n",
    "from sys import getsizeof\n",
    "import scipy.sparse\n",
    "from auto_tqdm import tqdm\n"
   ]
  },
  {
   "cell_type": "code",
   "execution_count": 64,
   "id": "silver-nightlife",
   "metadata": {},
   "outputs": [],
   "source": [
    "image = np.random.rand(11,3,1300,1300) # Test array with dimensions z,c,y,x\n",
    "n_channels = image.shape[1]"
   ]
  },
  {
   "cell_type": "code",
   "execution_count": 65,
   "id": "union-ivory",
   "metadata": {},
   "outputs": [
    {
     "data": {
      "text/plain": [
       "(11, 3, 1300, 1300)"
      ]
     },
     "execution_count": 65,
     "metadata": {},
     "output_type": "execute_result"
    }
   ],
   "source": [
    "image.shape"
   ]
  },
  {
   "cell_type": "code",
   "execution_count": 67,
   "id": "demonstrated-approval",
   "metadata": {},
   "outputs": [
    {
     "data": {
      "text/plain": [
       "(11, 1300, 1300)"
      ]
     },
     "execution_count": 67,
     "metadata": {},
     "output_type": "execute_result"
    }
   ],
   "source": [
    "#multilabel mask with dimensions (z,y,x)\n",
    "mask = np.random.rand(11, 1300, 1300)\n",
    "mask = mask*1200\n",
    "mask = mask.astype(int)\n",
    "mask.shape"
   ]
  },
  {
   "cell_type": "code",
   "execution_count": 73,
   "id": "hollow-essay",
   "metadata": {},
   "outputs": [],
   "source": [
    "# Measurement will be an array of shape: (n_channel, n_label, n_features)\n",
    "# features are: n_pixels, sum_intensity\n",
    "n_features = 2\n",
    "measurement = np.zeros((n_channels, mask.max(), n_features))"
   ]
  },
  {
   "cell_type": "code",
   "execution_count": 69,
   "id": "critical-choir",
   "metadata": {},
   "outputs": [],
   "source": [
    "labels = np.unique(mask)\n",
    "n_labels = len(labels)"
   ]
  },
  {
   "cell_type": "code",
   "execution_count": 83,
   "id": "minute-gentleman",
   "metadata": {},
   "outputs": [],
   "source": [
    "# encode:\n",
    "m = np.eye(n_labels, dtype = np.bool)[mask]"
   ]
  },
  {
   "cell_type": "code",
   "execution_count": 84,
   "id": "certain-timer",
   "metadata": {},
   "outputs": [
    {
     "data": {
      "text/plain": [
       "22.308000144"
      ]
     },
     "execution_count": 84,
     "metadata": {},
     "output_type": "execute_result"
    }
   ],
   "source": [
    "getsizeof(m)*1e-9"
   ]
  },
  {
   "cell_type": "code",
   "execution_count": 89,
   "id": "threatened-orbit",
   "metadata": {},
   "outputs": [
    {
     "data": {
      "application/vnd.jupyter.widget-view+json": {
       "model_id": "51a6adad85274d70808b39ecdfb6fec0",
       "version_major": 2,
       "version_minor": 0
      },
      "text/plain": [
       "  0%|                                                                                         | 0/1200 [00:00<…"
      ]
     },
     "metadata": {},
     "output_type": "display_data"
    },
    {
     "ename": "KeyboardInterrupt",
     "evalue": "",
     "output_type": "error",
     "traceback": [
      "\u001b[1;31m---------------------------------------------------------------------------\u001b[0m",
      "\u001b[1;31mKeyboardInterrupt\u001b[0m                         Traceback (most recent call last)",
      "\u001b[1;32m<ipython-input-89-ed68c289db0d>\u001b[0m in \u001b[0;36m<module>\u001b[1;34m\u001b[0m\n\u001b[0;32m      4\u001b[0m         \u001b[0mimg_c\u001b[0m \u001b[1;33m=\u001b[0m \u001b[0mimage\u001b[0m\u001b[1;33m[\u001b[0m\u001b[1;33m:\u001b[0m\u001b[1;33m,\u001b[0m \u001b[0mc\u001b[0m\u001b[1;33m,\u001b[0m \u001b[1;33m...\u001b[0m\u001b[1;33m]\u001b[0m\u001b[1;33m\u001b[0m\u001b[1;33m\u001b[0m\u001b[0m\n\u001b[0;32m      5\u001b[0m         \u001b[0m_\u001b[0m \u001b[1;33m=\u001b[0m \u001b[0mm\u001b[0m\u001b[1;33m[\u001b[0m\u001b[1;33m...\u001b[0m\u001b[1;33m,\u001b[0m\u001b[0ml\u001b[0m\u001b[1;33m]\u001b[0m\u001b[1;33m\u001b[0m\u001b[1;33m\u001b[0m\u001b[0m\n\u001b[1;32m----> 6\u001b[1;33m         \u001b[0msums\u001b[0m\u001b[1;33m.\u001b[0m\u001b[0mappend\u001b[0m\u001b[1;33m(\u001b[0m\u001b[0mimg_c\u001b[0m\u001b[1;33m[\u001b[0m\u001b[0m_\u001b[0m\u001b[1;33m]\u001b[0m\u001b[1;33m.\u001b[0m\u001b[0msum\u001b[0m\u001b[1;33m(\u001b[0m\u001b[1;33m)\u001b[0m\u001b[1;33m)\u001b[0m\u001b[1;33m\u001b[0m\u001b[1;33m\u001b[0m\u001b[0m\n\u001b[0m",
      "\u001b[1;31mKeyboardInterrupt\u001b[0m: "
     ]
    }
   ],
   "source": [
    "sums = []\n",
    "for l in tqdm(range(m.shape[3])):\n",
    "    for c in range(image.shape[1]):\n",
    "        img_c = image[:, c, ...]\n",
    "        _ = m[...,l]\n",
    "        sums.append(img_c[_].sum())"
   ]
  },
  {
   "cell_type": "code",
   "execution_count": 58,
   "id": "mysterious-arlington",
   "metadata": {},
   "outputs": [
    {
     "data": {
      "text/plain": [
       "array([ 0,  1,  2,  3,  4,  5,  6,  7,  8,  9, 10, 11, 12, 13, 14, 15, 16,\n",
       "       17, 18, 19, 20, 21, 22, 23, 24])"
      ]
     },
     "execution_count": 58,
     "metadata": {},
     "output_type": "execute_result"
    }
   ],
   "source": [
    "rows = np.arange(mask[0].size)\n",
    "rows"
   ]
  },
  {
   "cell_type": "code",
   "execution_count": 17,
   "id": "configured-flour",
   "metadata": {},
   "outputs": [
    {
     "data": {
      "text/plain": [
       "(array([0, 1, 2, 3, 4]), array([19, 15, 14, 13, 14], dtype=int64))"
      ]
     },
     "execution_count": 17,
     "metadata": {},
     "output_type": "execute_result"
    }
   ],
   "source": [
    "n_pixels = np.unique(mask, return_counts = True)\n",
    "n_pixels"
   ]
  },
  {
   "cell_type": "code",
   "execution_count": 46,
   "id": "intimate-tsunami",
   "metadata": {},
   "outputs": [
    {
     "data": {
      "text/plain": [
       "array([[1., 1., 1., 1., 1.],\n",
       "       [1., 1., 1., 1., 1.],\n",
       "       [1., 1., 1., 1., 1.],\n",
       "       [1., 1., 1., 1., 1.],\n",
       "       [1., 1., 1., 1., 1.]])"
      ]
     },
     "execution_count": 46,
     "metadata": {},
     "output_type": "execute_result"
    }
   ],
   "source": [
    ")"
   ]
  },
  {
   "cell_type": "code",
   "execution_count": 48,
   "id": "generous-robinson",
   "metadata": {},
   "outputs": [
    {
     "name": "stdout",
     "output_type": "stream",
     "text": [
      "5\n"
     ]
    },
    {
     "name": "stderr",
     "output_type": "stream",
     "text": [
      "<ipython-input-48-ac2d1800e033>:7: FutureWarning: Using a non-tuple sequence for multidimensional indexing is deprecated; use `arr[tuple(seq)]` instead of `arr[seq]`. In the future this will be interpreted as an array index, `arr[np.array(seq)]`, which will result either in an error or a different result.\n",
      "  labels[mask[0].tolist()] = 1\n"
     ]
    },
    {
     "ename": "IndexError",
     "evalue": "too many indices for array: array is 3-dimensional, but 5 were indexed",
     "output_type": "error",
     "traceback": [
      "\u001b[1;31m---------------------------------------------------------------------------\u001b[0m",
      "\u001b[1;31mIndexError\u001b[0m                                Traceback (most recent call last)",
      "\u001b[1;32m<ipython-input-48-ac2d1800e033>\u001b[0m in \u001b[0;36m<module>\u001b[1;34m\u001b[0m\n\u001b[0;32m      5\u001b[0m \u001b[1;33m\u001b[0m\u001b[0m\n\u001b[0;32m      6\u001b[0m \u001b[0mlabels\u001b[0m \u001b[1;33m=\u001b[0m \u001b[0mnp\u001b[0m\u001b[1;33m.\u001b[0m\u001b[0mzeros\u001b[0m\u001b[1;33m(\u001b[0m\u001b[1;33m(\u001b[0m\u001b[0mdim_y\u001b[0m\u001b[1;33m,\u001b[0m \u001b[0mdim_x\u001b[0m\u001b[1;33m,\u001b[0m \u001b[0mn_labels\u001b[0m\u001b[1;33m)\u001b[0m\u001b[1;33m)\u001b[0m\u001b[1;33m\u001b[0m\u001b[1;33m\u001b[0m\u001b[0m\n\u001b[1;32m----> 7\u001b[1;33m \u001b[0mlabels\u001b[0m\u001b[1;33m[\u001b[0m\u001b[0mmask\u001b[0m\u001b[1;33m[\u001b[0m\u001b[1;36m0\u001b[0m\u001b[1;33m]\u001b[0m\u001b[1;33m.\u001b[0m\u001b[0mtolist\u001b[0m\u001b[1;33m(\u001b[0m\u001b[1;33m)\u001b[0m\u001b[1;33m]\u001b[0m \u001b[1;33m=\u001b[0m \u001b[1;36m1\u001b[0m\u001b[1;33m\u001b[0m\u001b[1;33m\u001b[0m\u001b[0m\n\u001b[0m\u001b[0;32m      8\u001b[0m \u001b[0mlabels\u001b[0m\u001b[1;33m\u001b[0m\u001b[1;33m\u001b[0m\u001b[0m\n",
      "\u001b[1;31mIndexError\u001b[0m: too many indices for array: array is 3-dimensional, but 5 were indexed"
     ]
    }
   ],
   "source": [
    "dim_y = 5\n",
    "dim_x = 5\n",
    "n_labels = len(np.unique(mask))\n",
    "print(n_labels)\n",
    "\n",
    "labels = np.zeros((dim_y, dim_x, n_labels))\n",
    "labels[mask[0].tolist()] = 1\n",
    "labels"
   ]
  },
  {
   "cell_type": "code",
   "execution_count": 27,
   "id": "widespread-samba",
   "metadata": {},
   "outputs": [],
   "source": [
    "for n in range(n_channels):\n",
    "    image_channel = image[:,n,...]\n",
    "    for label in labels:\n",
    "        selection = np.where(mask == label, image_channel, 0)\n",
    "        _sum = selection.sum()\n",
    "        _n_pixel = (selection>0).sum()"
   ]
  },
  {
   "cell_type": "code",
   "execution_count": 29,
   "id": "scenic-furniture",
   "metadata": {},
   "outputs": [
    {
     "data": {
      "text/plain": [
       "12"
      ]
     },
     "execution_count": 29,
     "metadata": {},
     "output_type": "execute_result"
    }
   ],
   "source": [
    "_n_pixel"
   ]
  },
  {
   "cell_type": "code",
   "execution_count": 26,
   "id": "recorded-freedom",
   "metadata": {},
   "outputs": [
    {
     "data": {
      "text/plain": [
       "12"
      ]
     },
     "execution_count": 26,
     "metadata": {},
     "output_type": "execute_result"
    }
   ],
   "source": [
    "(selection>0).sum()"
   ]
  },
  {
   "cell_type": "code",
   "execution_count": 85,
   "id": "requested-kingdom",
   "metadata": {},
   "outputs": [],
   "source": [
    "# Result (n_labels, n_channels, n_features) features: n_pixel, sum_pixels\n",
    "m1 = np.random.rand(5,3,2)\n",
    "m2 = np.random.rand(3,2,2)"
   ]
  },
  {
   "cell_type": "code",
   "execution_count": 86,
   "id": "central-museum",
   "metadata": {},
   "outputs": [
    {
     "data": {
      "text/plain": [
       "array([[[0.08207416, 0.21728226],\n",
       "        [0.71620019, 0.97279565]],\n",
       "\n",
       "       [[0.81692637, 0.3083381 ],\n",
       "        [0.07372536, 0.38231941]],\n",
       "\n",
       "       [[0.46236955, 0.24688524],\n",
       "        [0.39827825, 0.73632517]]])"
      ]
     },
     "execution_count": 86,
     "metadata": {},
     "output_type": "execute_result"
    }
   ],
   "source": [
    "m2"
   ]
  },
  {
   "cell_type": "code",
   "execution_count": 87,
   "id": "funky-snake",
   "metadata": {},
   "outputs": [],
   "source": [
    "channel_names_1 = [\"c0\", \"c1\", \"c2\"]\n",
    "channel_names_2 = [\"c0\", \"c1\"]\n",
    "features = [\"n_pixels\", \"sum_intensity\"]\n"
   ]
  },
  {
   "cell_type": "code",
   "execution_count": 88,
   "id": "tropical-sauce",
   "metadata": {},
   "outputs": [],
   "source": [
    "test_reshaped = test.reshape((2, -1), order = \"C\")"
   ]
  },
  {
   "cell_type": "code",
   "execution_count": 89,
   "id": "amazing-tractor",
   "metadata": {},
   "outputs": [
    {
     "name": "stdout",
     "output_type": "stream",
     "text": [
      "['c0_n_pixels', 'c0_sum_intensity', 'c1_n_pixels', 'c1_sum_intensity', 'c2_n_pixels', 'c2_sum_intensity']\n",
      "['c0_n_pixels', 'c0_sum_intensity', 'c1_n_pixels', 'c1_sum_intensity']\n"
     ]
    }
   ],
   "source": [
    "colnames_1 = []\n",
    "for c in channel_names_1:\n",
    "    for f in features:\n",
    "        colnames_1.append(f\"{c}_{f}\")\n",
    "colnames_2 = []\n",
    "for c in channel_names_2:\n",
    "    for f in features:\n",
    "        colnames_2.append(f\"{c}_{f}\")\n",
    "        \n",
    "print(colnames_1)\n",
    "print(colnames_2)"
   ]
  },
  {
   "cell_type": "code",
   "execution_count": 90,
   "id": "optical-bottle",
   "metadata": {},
   "outputs": [],
   "source": [
    "m1_r = m1.reshape((m1.shape[0], -1), order = \"C\")\n",
    "m2_r = m2.reshape((m2.shape[0], -1), order = \"C\")\n",
    "\n"
   ]
  },
  {
   "cell_type": "code",
   "execution_count": 102,
   "id": "short-warrior",
   "metadata": {},
   "outputs": [],
   "source": [
    "m1_bg = [0.1, 0.2, 0.1]\n",
    "m2_bg = [0.2, 0.1]\n",
    "\n",
    "bg_cols_1 = [f\"{c}_bg\" for c in channel_names_1]\n",
    "bg_cols_2 = [f\"{c}_bg\" for c in channel_names_2]"
   ]
  },
  {
   "cell_type": "code",
   "execution_count": 107,
   "id": "operating-feeling",
   "metadata": {},
   "outputs": [],
   "source": [
    "df1 = pd.DataFrame(m1_r, columns = colnames_1)\n",
    "for i, col in enumerate(bg_cols_1):\n",
    "    df1[col] = m1_bg[i]\n",
    "df1[\"image\"] = \"image1\"\n",
    "df1[\"group\"] = \"group1\"\n",
    "df2 = pd.DataFrame(m2_r, columns = colnames_2)\n",
    "for i, col in enumerate(bg_cols_2):\n",
    "    df2[col] = m2_bg[i]\n",
    "df2[\"image\"] = \"image2\"\n",
    "df2[\"group\"] = \"group1\""
   ]
  },
  {
   "cell_type": "code",
   "execution_count": 108,
   "id": "classified-kingston",
   "metadata": {},
   "outputs": [],
   "source": [
    "df_joined = df1.merge(df2, how = \"outer\")"
   ]
  },
  {
   "cell_type": "code",
   "execution_count": 109,
   "id": "killing-closure",
   "metadata": {},
   "outputs": [
    {
     "data": {
      "text/html": [
       "<div>\n",
       "<style scoped>\n",
       "    .dataframe tbody tr th:only-of-type {\n",
       "        vertical-align: middle;\n",
       "    }\n",
       "\n",
       "    .dataframe tbody tr th {\n",
       "        vertical-align: top;\n",
       "    }\n",
       "\n",
       "    .dataframe thead th {\n",
       "        text-align: right;\n",
       "    }\n",
       "</style>\n",
       "<table border=\"1\" class=\"dataframe\">\n",
       "  <thead>\n",
       "    <tr style=\"text-align: right;\">\n",
       "      <th></th>\n",
       "      <th>c0_n_pixels</th>\n",
       "      <th>c0_sum_intensity</th>\n",
       "      <th>c1_n_pixels</th>\n",
       "      <th>c1_sum_intensity</th>\n",
       "      <th>c2_n_pixels</th>\n",
       "      <th>c2_sum_intensity</th>\n",
       "      <th>c0_bg</th>\n",
       "      <th>c1_bg</th>\n",
       "      <th>c2_bg</th>\n",
       "      <th>image</th>\n",
       "      <th>group</th>\n",
       "    </tr>\n",
       "  </thead>\n",
       "  <tbody>\n",
       "    <tr>\n",
       "      <th>0</th>\n",
       "      <td>0.259172</td>\n",
       "      <td>0.146337</td>\n",
       "      <td>0.336967</td>\n",
       "      <td>0.436823</td>\n",
       "      <td>0.804714</td>\n",
       "      <td>0.363921</td>\n",
       "      <td>0.1</td>\n",
       "      <td>0.2</td>\n",
       "      <td>0.1</td>\n",
       "      <td>image1</td>\n",
       "      <td>group1</td>\n",
       "    </tr>\n",
       "    <tr>\n",
       "      <th>1</th>\n",
       "      <td>0.704974</td>\n",
       "      <td>0.274422</td>\n",
       "      <td>0.972267</td>\n",
       "      <td>0.778666</td>\n",
       "      <td>0.654885</td>\n",
       "      <td>0.840030</td>\n",
       "      <td>0.1</td>\n",
       "      <td>0.2</td>\n",
       "      <td>0.1</td>\n",
       "      <td>image1</td>\n",
       "      <td>group1</td>\n",
       "    </tr>\n",
       "    <tr>\n",
       "      <th>2</th>\n",
       "      <td>0.905202</td>\n",
       "      <td>0.386724</td>\n",
       "      <td>0.334671</td>\n",
       "      <td>0.586859</td>\n",
       "      <td>0.542308</td>\n",
       "      <td>0.276068</td>\n",
       "      <td>0.1</td>\n",
       "      <td>0.2</td>\n",
       "      <td>0.1</td>\n",
       "      <td>image1</td>\n",
       "      <td>group1</td>\n",
       "    </tr>\n",
       "    <tr>\n",
       "      <th>3</th>\n",
       "      <td>0.083361</td>\n",
       "      <td>0.132900</td>\n",
       "      <td>0.631995</td>\n",
       "      <td>0.486296</td>\n",
       "      <td>0.219531</td>\n",
       "      <td>0.648651</td>\n",
       "      <td>0.1</td>\n",
       "      <td>0.2</td>\n",
       "      <td>0.1</td>\n",
       "      <td>image1</td>\n",
       "      <td>group1</td>\n",
       "    </tr>\n",
       "    <tr>\n",
       "      <th>4</th>\n",
       "      <td>0.932920</td>\n",
       "      <td>0.212294</td>\n",
       "      <td>0.420387</td>\n",
       "      <td>0.000376</td>\n",
       "      <td>0.535854</td>\n",
       "      <td>0.171692</td>\n",
       "      <td>0.1</td>\n",
       "      <td>0.2</td>\n",
       "      <td>0.1</td>\n",
       "      <td>image1</td>\n",
       "      <td>group1</td>\n",
       "    </tr>\n",
       "    <tr>\n",
       "      <th>5</th>\n",
       "      <td>0.082074</td>\n",
       "      <td>0.217282</td>\n",
       "      <td>0.716200</td>\n",
       "      <td>0.972796</td>\n",
       "      <td>NaN</td>\n",
       "      <td>NaN</td>\n",
       "      <td>0.2</td>\n",
       "      <td>0.1</td>\n",
       "      <td>NaN</td>\n",
       "      <td>image2</td>\n",
       "      <td>group1</td>\n",
       "    </tr>\n",
       "    <tr>\n",
       "      <th>6</th>\n",
       "      <td>0.816926</td>\n",
       "      <td>0.308338</td>\n",
       "      <td>0.073725</td>\n",
       "      <td>0.382319</td>\n",
       "      <td>NaN</td>\n",
       "      <td>NaN</td>\n",
       "      <td>0.2</td>\n",
       "      <td>0.1</td>\n",
       "      <td>NaN</td>\n",
       "      <td>image2</td>\n",
       "      <td>group1</td>\n",
       "    </tr>\n",
       "    <tr>\n",
       "      <th>7</th>\n",
       "      <td>0.462370</td>\n",
       "      <td>0.246885</td>\n",
       "      <td>0.398278</td>\n",
       "      <td>0.736325</td>\n",
       "      <td>NaN</td>\n",
       "      <td>NaN</td>\n",
       "      <td>0.2</td>\n",
       "      <td>0.1</td>\n",
       "      <td>NaN</td>\n",
       "      <td>image2</td>\n",
       "      <td>group1</td>\n",
       "    </tr>\n",
       "  </tbody>\n",
       "</table>\n",
       "</div>"
      ],
      "text/plain": [
       "   c0_n_pixels  c0_sum_intensity  c1_n_pixels  c1_sum_intensity  c2_n_pixels  \\\n",
       "0     0.259172          0.146337     0.336967          0.436823     0.804714   \n",
       "1     0.704974          0.274422     0.972267          0.778666     0.654885   \n",
       "2     0.905202          0.386724     0.334671          0.586859     0.542308   \n",
       "3     0.083361          0.132900     0.631995          0.486296     0.219531   \n",
       "4     0.932920          0.212294     0.420387          0.000376     0.535854   \n",
       "5     0.082074          0.217282     0.716200          0.972796          NaN   \n",
       "6     0.816926          0.308338     0.073725          0.382319          NaN   \n",
       "7     0.462370          0.246885     0.398278          0.736325          NaN   \n",
       "\n",
       "   c2_sum_intensity  c0_bg  c1_bg  c2_bg   image   group  \n",
       "0          0.363921    0.1    0.2    0.1  image1  group1  \n",
       "1          0.840030    0.1    0.2    0.1  image1  group1  \n",
       "2          0.276068    0.1    0.2    0.1  image1  group1  \n",
       "3          0.648651    0.1    0.2    0.1  image1  group1  \n",
       "4          0.171692    0.1    0.2    0.1  image1  group1  \n",
       "5               NaN    0.2    0.1    NaN  image2  group1  \n",
       "6               NaN    0.2    0.1    NaN  image2  group1  \n",
       "7               NaN    0.2    0.1    NaN  image2  group1  "
      ]
     },
     "execution_count": 109,
     "metadata": {},
     "output_type": "execute_result"
    }
   ],
   "source": [
    "df_joined"
   ]
  },
  {
   "cell_type": "code",
   "execution_count": 3,
   "id": "outer-doctor",
   "metadata": {},
   "outputs": [],
   "source": [
    "from datetime import datetime as dt\n",
    "dt.now().strftime(\"%Y.%m.%d %Hh %Mmin %Ss\")"
   ]
  },
  {
   "cell_type": "code",
   "execution_count": 8,
   "id": "occupied-yorkshire",
   "metadata": {},
   "outputs": [
    {
     "data": {
      "image/png": "[encoded data removed]",
      "text/plain": [
       "<Figure size 432x288 with 4 Axes>"
      ]
     },
     "metadata": {
      "needs_background": "light"
     },
     "output_type": "display_data"
    }
   ],
   "source": [
    "import matplotlib.pyplot as plt\n",
    "\n",
    "from skimage import data, color\n",
    "from skimage.transform import rescale, resize, downscale_local_mean\n",
    "\n",
    "image = color.rgb2gray(data.astronaut())\n",
    "\n",
    "image_rescaled = rescale(image, 0.25, anti_aliasing=False)\n",
    "image_resized = resize(image, (image.shape[0] // 4, image.shape[1] // 4),\n",
    "                       anti_aliasing=True)\n",
    "image_downscaled = downscale_local_mean(image, (4, 3))\n",
    "\n",
    "fig, axes = plt.subplots(nrows=2, ncols=2)\n",
    "\n",
    "ax = axes.ravel()\n",
    "\n",
    "ax[0].imshow(image, cmap='gray')\n",
    "ax[0].set_title(\"Original image\")\n",
    "\n",
    "ax[1].imshow(image_rescaled, cmap='gray')\n",
    "ax[1].set_title(\"Rescaled image (aliasing)\")\n",
    "\n",
    "ax[2].imshow(image_resized, cmap='gray')\n",
    "ax[2].set_title(\"Resized image (no aliasing)\")\n",
    "\n",
    "ax[3].imshow(image_downscaled, cmap='gray')\n",
    "ax[3].set_title(\"Downscaled image (no aliasing)\")\n",
    "\n",
    "ax[0].set_xlim(0, 512)\n",
    "ax[0].set_ylim(512, 0)\n",
    "plt.tight_layout()\n",
    "plt.show()"
   ]
  },
  {
   "cell_type": "code",
   "execution_count": null,
   "id": "together-fence",
   "metadata": {},
   "outputs": [],
   "source": []
  }
 ],
 "metadata": {
  "kernelspec": {
   "display_name": "Python 3",
   "language": "python",
   "name": "python3"
  },
  "language_info": {
   "codemirror_mode": {
    "name": "ipython",
    "version": 3
   },
   "file_extension": ".py",
   "mimetype": "text/x-python",
   "name": "python",
   "nbconvert_exporter": "python",
   "pygments_lexer": "ipython3",
   "version": "3.8.5"
  }
 },
 "nbformat": 4,
 "nbformat_minor": 5
}
