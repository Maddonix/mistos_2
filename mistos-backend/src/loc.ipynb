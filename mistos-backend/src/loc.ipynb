{
 "cells": [
  {
   "cell_type": "markdown",
   "metadata": {},
   "source": [
    "### Simple Notebook, that counts the lines of code inside the project."
   ]
  },
  {
   "cell_type": "code",
   "execution_count": 1,
   "metadata": {},
   "outputs": [],
   "source": [
    "import glob\n",
    "import os\n",
    "\n",
    "from json import load"
   ]
  },
  {
   "cell_type": "code",
   "execution_count": 2,
   "metadata": {},
   "outputs": [],
   "source": [
    "def count_loc_in_notebooks(nb):\n",
    "    cells = load(open(nb))['cells']\n",
    "    return sum(len(c['source']) for c in cells if c['cell_type'] == 'code')\n",
    "\n",
    "def countlines(start, lines=0, header=True, begin_start=None):\n",
    "    if header:\n",
    "        print('{:>10} |{:>10} | {:<20}'.format('ADDED', 'TOTAL', 'FILE'))\n",
    "        print('{:->11}|{:->11}|{:->20}'.format('', '', ''))\n",
    "\n",
    "    for thing in os.listdir(start):\n",
    "        thing = os.path.join(start, thing)\n",
    "        if os.path.isfile(thing):\n",
    "            if \"ipynb_checkpoints\" in thing:\n",
    "                continue\n",
    "            if thing.endswith('.py'):\n",
    "                with open(thing, 'r') as f:\n",
    "                    alllines = f.readlines()\n",
    "                    #newlines = len(alllines)\n",
    "                    newlines = 0\n",
    "                    for l in alllines:\n",
    "                        if l.isspace():\n",
    "                            # don't count empty lines\n",
    "                            continue\n",
    "                        newlines += 1\n",
    "                    \n",
    "                    lines += newlines\n",
    "\n",
    "                    if begin_start is not None:\n",
    "                        reldir_of_thing = '.' + thing.replace(begin_start, '')\n",
    "                    else:\n",
    "                        reldir_of_thing = '.' + thing.replace(start, '')\n",
    "\n",
    "                    print('{:>10} |{:>10} | {:<20}'.format(\n",
    "                            newlines, lines, reldir_of_thing))\n",
    "            if thing.endswith('.ipynb'):\n",
    "                with open(thing, 'r') as f:\n",
    "                    cells = load(f)['cells']\n",
    "                    newlines = sum(len(c['source']) for c in cells if c['cell_type'] == 'code')\n",
    "                    lines += newlines\n",
    "                    \n",
    "                    if begin_start is not None:\n",
    "                        reldir_of_thing = '.' + thing.replace(begin_start, '')\n",
    "                    else:\n",
    "                        reldir_of_thing = '.' + thing.replace(start, '')\n",
    "                    \n",
    "                    print('{:>10} |{:>10} | {:<20}'.format(\n",
    "                            newlines, lines, reldir_of_thing))\n",
    "\n",
    "\n",
    "    for thing in os.listdir(start):\n",
    "        thing = os.path.join(start, thing)\n",
    "        if os.path.isdir(thing):\n",
    "            lines = countlines(thing, lines, header=False, begin_start=start)\n",
    "\n",
    "    return lines\n",
    "\n",
    "#notebooks = glob.glob('../*.ipynb')\n",
    "#loc = 0\n",
    "#for notebook in notebooks:\n",
    "#    loc += count_loc_in_notebooks(notebook)\n",
    "#print(f\"The total lines of code in the jupyter notebooks is: {loc}\")"
   ]
  },
  {
   "cell_type": "code",
   "execution_count": 3,
   "metadata": {},
   "outputs": [
    {
     "name": "stdout",
     "output_type": "stream",
     "text": [
      "     ADDED |     TOTAL | FILE                \n",
      "-----------|-----------|--------------------\n",
      "        12 |        12 | .00_tutorial_db.ipynb\n",
      "         4 |        16 | .cfg.py             \n",
      "         0 |        16 | .fileserver.py      \n",
      "        67 |        83 | .loc.ipynb          \n",
      "        76 |       159 | .main.py            \n",
      "       122 |       281 | .measure_prototyping.ipynb\n",
      "        35 |       316 | .paths.ipynb        \n",
      "       133 |       449 | .w_database.ipynb   \n",
      "       410 |       859 | .app\\crud.py        \n",
      "         9 |       868 | .app\\database.py    \n",
      "       137 |      1005 | .app\\db_models.py   \n",
      "        86 |      1091 | .app\\fileserver_requests.py\n",
      "         0 |      1091 | .app\\__init__.py    \n",
      "        20 |      1111 | .\\api\\cfg_classes.py\n",
      "        67 |      1178 | .\\api\\classes_com.py\n",
      "       299 |      1477 | .\\api\\classes_db.py \n",
      "       590 |      2067 | .\\api\\classes_internal.py\n",
      "       298 |      2365 | .\\api\\napari_viewer.py\n",
      "        53 |      2418 | .\\api\\utils_com.py  \n",
      "        97 |      2515 | .\\api\\utils_db.py   \n",
      "        33 |      2548 | .\\api\\utils_export.py\n",
      "        50 |      2598 | .\\api\\utils_garbage.py\n",
      "       303 |      2901 | .\\api\\utils_import.py\n",
      "        26 |      2927 | .\\api\\utils_napari.py\n",
      "       148 |      3075 | .\\api\\utils_paths.py\n",
      "        46 |      3121 | .\\api\\utils_results.py\n",
      "        89 |      3210 | .\\api\\utils_segmentation.py\n",
      "       218 |      3428 | .\\api\\utils_segmentation_random_forest.py\n",
      "        73 |      3501 | .\\api\\utils_transformations.py\n",
      "         0 |      3501 | .\\api\\__init__.py   \n",
      "        39 |      3540 | .\\com\\api_classifier.py\n",
      "        60 |      3600 | .\\com\\api_deepflash.py\n",
      "       166 |      3766 | .\\com\\api_experiments.py\n",
      "       219 |      3985 | .\\com\\api_images.py \n",
      "        54 |      4039 | .\\com\\api_request_models.py\n",
      "         9 |      4048 | .\\com\\hello.py      \n",
      "        34 |      4082 | .\\tests\\utils_tests.py\n",
      "         0 |      4082 | .\\tests\\__init__.py \n",
      "        39 |      4121 | .docs\\conf.py       \n",
      "         0 |      4121 | .fileserver\\__init__.py\n",
      "Total number of code lines in this project: 4121\n"
     ]
    }
   ],
   "source": [
    "total = countlines('./')\n",
    "print(f\"Total number of code lines in this project: {total}\")"
   ]
  },
  {
   "cell_type": "code",
   "execution_count": null,
   "metadata": {},
   "outputs": [],
   "source": []
  }
 ],
 "metadata": {
  "kernelspec": {
   "display_name": "Python 3",
   "language": "python",
   "name": "python3"
  },
  "language_info": {
   "codemirror_mode": {
    "name": "ipython",
    "version": 3
   },
   "file_extension": ".py",
   "mimetype": "text/x-python",
   "name": "python",
   "nbconvert_exporter": "python",
   "pygments_lexer": "ipython3",
   "version": "3.8.5"
  }
 },
 "nbformat": 4,
 "nbformat_minor": 4
}
