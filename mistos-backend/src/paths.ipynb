{
 "cells": [
  {
   "cell_type": "code",
   "execution_count": 9,
   "id": "organic-award",
   "metadata": {},
   "outputs": [],
   "source": [
    "import pathlib\n",
    "import os"
   ]
  },
  {
   "cell_type": "code",
   "execution_count": 7,
   "id": "limited-exhibit",
   "metadata": {},
   "outputs": [],
   "source": [
    "fileserver = pathlib.Path(\"F:\\\\Data_Storage\\\\AG_Rittner\\\\Microscope Framework\\\\data\\\\deployment_test\")\n",
    "\n",
    "image_folder = pathlib.Path(\"images\")\n",
    "metadata_folder = pathlib.Path(\"metadata\")\n",
    "result_layers_folder = pathlib.Path(\"result_layers\")\n",
    "result_folder = pathlib.Path(\"results\")\n",
    "measurement_folder = pathlib.Path(\"measurements\")\n",
    "clf_folder = pathlib.Path(\"classifiers\")\n",
    "tmp_folder = pathlib.Path(\"_tmp\")\n",
    "garbage_json = pathlib.Path(\"garbage.json\")\n",
    "\n",
    "check_paths_list = [\n",
    "    \"\",\n",
    "    image_folder,\n",
    "    metadata_folder,\n",
    "    result_layers_folder,\n",
    "    result_folder,\n",
    "    measurement_folder,\n",
    "    clf_folder,\n",
    "    tmp_folder\n",
    "]\n",
    "check_paths_list = [fileserver.joinpath(path) for path in check_paths_list]\n",
    "\n",
    "for path in check_paths_list:\n",
    "    if not path.exists():\n",
    "        os.mkdir(path)\n",
    "        \n",
    "if not garbage_json.exists():\n",
    "    utils_garbage.create_garbage_json()"
   ]
  },
  {
   "cell_type": "code",
   "execution_count": 8,
   "id": "middle-elite",
   "metadata": {},
   "outputs": [
    {
     "data": {
      "text/plain": [
       "[WindowsPath('F:/Data_Storage/AG_Rittner/Microscope Framework/data/deployment_test'),\n",
       " WindowsPath('F:/Data_Storage/AG_Rittner/Microscope Framework/data/deployment_test/images'),\n",
       " WindowsPath('F:/Data_Storage/AG_Rittner/Microscope Framework/data/deployment_test/metadata'),\n",
       " WindowsPath('F:/Data_Storage/AG_Rittner/Microscope Framework/data/deployment_test/result_layers'),\n",
       " WindowsPath('F:/Data_Storage/AG_Rittner/Microscope Framework/data/deployment_test/results'),\n",
       " WindowsPath('F:/Data_Storage/AG_Rittner/Microscope Framework/data/deployment_test/measurements'),\n",
       " WindowsPath('F:/Data_Storage/AG_Rittner/Microscope Framework/data/deployment_test/classifiers'),\n",
       " WindowsPath('F:/Data_Storage/AG_Rittner/Microscope Framework/data/deployment_test/_tmp')]"
      ]
     },
     "execution_count": 8,
     "metadata": {},
     "output_type": "execute_result"
    }
   ],
   "source": [
    "check_paths_list"
   ]
  },
  {
   "cell_type": "code",
   "execution_count": 10,
   "id": "quantitative-uncertainty",
   "metadata": {},
   "outputs": [],
   "source": [
    "for path in check_paths_list:\n",
    "    if not path.exists():\n",
    "        os.mkdir(path)"
   ]
  },
  {
   "cell_type": "code",
   "execution_count": null,
   "id": "laden-associate",
   "metadata": {},
   "outputs": [],
   "source": []
  }
 ],
 "metadata": {
  "kernelspec": {
   "display_name": "Python 3",
   "language": "python",
   "name": "python3"
  },
  "language_info": {
   "codemirror_mode": {
    "name": "ipython",
    "version": 3
   },
   "file_extension": ".py",
   "mimetype": "text/x-python",
   "name": "python",
   "nbconvert_exporter": "python",
   "pygments_lexer": "ipython3",
   "version": "3.8.5"
  }
 },
 "nbformat": 4,
 "nbformat_minor": 5
}
