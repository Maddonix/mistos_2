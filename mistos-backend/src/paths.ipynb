{
 "cells": [
  {
   "cell_type": "code",
   "execution_count": 9,
   "id": "chubby-better",
   "metadata": {},
   "outputs": [],
   "source": [
    "import pathlib\n",
    "import os"
   ]
  },
  {
   "cell_type": "code",
   "execution_count": 7,
   "id": "textile-beijing",
   "metadata": {},
   "outputs": [],
   "source": [
    "fileserver = pathlib.Path(\"F:\\\\Data_Storage\\\\AG_Rittner\\\\Microscope Framework\\\\data\\\\deployment_test\")\n",
    "\n",
    "image_folder = pathlib.Path(\"images\")\n",
    "metadata_folder = pathlib.Path(\"metadata\")\n",
    "result_layers_folder = pathlib.Path(\"result_layers\")\n",
    "result_folder = pathlib.Path(\"results\")\n",
    "measurement_folder = pathlib.Path(\"measurements\")\n",
    "clf_folder = pathlib.Path(\"classifiers\")\n",
    "tmp_folder = pathlib.Path(\"_tmp\")\n",
    "garbage_json = pathlib.Path(\"garbage.json\")\n",
    "\n",
    "check_paths_list = [\n",
    "    \"\",\n",
    "    image_folder,\n",
    "    metadata_folder,\n",
    "    result_layers_folder,\n",
    "    result_folder,\n",
    "    measurement_folder,\n",
    "    clf_folder,\n",
    "    tmp_folder\n",
    "]\n",
    "check_paths_list = [fileserver.joinpath(path) for path in check_paths_list]\n",
    "\n",
    "for path in check_paths_list:\n",
    "    if not path.exists():\n",
    "        os.mkdir(path)\n",
    "        \n",
    "if not garbage_json.exists():\n",
    "    utils_garbage.create_garbage_json()"
   ]
  },
  {
   "cell_type": "code",
   "execution_count": 8,
   "id": "royal-evanescence",
   "metadata": {},
   "outputs": [
    {
     "data": {
      "text/plain": [
       "[WindowsPath('F:/Data_Storage/AG_Rittner/Microscope Framework/data/deployment_test'),\n",
       " WindowsPath('F:/Data_Storage/AG_Rittner/Microscope Framework/data/deployment_test/images'),\n",
       " WindowsPath('F:/Data_Storage/AG_Rittner/Microscope Framework/data/deployment_test/metadata'),\n",
       " WindowsPath('F:/Data_Storage/AG_Rittner/Microscope Framework/data/deployment_test/result_layers'),\n",
       " WindowsPath('F:/Data_Storage/AG_Rittner/Microscope Framework/data/deployment_test/results'),\n",
       " WindowsPath('F:/Data_Storage/AG_Rittner/Microscope Framework/data/deployment_test/measurements'),\n",
       " WindowsPath('F:/Data_Storage/AG_Rittner/Microscope Framework/data/deployment_test/classifiers'),\n",
       " WindowsPath('F:/Data_Storage/AG_Rittner/Microscope Framework/data/deployment_test/_tmp')]"
      ]
     },
     "execution_count": 8,
     "metadata": {},
     "output_type": "execute_result"
    }
   ],
   "source": [
    "check_paths_list"
   ]
  },
  {
   "cell_type": "code",
   "execution_count": 10,
   "id": "individual-following",
   "metadata": {},
   "outputs": [],
   "source": [
    "for path in check_paths_list:\n",
    "    if not path.exists():\n",
    "        os.mkdir(path)"
   ]
  },
  {
   "cell_type": "code",
   "execution_count": 2,
   "id": "sublime-halloween",
   "metadata": {},
   "outputs": [],
   "source": [
    "import json\n",
    "import pathlib"
   ]
  },
  {
   "cell_type": "code",
   "execution_count": 12,
   "id": "gross-superintendent",
   "metadata": {},
   "outputs": [],
   "source": [
    "path_cfg = pathlib.Path(pathlib.Path.cwd()).parents[1].joinpath(\"config.json\")\n",
    "with open(path_cfg, \"r\") as _file:\n",
    "    cfg_json = json.load(_file)"
   ]
  },
  {
   "cell_type": "code",
   "execution_count": 25,
   "id": "through-increase",
   "metadata": {},
   "outputs": [],
   "source": [
    "export_folder = pathlib.Path(\"WÜDÜDÜD\")"
   ]
  },
  {
   "cell_type": "code",
   "execution_count": 26,
   "id": "straight-canada",
   "metadata": {},
   "outputs": [
    {
     "name": "stdout",
     "output_type": "stream",
     "text": [
      "ASDASD\n"
     ]
    }
   ],
   "source": [
    "if export_folder.as_posix() == \".\" or not export_folder.exists():\n",
    "    print(\"ASDASD\")"
   ]
  },
  {
   "cell_type": "code",
   "execution_count": 23,
   "id": "secure-perry",
   "metadata": {},
   "outputs": [
    {
     "data": {
      "text/plain": [
       "'.'"
      ]
     },
     "execution_count": 23,
     "metadata": {},
     "output_type": "execute_result"
    }
   ],
   "source": [
    "export_folder.as_posix()"
   ]
  },
  {
   "cell_type": "code",
   "execution_count": 27,
   "id": "blond-penalty",
   "metadata": {},
   "outputs": [
    {
     "data": {
      "text/plain": [
       "WindowsPath('C:/Users/tlux1')"
      ]
     },
     "execution_count": 27,
     "metadata": {},
     "output_type": "execute_result"
    }
   ],
   "source": [
    "pathlib.Path.home()"
   ]
  },
  {
   "cell_type": "code",
   "execution_count": null,
   "id": "dress-clearance",
   "metadata": {},
   "outputs": [],
   "source": []
  }
 ],
 "metadata": {
  "kernelspec": {
   "display_name": "Python 3",
   "language": "python",
   "name": "python3"
  },
  "language_info": {
   "codemirror_mode": {
    "name": "ipython",
    "version": 3
   },
   "file_extension": ".py",
   "mimetype": "text/x-python",
   "name": "python",
   "nbconvert_exporter": "python",
   "pygments_lexer": "ipython3",
   "version": "3.8.5"
  }
 },
 "nbformat": 4,
 "nbformat_minor": 5
}
