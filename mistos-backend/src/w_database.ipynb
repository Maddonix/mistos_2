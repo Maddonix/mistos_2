{
 "cells": [
  {
   "cell_type": "code",
   "execution_count": 1,
   "id": "involved-elimination",
   "metadata": {},
   "outputs": [
    {
     "name": "stdout",
     "output_type": "stream",
     "text": [
      "Found model '2D_versatile_fluo' for 'StarDist2D'.\n",
      "Loading network weights from 'weights_best.h5'.\n",
      "Loading thresholds from 'thresholds.json'.\n",
      "Using default values: prob_thresh=0.479071, nms_thresh=0.3.\n"
     ]
    }
   ],
   "source": [
    "import importlib\n",
    "import numpy as np\n",
    "from fastapi import APIRouter, Depends, HTTPException\n",
    "import glob\n",
    "import pathlib\n",
    "import zarr\n",
    "import os\n",
    "from pydantic import BaseModel\n",
    "from typing import List, Optional\n",
    "import matplotlib.pyplot as plt\n",
    "# import napari\n",
    "\n",
    "# Import db\n",
    "from app import db_models\n",
    "from app.database import SessionLocal, engine\n",
    "import app.crud as crud\n",
    "\n",
    "# Import classes\n",
    "from app.api import classes_internal as c_int\n",
    "from app.api import classes_db as c_db\n",
    "from app.api import classes_com as c_com\n",
    "from app.api import utils_com as utils_com\n",
    "# from app.api import utils_classes as utils_classes\n",
    "from app.api import utils_import\n",
    "from app.api import utils_paths\n",
    "from app.tests import utils_tests\n",
    "from app.api import napari_viewer\n",
    "from app.api import utils_segmentation_random_forest as utils_seg_rf"
   ]
  },
  {
   "cell_type": "code",
   "execution_count": 14,
   "id": "christian-association",
   "metadata": {},
   "outputs": [],
   "source": [
    "path =  r\"F:\\Data_Storage\\AG_Rittner\\Microscope Framework\\data\\fileserver_folder\\_tmp\\0_181129_NF200_CCI1w_05_01_20x1,5.oib\"\n",
    "# path = r\"C:\\Users\\tlux1\\Desktop\\Data_RNAscope\\Images_RNAscope_ADGRL1_3\\NF200\\CCI1w\""
   ]
  },
  {
   "cell_type": "code",
   "execution_count": 15,
   "id": "promising-spanking",
   "metadata": {
    "collapsed": true,
    "jupyter": {
     "outputs_hidden": true
    }
   },
   "outputs": [
    {
     "name": "stdout",
     "output_type": "stream",
     "text": [
      "F:\\Data_Storage\\AG_Rittner\\Microscope Framework\\data\\fileserver_folder\\_tmp\\0_181129_NF200_CCI1w_05_01_20x1,5.oib\n",
      "F:/Data_Storage/AG_Rittner/Microscope Framework/data/fileserver_folder/_tmp/0_181129_NF200_CCI1w_05_01_20x1,5.oib\n"
     ]
    },
    {
     "data": {
      "text/plain": [
       "([(array([[[[1.05287251e-03, 1.51064317e-03, 1.12916762e-03, ...,\n",
       "             1.34279393e-03, 1.72426947e-03, 1.32753490e-03],\n",
       "            [1.05287251e-03, 1.70901045e-03, 1.20546273e-03, ...,\n",
       "             1.57167925e-03, 1.51064317e-03, 1.17494469e-03],\n",
       "            [1.03761349e-03, 1.14442664e-03, 1.11390860e-03, ...,\n",
       "             2.16678111e-03, 1.67849241e-03, 1.28175784e-03],\n",
       "            ...,\n",
       "            [1.06813153e-03, 2.24307622e-03, 1.49538415e-03, ...,\n",
       "             6.22568093e-03, 4.97444114e-03, 7.43114389e-03],\n",
       "            [1.64797436e-03, 1.34279393e-03, 1.58693828e-03, ...,\n",
       "             6.53086137e-03, 8.39246251e-03, 5.72213344e-03],\n",
       "            [1.77004654e-03, 1.29701686e-03, 1.14442664e-03, ...,\n",
       "             4.47089365e-03, 6.39353041e-03, 5.20332670e-03]],\n",
       "   \n",
       "           [[1.66323339e-03, 1.66323339e-03, 5.26436279e-03, ...,\n",
       "             1.86160067e-03, 4.21149004e-03, 1.95315480e-03],\n",
       "            [2.71610590e-03, 1.73952850e-03, 2.62455177e-03, ...,\n",
       "             1.60219730e-03, 2.04470893e-03, 1.61745632e-03],\n",
       "            [1.96841382e-03, 1.70901045e-03, 1.69375143e-03, ...,\n",
       "             1.61745632e-03, 3.70794232e-03, 1.73952850e-03],\n",
       "            ...,\n",
       "            [4.80659213e-03, 1.89211871e-03, 1.73952850e-03, ...,\n",
       "             3.93682765e-03, 1.90737774e-03, 3.66216525e-03],\n",
       "            [2.31937133e-03, 2.12100404e-03, 1.61745632e-03, ...,\n",
       "             2.25833524e-03, 1.64797436e-03, 1.61745632e-03],\n",
       "            [2.38040742e-03, 2.22781720e-03, 2.79240101e-03, ...,\n",
       "             1.73952850e-03, 1.64797436e-03, 2.56351568e-03]],\n",
       "   \n",
       "           [[0.00000000e+00, 0.00000000e+00, 0.00000000e+00, ...,\n",
       "             6.10360876e-05, 0.00000000e+00, 2.44144350e-04],\n",
       "            [5.79842832e-04, 0.00000000e+00, 0.00000000e+00, ...,\n",
       "             2.44144350e-03, 3.05180438e-05, 0.00000000e+00],\n",
       "            [0.00000000e+00, 0.00000000e+00, 2.16678111e-03, ...,\n",
       "             0.00000000e+00, 0.00000000e+00, 0.00000000e+00],\n",
       "            ...,\n",
       "            [1.06813153e-03, 4.57770657e-05, 0.00000000e+00, ...,\n",
       "             0.00000000e+00, 0.00000000e+00, 1.06813153e-04],\n",
       "            [0.00000000e+00, 0.00000000e+00, 0.00000000e+00, ...,\n",
       "             0.00000000e+00, 0.00000000e+00, 0.00000000e+00],\n",
       "            [1.46486610e-03, 4.57770657e-05, 0.00000000e+00, ...,\n",
       "             0.00000000e+00, 1.80056458e-03, 7.62951095e-05]]],\n",
       "   \n",
       "   \n",
       "          [[[1.38857099e-03, 1.84634165e-03, 1.20546273e-03, ...,\n",
       "             2.13626307e-03, 1.96841382e-03, 2.54825666e-03],\n",
       "            [1.84634165e-03, 1.15968566e-03, 1.11390860e-03, ...,\n",
       "             3.14335851e-03, 1.95315480e-03, 3.96734569e-03],\n",
       "            [1.20546273e-03, 1.17494469e-03, 1.15968566e-03, ...,\n",
       "             1.98367285e-03, 1.46486610e-03, 2.30411231e-03],\n",
       "            ...,\n",
       "            [1.86160067e-03, 1.25123980e-03, 1.80056458e-03, ...,\n",
       "             9.36903991e-03, 1.15205618e-02, 1.07118338e-02],\n",
       "            [1.25123980e-03, 1.55642023e-03, 1.34279393e-03, ...,\n",
       "             9.52162966e-03, 8.56031105e-03, 5.21858549e-03],\n",
       "            [1.29701686e-03, 1.11390860e-03, 1.09864958e-03, ...,\n",
       "             6.97337324e-03, 7.64477020e-03, 7.94995017e-03]],\n",
       "   \n",
       "           [[1.77004654e-03, 1.60219730e-03, 4.60822461e-03, ...,\n",
       "             2.21255817e-03, 1.64797436e-03, 1.63271534e-03],\n",
       "            [3.96734569e-03, 1.87685969e-03, 1.60219730e-03, ...,\n",
       "             1.89211871e-03, 1.81582361e-03, 1.66323339e-03],\n",
       "            [1.64797436e-03, 6.69871084e-03, 2.38040742e-03, ...,\n",
       "             1.61745632e-03, 1.64797436e-03, 3.49431601e-03],\n",
       "            ...,\n",
       "            [1.61745632e-03, 2.18204013e-03, 1.64797436e-03, ...,\n",
       "             2.44144350e-03, 1.66323339e-03, 1.98367285e-03],\n",
       "            [1.52590219e-03, 1.66323339e-03, 1.75478752e-03, ...,\n",
       "             3.20439460e-03, 1.78530556e-03, 1.66323339e-03],\n",
       "            [1.67849241e-03, 1.46486610e-03, 1.64797436e-03, ...,\n",
       "             1.70901045e-03, 1.58693828e-03, 1.44960708e-03]],\n",
       "   \n",
       "           [[0.00000000e+00, 0.00000000e+00, 1.86160067e-03, ...,\n",
       "             7.78210117e-04, 1.92263676e-03, 4.57770657e-05],\n",
       "            [0.00000000e+00, 0.00000000e+00, 0.00000000e+00, ...,\n",
       "             4.73029679e-04, 0.00000000e+00, 0.00000000e+00],\n",
       "            [0.00000000e+00, 0.00000000e+00, 0.00000000e+00, ...,\n",
       "             0.00000000e+00, 0.00000000e+00, 0.00000000e+00],\n",
       "            ...,\n",
       "            [0.00000000e+00, 0.00000000e+00, 0.00000000e+00, ...,\n",
       "             0.00000000e+00, 9.30800335e-04, 0.00000000e+00],\n",
       "            [0.00000000e+00, 1.28175784e-03, 1.25123980e-03, ...,\n",
       "             0.00000000e+00, 1.05287251e-03, 0.00000000e+00],\n",
       "            [6.10360876e-05, 0.00000000e+00, 3.05180438e-04, ...,\n",
       "             0.00000000e+00, 0.00000000e+00, 0.00000000e+00]]],\n",
       "   \n",
       "   \n",
       "          [[[1.26649882e-03, 1.09864958e-03, 1.25123980e-03, ...,\n",
       "             3.09758144e-03, 4.50141169e-03, 5.43221179e-03],\n",
       "            [1.66323339e-03, 1.19020371e-03, 1.58693828e-03, ...,\n",
       "             2.44144350e-03, 3.52483406e-03, 3.14335851e-03],\n",
       "            [1.20546273e-03, 1.17494469e-03, 1.11390860e-03, ...,\n",
       "             2.13626307e-03, 2.04470893e-03, 1.34279393e-03],\n",
       "            ...,\n",
       "            [1.11390860e-03, 1.25123980e-03, 1.81582361e-03, ...,\n",
       "             1.36873424e-02, 1.34737166e-02, 9.39955749e-03],\n",
       "            [1.25123980e-03, 1.29701686e-03, 1.81582361e-03, ...,\n",
       "             1.26955062e-02, 1.41145950e-02, 1.08186463e-02],\n",
       "            [1.14442664e-03, 1.17494469e-03, 1.58693828e-03, ...,\n",
       "             1.36720836e-02, 9.68947913e-03, 1.17647061e-02]],\n",
       "   \n",
       "           [[1.63271534e-03, 3.26543069e-03, 1.77004654e-03, ...,\n",
       "             3.49431601e-03, 4.31830343e-03, 2.62455177e-03],\n",
       "            [1.66323339e-03, 1.70901045e-03, 1.67849241e-03, ...,\n",
       "             2.50247959e-03, 3.20439460e-03, 3.54009308e-03],\n",
       "            [1.70901045e-03, 1.69375143e-03, 1.67849241e-03, ...,\n",
       "             1.73952850e-03, 1.52590219e-03, 1.66323339e-03],\n",
       "            ...,\n",
       "            [2.54825666e-03, 1.67849241e-03, 2.60929274e-03, ...,\n",
       "             3.32646677e-03, 6.08834997e-03, 2.34988937e-03],\n",
       "            [4.40985756e-03, 2.12100404e-03, 1.78530556e-03, ...,\n",
       "             2.56351568e-03, 1.80056458e-03, 5.66109736e-03],\n",
       "            [2.82291905e-03, 1.77004654e-03, 1.78530556e-03, ...,\n",
       "             1.67849241e-03, 1.63271534e-03, 1.66323339e-03]],\n",
       "   \n",
       "           [[0.00000000e+00, 2.57877470e-03, 2.74662394e-04, ...,\n",
       "             2.22781720e-03, 4.57770657e-04, 6.10360876e-04],\n",
       "            [0.00000000e+00, 0.00000000e+00, 0.00000000e+00, ...,\n",
       "             1.49538415e-03, 6.10360876e-05, 0.00000000e+00],\n",
       "            [0.00000000e+00, 0.00000000e+00, 1.81582361e-03, ...,\n",
       "             1.37331197e-04, 0.00000000e+00, 0.00000000e+00],\n",
       "            ...,\n",
       "            [0.00000000e+00, 0.00000000e+00, 0.00000000e+00, ...,\n",
       "             0.00000000e+00, 8.69764248e-04, 1.52590219e-05],\n",
       "            [0.00000000e+00, 0.00000000e+00, 0.00000000e+00, ...,\n",
       "             0.00000000e+00, 0.00000000e+00, 1.52590219e-05],\n",
       "            [1.95315480e-03, 0.00000000e+00, 0.00000000e+00, ...,\n",
       "             0.00000000e+00, 1.43434806e-03, 0.00000000e+00]]],\n",
       "   \n",
       "   \n",
       "          [[[1.06813153e-03, 1.05287251e-03, 1.15968566e-03, ...,\n",
       "             4.04364103e-03, 2.99076829e-03, 5.72213344e-03],\n",
       "            [1.06813153e-03, 1.08339055e-03, 1.17494469e-03, ...,\n",
       "             2.89921416e-03, 3.31120775e-03, 3.57061112e-03],\n",
       "            [1.22072175e-03, 1.17494469e-03, 1.08339055e-03, ...,\n",
       "             2.67032883e-03, 2.22781720e-03, 4.59296582e-03],\n",
       "            ...,\n",
       "            [1.54116121e-03, 1.34279393e-03, 1.84634165e-03, ...,\n",
       "             9.85732861e-03, 1.04982071e-02, 8.63660686e-03],\n",
       "            [1.31227588e-03, 1.17494469e-03, 1.22072175e-03, ...,\n",
       "             8.05676356e-03, 1.19630732e-02, 8.43823887e-03],\n",
       "            [1.19020371e-03, 1.11390860e-03, 1.15968566e-03, ...,\n",
       "             1.16273751e-02, 7.27855368e-03, 1.01167317e-02]],\n",
       "   \n",
       "           [[1.69375143e-03, 1.69375143e-03, 1.75478752e-03, ...,\n",
       "             2.73136492e-03, 1.92263676e-03, 2.73136492e-03],\n",
       "            [1.61745632e-03, 4.94392309e-03, 2.04470893e-03, ...,\n",
       "             2.94499123e-03, 2.85343709e-03, 2.02944991e-03],\n",
       "            [1.54116121e-03, 1.70901045e-03, 3.61638819e-03, ...,\n",
       "             2.53299763e-03, 2.19729915e-03, 1.70901045e-03],\n",
       "            ...,\n",
       "            [2.42618448e-03, 3.92156886e-03, 1.98367285e-03, ...,\n",
       "             1.63271534e-03, 2.63981079e-03, 1.84634165e-03],\n",
       "            [1.66323339e-03, 1.61745632e-03, 1.70901045e-03, ...,\n",
       "             3.32646677e-03, 1.80056458e-03, 1.77004654e-03],\n",
       "            [1.89211871e-03, 2.53299763e-03, 1.64797436e-03, ...,\n",
       "             1.64797436e-03, 1.64797436e-03, 1.69375143e-03]],\n",
       "   \n",
       "           [[0.00000000e+00, 0.00000000e+00, 3.05180438e-04, ...,\n",
       "             1.06813153e-04, 1.96841382e-03, 1.70901045e-03],\n",
       "            [9.15541314e-05, 0.00000000e+00, 0.00000000e+00, ...,\n",
       "             1.96841382e-03, 2.56351568e-03, 4.57770657e-05],\n",
       "            [0.00000000e+00, 0.00000000e+00, 1.22072175e-04, ...,\n",
       "             0.00000000e+00, 0.00000000e+00, 1.54116121e-03],\n",
       "            ...,\n",
       "            [0.00000000e+00, 0.00000000e+00, 0.00000000e+00, ...,\n",
       "             2.10574502e-03, 3.55535210e-03, 3.66216525e-04],\n",
       "            [0.00000000e+00, 1.23598077e-03, 0.00000000e+00, ...,\n",
       "             1.22072175e-03, 3.84527352e-03, 2.21255817e-03],\n",
       "            [2.09048600e-03, 1.22072175e-04, 1.77004654e-03, ...,\n",
       "             1.44960708e-03, 0.00000000e+00, 0.00000000e+00]]]]),\n",
       "   0)],\n",
       " {'n_series': 1,\n",
       "  'original_filename': '0_181129_NF200_CCI1w_05_01_20x1,5.oib',\n",
       "  'images': {0: {'image_name': 'Series 1',\n",
       "    'image_ID': 'Image_0',\n",
       "    'image_acquisition_date': None,\n",
       "    'pixel_dimensions': 'XYCZT',\n",
       "    'pixel_type': 'uint16',\n",
       "    'pixel_size_x': 1600,\n",
       "    'pixel_size_y': 1600,\n",
       "    'pixel_size_z': 4,\n",
       "    'pixel_size_slices': 3,\n",
       "    'pixel_size_physical_x': 0.265,\n",
       "    'pixel_size_physical_y': 0.265,\n",
       "    'pixel_size_physical_z': 1.0,\n",
       "    'pixel_size_physical_unit_x': 'µm',\n",
       "    'pixel_size_physical_unit_y': 'µm',\n",
       "    'pixel_size_physical_unit_z': 'µm',\n",
       "    'n_channels': 3,\n",
       "    'channel_names': ['CHS1', 'CHS2', 'CH3'],\n",
       "    'custom_channel_names': ['CHS1', 'CHS2', 'CH3']}}},\n",
       " <bioformats.omexml.OMEXML at 0x2243f587430>)"
      ]
     },
     "execution_count": 15,
     "metadata": {},
     "output_type": "execute_result"
    }
   ],
   "source": [
    "utils_import.read_image_file(path)"
   ]
  },
  {
   "cell_type": "code",
   "execution_count": 16,
   "id": "racial-flush",
   "metadata": {},
   "outputs": [
    {
     "data": {
      "text/plain": [
       "'DSDDSDDSD'"
      ]
     },
     "execution_count": 16,
     "metadata": {},
     "output_type": "execute_result"
    }
   ],
   "source": [
    "_ = \"ASDASDASD\"\n",
    "_.replace(\"A\", \"D\")"
   ]
  },
  {
   "cell_type": "code",
   "execution_count": 2,
   "id": "charitable-reggae",
   "metadata": {},
   "outputs": [],
   "source": [
    "# has to be included at top of main.py\n",
    "# db_models.Base.metadata.create_all(bind=engine)"
   ]
  },
  {
   "cell_type": "code",
   "execution_count": 3,
   "id": "subsequent-learning",
   "metadata": {},
   "outputs": [],
   "source": [
    "# import test images\n",
    "# utils_tests.import_test_images()"
   ]
  },
  {
   "cell_type": "code",
   "execution_count": 13,
   "id": "delayed-crossing",
   "metadata": {},
   "outputs": [
    {
     "name": "stdout",
     "output_type": "stream",
     "text": [
      "Found model '2D_versatile_fluo' for 'StarDist2D'.\n",
      "Loading network weights from 'weights_best.h5'.\n",
      "Loading thresholds from 'thresholds.json'.\n",
      "Using default values: prob_thresh=0.479071, nms_thresh=0.3.\n"
     ]
    },
    {
     "data": {
      "text/plain": [
       "<module 'app.api.napari_viewer' from 'D:\\\\Programming\\\\github\\\\mistos_2\\\\mistos-backend\\\\src\\\\app\\\\api\\\\napari_viewer.py'>"
      ]
     },
     "execution_count": 13,
     "metadata": {},
     "output_type": "execute_result"
    }
   ],
   "source": [
    "importlib.reload(utils_tests)\n",
    "importlib.reload(utils_import)\n",
    "importlib.reload(utils_paths)\n",
    "importlib.reload(c_int)\n",
    "importlib.reload(c_db)\n",
    "importlib.reload(utils_com)\n",
    "importlib.reload(c_com)\n",
    "importlib.reload(crud)\n",
    "importlib.reload(napari_viewer)"
   ]
  },
  {
   "cell_type": "code",
   "execution_count": 5,
   "id": "million-accessory",
   "metadata": {},
   "outputs": [],
   "source": [
    "from app.api import utils_segmentation_random_forest as utils_segmentation_rf"
   ]
  },
  {
   "cell_type": "code",
   "execution_count": 3,
   "id": "human-penguin",
   "metadata": {
    "collapsed": true,
    "jupyter": {
     "outputs_hidden": true
    }
   },
   "outputs": [
    {
     "name": "stdout",
     "output_type": "stream",
     "text": [
      "uid 5\n",
      "series_index 4\n",
      "name 0_test_czi.czi\n",
      "hint \n",
      "has_bg_layer False\n",
      "bg_layer_id None\n",
      "image_result_layers [IntImageResultLayer(uid=6, name='apply_stardist result', hint='', image_id=5, layer_type='labels', data=array([[0, 0, 0, ..., 0, 0, 0],\n",
      "       [0, 0, 0, ..., 0, 0, 0],\n",
      "       [0, 0, 0, ..., 0, 0, 0],\n",
      "       ...,\n",
      "       [0, 0, 0, ..., 0, 0, 0],\n",
      "       [0, 0, 0, ..., 0, 0, 0],\n",
      "       [0, 0, 0, ..., 0, 0, 0]]))]\n",
      "measurements [{'uid': 1, 'name': 'measurement_apply_stardist result_in_0_test_czi.czi', 'hint': '', 'image_id': 5, 'result_layer_id': 6, 'path': 'F:/Data_Storage/AG_Rittner/Microscope Framework/data/fileserver_folder/measurements/1.pkl'}, {'uid': 2, 'name': 'measurement_apply_stardist result_in_0_test_czi.czi', 'hint': '', 'image_id': 5, 'result_layer_id': 6, 'path': 'F:/Data_Storage/AG_Rittner/Microscope Framework/data/fileserver_folder/measurements/2.pkl'}]\n",
      "tags set()\n",
      "metadata {'image_name': '0_test_czi.czi #5', 'image_ID': 'Image_4', 'image_acquisition_date': '2020-06-10T09:42:08.983', 'pixel_dimensions': 'XYCZT', 'pixel_type': 'uint16', 'pixel_size_x': 1309, 'pixel_size_y': 2046, 'pixel_size_z': 1, 'pixel_size_slices': 4, 'pixel_size_physical_x': 0.908, 'pixel_size_physical_y': 0.908, 'pixel_size_physical_z': None, 'pixel_size_physical_unit_x': 'µm', 'pixel_size_physical_unit_y': 'µm', 'pixel_size_physical_unit_z': None, 'n_channels': 4, 'channel_names': ['AF488', 'DAPI', 'Cy3', 'Cy5'], 'custom_channel_names': ['AF488', 'DAPI', 'Cy3', 'Cy5'], 'original_filename': '0_test_czi.czi'}\n",
      "data [[[[0.         0.         0.         ... 0.         0.\n",
      "    0.        ]\n",
      "   [0.00331121 0.0034638  0.00317388 ... 0.         0.\n",
      "    0.        ]\n",
      "   [0.00317388 0.00294499 0.00364691 ... 0.         0.\n",
      "    0.        ]\n",
      "   ...\n",
      "   [0.         0.         0.00262455 ... 0.00433356 0.00334173\n",
      "    0.00323491]\n",
      "   [0.         0.         0.00296025 ... 0.00297551 0.00337224\n",
      "    0.00292973]\n",
      "   [0.         0.         0.00302129 ... 0.00373846 0.00315862\n",
      "    0.00354009]]\n",
      "\n",
      "  [[0.         0.         0.         ... 0.         0.\n",
      "    0.        ]\n",
      "   [0.00097658 0.00131228 0.00195315 ... 0.         0.\n",
      "    0.        ]\n",
      "   [0.00164797 0.00169375 0.00172427 ... 0.         0.\n",
      "    0.        ]\n",
      "   ...\n",
      "   [0.         0.         0.00144961 ... 0.00154116 0.00180056\n",
      "    0.00164797]\n",
      "   [0.         0.         0.00157168 ... 0.0016022  0.00181582\n",
      "    0.00183108]\n",
      "   [0.         0.         0.00154116 ... 0.00167849 0.00184634\n",
      "    0.00148013]]\n",
      "\n",
      "  [[0.         0.         0.         ... 0.         0.\n",
      "    0.        ]\n",
      "   [0.00563058 0.00469978 0.00495918 ... 0.         0.\n",
      "    0.        ]\n",
      "   [0.00489815 0.00509651 0.00517281 ... 0.         0.\n",
      "    0.        ]\n",
      "   ...\n",
      "   [0.         0.         0.00453193 ... 0.00495918 0.00482185\n",
      "    0.00546273]\n",
      "   [0.         0.         0.00450141 ... 0.00531014 0.0053254\n",
      "    0.00527962]\n",
      "   [0.         0.         0.00419623 ... 0.00486763 0.00521859\n",
      "    0.00587472]]\n",
      "\n",
      "  [[0.         0.         0.         ... 0.         0.\n",
      "    0.        ]\n",
      "   [0.0052491  0.00544747 0.00556954 ... 0.         0.\n",
      "    0.        ]\n",
      "   [0.00584421 0.00526436 0.00570687 ... 0.         0.\n",
      "    0.        ]\n",
      "   ...\n",
      "   [0.         0.         0.005066   ... 0.00642405 0.00601205\n",
      "    0.00668345]\n",
      "   [0.         0.         0.00497444 ... 0.00636301 0.0062562\n",
      "    0.00604257]\n",
      "   [0.         0.         0.00535592 ... 0.00628672 0.00614939\n",
      "    0.00683604]]]]\n",
      "result_measurements [IntResultMeasurement(uid=1, name='measurement_apply_stardist result_in_0_test_czi.czi', hint='', image_id=5, result_layer_id=6, measurement=IntResultMeasurement(uid=1, name='measurement_apply_stardist result_in_0_test_czi.czi', hint='', image_id=5, result_layer_id=6, measurement=[{'label': 0, 'n_pixel': 2634375, 'measured_channels': [{'channel': 0, 'sum_intensity': 39653.602751976345, 'mean_intensity': 0.015052375896361127, 'subtracted_bg_per_pixel': 0}, {'channel': 1, 'sum_intensity': 31052.401386268204, 'mean_intensity': 0.011787388426578678, 'subtracted_bg_per_pixel': 0}, {'channel': 2, 'sum_intensity': 28405.83338001836, 'mean_intensity': 0.010782760001904952, 'subtracted_bg_per_pixel': 0}, {'channel': 3, 'sum_intensity': 32326.93611811637, 'mean_intensity': 0.012271197577458171, 'subtracted_bg_per_pixel': 0}]}, {'label': 36, 'n_pixel': 1312, 'measured_channels': [{'channel': 0, 'sum_intensity': 63.252079136669636, 'mean_intensity': 0.0482104261712421, 'subtracted_bg_per_pixel': 0}, {'channel': 1, 'sum_intensity': 121.24284748267382, 'mean_intensity': 0.09241070692276969, 'subtracted_bg_per_pixel': 0}, {'channel': 2, 'sum_intensity': 48.85149930790067, 'mean_intensity': 0.03723437447248527, 'subtracted_bg_per_pixel': 0}, {'channel': 3, 'sum_intensity': 46.198657328262925, 'mean_intensity': 0.035212391256297965, 'subtracted_bg_per_pixel': 0}]}, {'label': 40, 'n_pixel': 658, 'measured_channels': [{'channel': 0, 'sum_intensity': 59.50548570230603, 'mean_intensity': 0.0904338688484894, 'subtracted_bg_per_pixel': 0}, {'channel': 1, 'sum_intensity': 12.284443483222276, 'mean_intensity': 0.018669366995778536, 'subtracted_bg_per_pixel': 0}, {'channel': 2, 'sum_intensity': 29.371099516749382, 'mean_intensity': 0.04463692935676198, 'subtracted_bg_per_pixel': 0}, {'channel': 3, 'sum_intensity': 32.622476575896144, 'mean_intensity': 0.04957823187826162, 'subtracted_bg_per_pixel': 0}]}, {'label': 52, 'n_pixel': 1183, 'measured_channels': [{'channel': 0, 'sum_intensity': 78.69248506613076, 'mean_intensity': 0.066519429472638, 'subtracted_bg_per_pixel': 0}, {'channel': 1, 'sum_intensity': 42.56633869558573, 'mean_intensity': 0.035981689514442715, 'subtracted_bg_per_pixel': 0}, {'channel': 2, 'sum_intensity': 52.86070052161813, 'mean_intensity': 0.044683601455298504, 'subtracted_bg_per_pixel': 0}, {'channel': 3, 'sum_intensity': 41.150103118270636, 'mean_intensity': 0.034784533489662414, 'subtracted_bg_per_pixel': 0}]}, {'label': 55, 'n_pixel': 554, 'measured_channels': [{'channel': 0, 'sum_intensity': 36.65618373453617, 'mean_intensity': 0.06616639663273677, 'subtracted_bg_per_pixel': 0}, {'channel': 1, 'sum_intensity': 29.189807043410838, 'mean_intensity': 0.05268918238882823, 'subtracted_bg_per_pixel': 0}, {'channel': 2, 'sum_intensity': 17.34537278022617, 'mean_intensity': 0.03130933714842269, 'subtracted_bg_per_pixel': 0}, {'channel': 3, 'sum_intensity': 18.952483436092734, 'mean_intensity': 0.034210258909914686, 'subtracted_bg_per_pixel': 0}]}, {'label': 119, 'n_pixel': 582, 'measured_channels': [{'channel': 0, 'sum_intensity': 20.500358628109097, 'mean_intensity': 0.03522398389709467, 'subtracted_bg_per_pixel': 0}, {'channel': 1, 'sum_intensity': 16.186999382916838, 'mean_intensity': 0.027812713716351956, 'subtracted_bg_per_pixel': 0}, {'channel': 2, 'sum_intensity': 27.501472543925047, 'mean_intensity': 0.04725338925073032, 'subtracted_bg_per_pixel': 0}, {'channel': 3, 'sum_intensity': 22.078217843547463, 'mean_intensity': 0.03793508220540801, 'subtracted_bg_per_pixel': 0}]}, {'label': 154, 'n_pixel': 810, 'measured_channels': [{'channel': 0, 'sum_intensity': 96.9941100999713, 'mean_intensity': 0.11974581493823616, 'subtracted_bg_per_pixel': 0}, {'channel': 1, 'sum_intensity': 16.212619272060692, 'mean_intensity': 0.020015579348223077, 'subtracted_bg_per_pixel': 0}, {'channel': 2, 'sum_intensity': 51.07125972956419, 'mean_intensity': 0.06305093793773357, 'subtracted_bg_per_pixel': 0}, {'channel': 3, 'sum_intensity': 22.27942330110818, 'mean_intensity': 0.027505460865565656, 'subtracted_bg_per_pixel': 0}]}, {'label': 176, 'n_pixel': 542, 'measured_channels': [{'channel': 0, 'sum_intensity': 37.992004327476025, 'mean_intensity': 0.0700959489436827, 'subtracted_bg_per_pixel': 0}, {'channel': 1, 'sum_intensity': 24.027649390976876, 'mean_intensity': 0.044331456440916746, 'subtracted_bg_per_pixel': 0}, {'channel': 2, 'sum_intensity': 20.30246432684362, 'mean_intensity': 0.03745842126723915, 'subtracted_bg_per_pixel': 0}, {'channel': 3, 'sum_intensity': 17.25313199684024, 'mean_intensity': 0.03183234685763882, 'subtracted_bg_per_pixel': 0}]}, {'label': 241, 'n_pixel': 1353, 'measured_channels': [{'channel': 0, 'sum_intensity': 106.26242480427027, 'mean_intensity': 0.07853837753456783, 'subtracted_bg_per_pixel': 0}, {'channel': 1, 'sum_intensity': 71.10740829864517, 'mean_intensity': 0.05255536459619007, 'subtracted_bg_per_pixel': 0}, {'channel': 2, 'sum_intensity': 67.71097900345922, 'mean_intensity': 0.050045069477796904, 'subtracted_bg_per_pixel': 0}, {'channel': 3, 'sum_intensity': 72.58892201818526, 'mean_intensity': 0.05365034886783833, 'subtracted_bg_per_pixel': 0}]}, {'label': 298, 'n_pixel': 1583, 'measured_channels': [{'channel': 0, 'sum_intensity': 107.4469216875732, 'mean_intensity': 0.06787550327705193, 'subtracted_bg_per_pixel': 0}, {'channel': 1, 'sum_intensity': 32.92677208641544, 'mean_intensity': 0.020800235051431106, 'subtracted_bg_per_pixel': 0}, {'channel': 2, 'sum_intensity': 66.07742448709905, 'mean_intensity': 0.04174189797037211, 'subtracted_bg_per_pixel': 0}, {'channel': 3, 'sum_intensity': 62.446555393747985, 'mean_intensity': 0.039448234613864805, 'subtracted_bg_per_pixel': 0}]}, {'label': 299, 'n_pixel': 1199, 'measured_channels': [{'channel': 0, 'sum_intensity': 59.725902339443564, 'mean_intensity': 0.04981309619636661, 'subtracted_bg_per_pixel': 0}, {'channel': 1, 'sum_intensity': 39.449149458669126, 'mean_intensity': 0.03290170930664648, 'subtracted_bg_per_pixel': 0}, {'channel': 2, 'sum_intensity': 42.4292973941192, 'mean_intensity': 0.03538723719275997, 'subtracted_bg_per_pixel': 0}, {'channel': 3, 'sum_intensity': 40.43189144413918, 'mean_intensity': 0.03372134399010774, 'subtracted_bg_per_pixel': 0}]}, {'label': 530, 'n_pixel': 577, 'measured_channels': [{'channel': 0, 'sum_intensity': 32.68314650095999, 'mean_intensity': 0.05664323483701905, 'subtracted_bg_per_pixel': 0}, {'channel': 1, 'sum_intensity': 22.4571298584342, 'mean_intensity': 0.03892050235430537, 'subtracted_bg_per_pixel': 0}, {'channel': 2, 'sum_intensity': 27.866453140974045, 'mean_intensity': 0.04829541272265866, 'subtracted_bg_per_pixel': 0}, {'channel': 3, 'sum_intensity': 22.242114944383502, 'mean_intensity': 0.03854785952232843, 'subtracted_bg_per_pixel': 0}]}, {'label': 638, 'n_pixel': 1166, 'measured_channels': [{'channel': 0, 'sum_intensity': 95.32748937420547, 'mean_intensity': 0.0817559943175004, 'subtracted_bg_per_pixel': 0}, {'channel': 1, 'sum_intensity': 22.093186967540532, 'mean_intensity': 0.0189478447406008, 'subtracted_bg_per_pixel': 0}, {'channel': 2, 'sum_intensity': 62.182147067040205, 'mean_intensity': 0.053329457175849235, 'subtracted_bg_per_pixel': 0}, {'channel': 3, 'sum_intensity': 53.20425732526928, 'mean_intensity': 0.045629723263524255, 'subtracted_bg_per_pixel': 0}]}, {'label': 677, 'n_pixel': 1931, 'measured_channels': [{'channel': 0, 'sum_intensity': 193.70406689867377, 'mean_intensity': 0.10031282594441936, 'subtracted_bg_per_pixel': 0}, {'channel': 1, 'sum_intensity': 41.63462288212031, 'mean_intensity': 0.021561171870595707, 'subtracted_bg_per_pixel': 0}, {'channel': 2, 'sum_intensity': 77.5554897096008, 'mean_intensity': 0.04016338151714179, 'subtracted_bg_per_pixel': 0}, {'channel': 3, 'sum_intensity': 67.5589687358588, 'mean_intensity': 0.03498651928319979, 'subtracted_bg_per_pixel': 0}]}, {'label': 687, 'n_pixel': 852, 'measured_channels': [{'channel': 0, 'sum_intensity': 79.04844746738672, 'mean_intensity': 0.09277986791946799, 'subtracted_bg_per_pixel': 0}, {'channel': 1, 'sum_intensity': 32.79557505855337, 'mean_intensity': 0.038492458988912404, 'subtracted_bg_per_pixel': 0}, {'channel': 2, 'sum_intensity': 42.57647071778774, 'mean_intensity': 0.04997238347158186, 'subtracted_bg_per_pixel': 0}, {'channel': 3, 'sum_intensity': 41.135988561436534, 'mean_intensity': 0.0482816767153011, 'subtracted_bg_per_pixel': 0}]}, {'label': 720, 'n_pixel': 1645, 'measured_channels': [{'channel': 0, 'sum_intensity': 122.90356302633882, 'mean_intensity': 0.07471341217406614, 'subtracted_bg_per_pixel': 0}, {'channel': 1, 'sum_intensity': 72.54268733272329, 'mean_intensity': 0.04409889807460382, 'subtracted_bg_per_pixel': 0}, {'channel': 2, 'sum_intensity': 53.27695142943412, 'mean_intensity': 0.03238720451637333, 'subtracted_bg_per_pixel': 0}, {'channel': 3, 'sum_intensity': 44.10594358574599, 'mean_intensity': 0.02681212376033191, 'subtracted_bg_per_pixel': 0}]}, {'label': 723, 'n_pixel': 1758, 'measured_channels': [{'channel': 0, 'sum_intensity': 104.37871380336583, 'mean_intensity': 0.05937355733979854, 'subtracted_bg_per_pixel': 0}, {'channel': 1, 'sum_intensity': 33.0955674094148, 'mean_intensity': 0.01882569249682298, 'subtracted_bg_per_pixel': 0}, {'channel': 2, 'sum_intensity': 75.95916705019772, 'mean_intensity': 0.04320771732093158, 'subtracted_bg_per_pixel': 0}, {'channel': 3, 'sum_intensity': 73.58313891291618, 'mean_intensity': 0.04185616547947451, 'subtracted_bg_per_pixel': 0}]}, {'label': 754, 'n_pixel': 2373, 'measured_channels': [{'channel': 0, 'sum_intensity': 125.18846441246569, 'mean_intensity': 0.05275535794878453, 'subtracted_bg_per_pixel': 0}, {'channel': 1, 'sum_intensity': 32.771328560542315, 'mean_intensity': 0.013810083674901944, 'subtracted_bg_per_pixel': 0}, {'channel': 2, 'sum_intensity': 77.00636324472725, 'mean_intensity': 0.03245105910018005, 'subtracted_bg_per_pixel': 0}, {'channel': 3, 'sum_intensity': 66.08213946502656, 'mean_intensity': 0.027847509256226952, 'subtracted_bg_per_pixel': 0}]}, {'label': 764, 'n_pixel': 1077, 'measured_channels': [{'channel': 0, 'sum_intensity': 65.09851233661175, 'mean_intensity': 0.060444301148200326, 'subtracted_bg_per_pixel': 0}, {'channel': 1, 'sum_intensity': 16.308659601956606, 'mean_intensity': 0.015142673725122197, 'subtracted_bg_per_pixel': 0}, {'channel': 2, 'sum_intensity': 38.591409273445606, 'mean_intensity': 0.03583232058815748, 'subtracted_bg_per_pixel': 0}, {'channel': 3, 'sum_intensity': 45.22758845984936, 'mean_intensity': 0.041994046852227816, 'subtracted_bg_per_pixel': 0}]}, {'label': 767, 'n_pixel': 897, 'measured_channels': [{'channel': 0, 'sum_intensity': 83.31013967655599, 'mean_intensity': 0.09287640989582607, 'subtracted_bg_per_pixel': 0}, {'channel': 1, 'sum_intensity': 23.03222720697522, 'mean_intensity': 0.025676953407999133, 'subtracted_bg_per_pixel': 0}, {'channel': 2, 'sum_intensity': 47.10557725094259, 'mean_intensity': 0.05251457887507535, 'subtracted_bg_per_pixel': 0}, {'channel': 3, 'sum_intensity': 30.16159317828715, 'mean_intensity': 0.033624964524288904, 'subtracted_bg_per_pixel': 0}]}, {'label': 770, 'n_pixel': 1589, 'measured_channels': [{'channel': 0, 'sum_intensity': 109.65114840026945, 'mean_intensity': 0.06900638665844522, 'subtracted_bg_per_pixel': 0}, {'channel': 1, 'sum_intensity': 32.86807063082233, 'mean_intensity': 0.020684751812978183, 'subtracted_bg_per_pixel': 0}, {'channel': 2, 'sum_intensity': 59.399740799330175, 'mean_intensity': 0.037381838136771664, 'subtracted_bg_per_pixel': 0}, {'channel': 3, 'sum_intensity': 63.926344864070415, 'mean_intensity': 0.040230550575248845, 'subtracted_bg_per_pixel': 0}]}, {'label': 772, 'n_pixel': 502, 'measured_channels': [{'channel': 0, 'sum_intensity': 50.33867397904396, 'mean_intensity': 0.10027624298614335, 'subtracted_bg_per_pixel': 0}, {'channel': 1, 'sum_intensity': 18.581307750195265, 'mean_intensity': 0.03701455727130531, 'subtracted_bg_per_pixel': 0}, {'channel': 2, 'sum_intensity': 31.6220035366714, 'mean_intensity': 0.0629920389176721, 'subtracted_bg_per_pixel': 0}, {'channel': 3, 'sum_intensity': 33.22993821464479, 'mean_intensity': 0.06619509604510915, 'subtracted_bg_per_pixel': 0}]}, {'label': 781, 'n_pixel': 787, 'measured_channels': [{'channel': 0, 'sum_intensity': 107.52408643066883, 'mean_intensity': 0.13662526865396293, 'subtracted_bg_per_pixel': 0}, {'channel': 1, 'sum_intensity': 17.633569945115596, 'mean_intensity': 0.022406060921366704, 'subtracted_bg_per_pixel': 0}, {'channel': 2, 'sum_intensity': 48.052781058475375, 'mean_intensity': 0.061058171611785735, 'subtracted_bg_per_pixel': 0}, {'channel': 3, 'sum_intensity': 29.359701031818986, 'mean_intensity': 0.037305846292019045, 'subtracted_bg_per_pixel': 0}]}, {'label': 796, 'n_pixel': 1412, 'measured_channels': [{'channel': 0, 'sum_intensity': 89.50728638097644, 'mean_intensity': 0.0633904294482836, 'subtracted_bg_per_pixel': 0}, {'channel': 1, 'sum_intensity': 32.65934250224382, 'mean_intensity': 0.02312984596476191, 'subtracted_bg_per_pixel': 0}, {'channel': 2, 'sum_intensity': 57.781735084950924, 'mean_intensity': 0.04092190870039017, 'subtracted_bg_per_pixel': 0}, {'channel': 3, 'sum_intensity': 51.014999753795564, 'mean_intensity': 0.03612960322506768, 'subtracted_bg_per_pixel': 0}]}, {'label': 797, 'n_pixel': 507, 'measured_channels': [{'channel': 0, 'sum_intensity': 26.750393014401197, 'mean_intensity': 0.05276211639921341, 'subtracted_bg_per_pixel': 0}, {'channel': 1, 'sum_intensity': 20.331014031078666, 'mean_intensity': 0.04010061939068771, 'subtracted_bg_per_pixel': 0}, {'channel': 2, 'sum_intensity': 26.189623951911926, 'mean_intensity': 0.051656063021522536, 'subtracted_bg_per_pixel': 0}, {'channel': 3, 'sum_intensity': 15.420019840821624, 'mean_intensity': 0.030414240317202412, 'subtracted_bg_per_pixel': 0}]}, {'label': 798, 'n_pixel': 1363, 'measured_channels': [{'channel': 0, 'sum_intensity': 95.92069904878736, 'mean_intensity': 0.07037468748993937, 'subtracted_bg_per_pixel': 0}, {'channel': 1, 'sum_intensity': 14.771923548541963, 'mean_intensity': 0.010837801576333062, 'subtracted_bg_per_pixel': 0}, {'channel': 2, 'sum_intensity': 56.27443359885365, 'mean_intensity': 0.04128718532564464, 'subtracted_bg_per_pixel': 0}, {'channel': 3, 'sum_intensity': 42.417914221063256, 'mean_intensity': 0.031120993559107305, 'subtracted_bg_per_pixel': 0}]}, {'label': 799, 'n_pixel': 1335, 'measured_channels': [{'channel': 0, 'sum_intensity': 96.22447556257248, 'mean_intensity': 0.0720782588483689, 'subtracted_bg_per_pixel': 0}, {'channel': 1, 'sum_intensity': 30.618478833232075, 'mean_intensity': 0.022935190137252492, 'subtracted_bg_per_pixel': 0}, {'channel': 2, 'sum_intensity': 57.23915478400886, 'mean_intensity': 0.04287577137378941, 'subtracted_bg_per_pixel': 0}, {'channel': 3, 'sum_intensity': 56.51166567578912, 'mean_intensity': 0.04233083571220159, 'subtracted_bg_per_pixel': 0}]}, {'label': 800, 'n_pixel': 833, 'measured_channels': [{'channel': 0, 'sum_intensity': 93.3990082629025, 'mean_intensity': 0.11212365937923469, 'subtracted_bg_per_pixel': 0}, {'channel': 1, 'sum_intensity': 13.644968435168266, 'mean_intensity': 0.016380514327933093, 'subtracted_bg_per_pixel': 0}, {'channel': 2, 'sum_intensity': 52.45740451198071, 'mean_intensity': 0.06297407504439462, 'subtracted_bg_per_pixel': 0}, {'channel': 3, 'sum_intensity': 23.01774630881846, 'mean_intensity': 0.027632348509986145, 'subtracted_bg_per_pixel': 0}]}, {'label': 801, 'n_pixel': 860, 'measured_channels': [{'channel': 0, 'sum_intensity': 34.021622121334076, 'mean_intensity': 0.03956002572248148, 'subtracted_bg_per_pixel': 0}, {'channel': 1, 'sum_intensity': 22.98423754563555, 'mean_intensity': 0.026725857611204128, 'subtracted_bg_per_pixel': 0}, {'channel': 2, 'sum_intensity': 44.6752575468272, 'mean_intensity': 0.05194797389165953, 'subtracted_bg_per_pixel': 0}, {'channel': 3, 'sum_intensity': 20.727550287730992, 'mean_intensity': 0.024101802660152317, 'subtracted_bg_per_pixel': 0}]}, {'label': 802, 'n_pixel': 1990, 'measured_channels': [{'channel': 0, 'sum_intensity': 137.81054417602718, 'mean_intensity': 0.06925152973669707, 'subtracted_bg_per_pixel': 0}, {'channel': 1, 'sum_intensity': 80.9369193916209, 'mean_intensity': 0.04067181878975925, 'subtracted_bg_per_pixel': 0}, {'channel': 2, 'sum_intensity': 83.76284453831613, 'mean_intensity': 0.042091881677545795, 'subtracted_bg_per_pixel': 0}, {'channel': 3, 'sum_intensity': 93.53553082514554, 'mean_intensity': 0.047002779309118364, 'subtracted_bg_per_pixel': 0}]}, {'label': 803, 'n_pixel': 1092, 'measured_channels': [{'channel': 0, 'sum_intensity': 70.59102779999375, 'mean_intensity': 0.06464379835164263, 'subtracted_bg_per_pixel': 0}, {'channel': 1, 'sum_intensity': 24.00270096771419, 'mean_intensity': 0.02198049539167966, 'subtracted_bg_per_pixel': 0}, {'channel': 2, 'sum_intensity': 33.40968963224441, 'mean_intensity': 0.03059495387568169, 'subtracted_bg_per_pixel': 0}, {'channel': 3, 'sum_intensity': 36.50995664205402, 'mean_intensity': 0.033434026228987196, 'subtracted_bg_per_pixel': 0}]}, {'label': 804, 'n_pixel': 1306, 'measured_channels': [{'channel': 0, 'sum_intensity': 92.61722759716213, 'mean_intensity': 0.07091671332095109, 'subtracted_bg_per_pixel': 0}, {'channel': 1, 'sum_intensity': 42.26175342593342, 'mean_intensity': 0.032359688687544734, 'subtracted_bg_per_pixel': 0}, {'channel': 2, 'sum_intensity': 50.56450766324997, 'mean_intensity': 0.0387170809060107, 'subtracted_bg_per_pixel': 0}, {'channel': 3, 'sum_intensity': 50.282291979528964, 'mean_intensity': 0.038500989264570414, 'subtracted_bg_per_pixel': 0}]}, {'label': 805, 'n_pixel': 1712, 'measured_channels': [{'channel': 0, 'sum_intensity': 104.39153135195374, 'mean_intensity': 0.06097636177100102, 'subtracted_bg_per_pixel': 0}, {'channel': 1, 'sum_intensity': 42.36391259217635, 'mean_intensity': 0.02474527604683198, 'subtracted_bg_per_pixel': 0}, {'channel': 2, 'sum_intensity': 51.09388892585412, 'mean_intensity': 0.02984456128846619, 'subtracted_bg_per_pixel': 0}, {'channel': 3, 'sum_intensity': 55.11720468848944, 'mean_intensity': 0.03219462890682794, 'subtracted_bg_per_pixel': 0}]}, {'label': 806, 'n_pixel': 927, 'measured_channels': [{'channel': 0, 'sum_intensity': 82.90962090343237, 'mean_intensity': 0.08943864175127549, 'subtracted_bg_per_pixel': 0}, {'channel': 1, 'sum_intensity': 56.2899522036314, 'mean_intensity': 0.060722710036279826, 'subtracted_bg_per_pixel': 0}, {'channel': 2, 'sum_intensity': 40.20695819891989, 'mean_intensity': 0.04337320194058241, 'subtracted_bg_per_pixel': 0}, {'channel': 3, 'sum_intensity': 54.50338000431657, 'mean_intensity': 0.05879544768534689, 'subtracted_bg_per_pixel': 0}]}, {'label': 807, 'n_pixel': 1832, 'measured_channels': [{'channel': 0, 'sum_intensity': 83.43830042984337, 'mean_intensity': 0.04554492381541669, 'subtracted_bg_per_pixel': 0}, {'channel': 1, 'sum_intensity': 119.04357999190688, 'mean_intensity': 0.0649801200829186, 'subtracted_bg_per_pixel': 0}, {'channel': 2, 'sum_intensity': 72.22069145925343, 'mean_intensity': 0.03942177481400296, 'subtracted_bg_per_pixel': 0}, {'channel': 3, 'sum_intensity': 89.17582988087088, 'mean_intensity': 0.04867676303540987, 'subtracted_bg_per_pixel': 0}]}, {'label': 808, 'n_pixel': 1975, 'measured_channels': [{'channel': 0, 'sum_intensity': 132.62362108565867, 'mean_intensity': 0.0671512005497006, 'subtracted_bg_per_pixel': 0}, {'channel': 1, 'sum_intensity': 80.37065712315962, 'mean_intensity': 0.040694003606663094, 'subtracted_bg_per_pixel': 0}, {'channel': 2, 'sum_intensity': 76.1557796485722, 'mean_intensity': 0.03855988842965681, 'subtracted_bg_per_pixel': 0}, {'channel': 3, 'sum_intensity': 88.68560330197215, 'mean_intensity': 0.04490410293770742, 'subtracted_bg_per_pixel': 0}]}, {'label': 809, 'n_pixel': 1765, 'measured_channels': [{'channel': 0, 'sum_intensity': 103.24487697985023, 'mean_intensity': 0.05849568100841373, 'subtracted_bg_per_pixel': 0}, {'channel': 1, 'sum_intensity': 72.21612900123, 'mean_intensity': 0.04091565382505949, 'subtracted_bg_per_pixel': 0}, {'channel': 2, 'sum_intensity': 88.04901207610965, 'mean_intensity': 0.04988612582215844, 'subtracted_bg_per_pixel': 0}, {'channel': 3, 'sum_intensity': 92.62293446995318, 'mean_intensity': 0.05247758326909529, 'subtracted_bg_per_pixel': 0}]}])), IntResultMeasurement(uid=2, name='measurement_apply_stardist result_in_0_test_czi.czi', hint='', image_id=5, result_layer_id=6, measurement=IntResultMeasurement(uid=2, name='measurement_apply_stardist result_in_0_test_czi.czi', hint='', image_id=5, result_layer_id=6, measurement=[{'label': 0, 'n_pixel': 2634375, 'measured_channels': [{'channel': 0, 'sum_intensity': 39653.602751976345, 'mean_intensity': 0.015052375896361127, 'subtracted_bg_per_pixel': 0}, {'channel': 1, 'sum_intensity': 31052.401386268204, 'mean_intensity': 0.011787388426578678, 'subtracted_bg_per_pixel': 0}, {'channel': 2, 'sum_intensity': 28405.83338001836, 'mean_intensity': 0.010782760001904952, 'subtracted_bg_per_pixel': 0}, {'channel': 3, 'sum_intensity': 32326.93611811637, 'mean_intensity': 0.012271197577458171, 'subtracted_bg_per_pixel': 0}]}, {'label': 36, 'n_pixel': 1312, 'measured_channels': [{'channel': 0, 'sum_intensity': 63.252079136669636, 'mean_intensity': 0.0482104261712421, 'subtracted_bg_per_pixel': 0}, {'channel': 1, 'sum_intensity': 121.24284748267382, 'mean_intensity': 0.09241070692276969, 'subtracted_bg_per_pixel': 0}, {'channel': 2, 'sum_intensity': 48.85149930790067, 'mean_intensity': 0.03723437447248527, 'subtracted_bg_per_pixel': 0}, {'channel': 3, 'sum_intensity': 46.198657328262925, 'mean_intensity': 0.035212391256297965, 'subtracted_bg_per_pixel': 0}]}, {'label': 40, 'n_pixel': 658, 'measured_channels': [{'channel': 0, 'sum_intensity': 59.50548570230603, 'mean_intensity': 0.0904338688484894, 'subtracted_bg_per_pixel': 0}, {'channel': 1, 'sum_intensity': 12.284443483222276, 'mean_intensity': 0.018669366995778536, 'subtracted_bg_per_pixel': 0}, {'channel': 2, 'sum_intensity': 29.371099516749382, 'mean_intensity': 0.04463692935676198, 'subtracted_bg_per_pixel': 0}, {'channel': 3, 'sum_intensity': 32.622476575896144, 'mean_intensity': 0.04957823187826162, 'subtracted_bg_per_pixel': 0}]}, {'label': 52, 'n_pixel': 1183, 'measured_channels': [{'channel': 0, 'sum_intensity': 78.69248506613076, 'mean_intensity': 0.066519429472638, 'subtracted_bg_per_pixel': 0}, {'channel': 1, 'sum_intensity': 42.56633869558573, 'mean_intensity': 0.035981689514442715, 'subtracted_bg_per_pixel': 0}, {'channel': 2, 'sum_intensity': 52.86070052161813, 'mean_intensity': 0.044683601455298504, 'subtracted_bg_per_pixel': 0}, {'channel': 3, 'sum_intensity': 41.150103118270636, 'mean_intensity': 0.034784533489662414, 'subtracted_bg_per_pixel': 0}]}, {'label': 55, 'n_pixel': 554, 'measured_channels': [{'channel': 0, 'sum_intensity': 36.65618373453617, 'mean_intensity': 0.06616639663273677, 'subtracted_bg_per_pixel': 0}, {'channel': 1, 'sum_intensity': 29.189807043410838, 'mean_intensity': 0.05268918238882823, 'subtracted_bg_per_pixel': 0}, {'channel': 2, 'sum_intensity': 17.34537278022617, 'mean_intensity': 0.03130933714842269, 'subtracted_bg_per_pixel': 0}, {'channel': 3, 'sum_intensity': 18.952483436092734, 'mean_intensity': 0.034210258909914686, 'subtracted_bg_per_pixel': 0}]}, {'label': 119, 'n_pixel': 582, 'measured_channels': [{'channel': 0, 'sum_intensity': 20.500358628109097, 'mean_intensity': 0.03522398389709467, 'subtracted_bg_per_pixel': 0}, {'channel': 1, 'sum_intensity': 16.186999382916838, 'mean_intensity': 0.027812713716351956, 'subtracted_bg_per_pixel': 0}, {'channel': 2, 'sum_intensity': 27.501472543925047, 'mean_intensity': 0.04725338925073032, 'subtracted_bg_per_pixel': 0}, {'channel': 3, 'sum_intensity': 22.078217843547463, 'mean_intensity': 0.03793508220540801, 'subtracted_bg_per_pixel': 0}]}, {'label': 154, 'n_pixel': 810, 'measured_channels': [{'channel': 0, 'sum_intensity': 96.9941100999713, 'mean_intensity': 0.11974581493823616, 'subtracted_bg_per_pixel': 0}, {'channel': 1, 'sum_intensity': 16.212619272060692, 'mean_intensity': 0.020015579348223077, 'subtracted_bg_per_pixel': 0}, {'channel': 2, 'sum_intensity': 51.07125972956419, 'mean_intensity': 0.06305093793773357, 'subtracted_bg_per_pixel': 0}, {'channel': 3, 'sum_intensity': 22.27942330110818, 'mean_intensity': 0.027505460865565656, 'subtracted_bg_per_pixel': 0}]}, {'label': 176, 'n_pixel': 542, 'measured_channels': [{'channel': 0, 'sum_intensity': 37.992004327476025, 'mean_intensity': 0.0700959489436827, 'subtracted_bg_per_pixel': 0}, {'channel': 1, 'sum_intensity': 24.027649390976876, 'mean_intensity': 0.044331456440916746, 'subtracted_bg_per_pixel': 0}, {'channel': 2, 'sum_intensity': 20.30246432684362, 'mean_intensity': 0.03745842126723915, 'subtracted_bg_per_pixel': 0}, {'channel': 3, 'sum_intensity': 17.25313199684024, 'mean_intensity': 0.03183234685763882, 'subtracted_bg_per_pixel': 0}]}, {'label': 241, 'n_pixel': 1353, 'measured_channels': [{'channel': 0, 'sum_intensity': 106.26242480427027, 'mean_intensity': 0.07853837753456783, 'subtracted_bg_per_pixel': 0}, {'channel': 1, 'sum_intensity': 71.10740829864517, 'mean_intensity': 0.05255536459619007, 'subtracted_bg_per_pixel': 0}, {'channel': 2, 'sum_intensity': 67.71097900345922, 'mean_intensity': 0.050045069477796904, 'subtracted_bg_per_pixel': 0}, {'channel': 3, 'sum_intensity': 72.58892201818526, 'mean_intensity': 0.05365034886783833, 'subtracted_bg_per_pixel': 0}]}, {'label': 298, 'n_pixel': 1583, 'measured_channels': [{'channel': 0, 'sum_intensity': 107.4469216875732, 'mean_intensity': 0.06787550327705193, 'subtracted_bg_per_pixel': 0}, {'channel': 1, 'sum_intensity': 32.92677208641544, 'mean_intensity': 0.020800235051431106, 'subtracted_bg_per_pixel': 0}, {'channel': 2, 'sum_intensity': 66.07742448709905, 'mean_intensity': 0.04174189797037211, 'subtracted_bg_per_pixel': 0}, {'channel': 3, 'sum_intensity': 62.446555393747985, 'mean_intensity': 0.039448234613864805, 'subtracted_bg_per_pixel': 0}]}, {'label': 299, 'n_pixel': 1199, 'measured_channels': [{'channel': 0, 'sum_intensity': 59.725902339443564, 'mean_intensity': 0.04981309619636661, 'subtracted_bg_per_pixel': 0}, {'channel': 1, 'sum_intensity': 39.449149458669126, 'mean_intensity': 0.03290170930664648, 'subtracted_bg_per_pixel': 0}, {'channel': 2, 'sum_intensity': 42.4292973941192, 'mean_intensity': 0.03538723719275997, 'subtracted_bg_per_pixel': 0}, {'channel': 3, 'sum_intensity': 40.43189144413918, 'mean_intensity': 0.03372134399010774, 'subtracted_bg_per_pixel': 0}]}, {'label': 530, 'n_pixel': 577, 'measured_channels': [{'channel': 0, 'sum_intensity': 32.68314650095999, 'mean_intensity': 0.05664323483701905, 'subtracted_bg_per_pixel': 0}, {'channel': 1, 'sum_intensity': 22.4571298584342, 'mean_intensity': 0.03892050235430537, 'subtracted_bg_per_pixel': 0}, {'channel': 2, 'sum_intensity': 27.866453140974045, 'mean_intensity': 0.04829541272265866, 'subtracted_bg_per_pixel': 0}, {'channel': 3, 'sum_intensity': 22.242114944383502, 'mean_intensity': 0.03854785952232843, 'subtracted_bg_per_pixel': 0}]}, {'label': 638, 'n_pixel': 1166, 'measured_channels': [{'channel': 0, 'sum_intensity': 95.32748937420547, 'mean_intensity': 0.0817559943175004, 'subtracted_bg_per_pixel': 0}, {'channel': 1, 'sum_intensity': 22.093186967540532, 'mean_intensity': 0.0189478447406008, 'subtracted_bg_per_pixel': 0}, {'channel': 2, 'sum_intensity': 62.182147067040205, 'mean_intensity': 0.053329457175849235, 'subtracted_bg_per_pixel': 0}, {'channel': 3, 'sum_intensity': 53.20425732526928, 'mean_intensity': 0.045629723263524255, 'subtracted_bg_per_pixel': 0}]}, {'label': 677, 'n_pixel': 1931, 'measured_channels': [{'channel': 0, 'sum_intensity': 193.70406689867377, 'mean_intensity': 0.10031282594441936, 'subtracted_bg_per_pixel': 0}, {'channel': 1, 'sum_intensity': 41.63462288212031, 'mean_intensity': 0.021561171870595707, 'subtracted_bg_per_pixel': 0}, {'channel': 2, 'sum_intensity': 77.5554897096008, 'mean_intensity': 0.04016338151714179, 'subtracted_bg_per_pixel': 0}, {'channel': 3, 'sum_intensity': 67.5589687358588, 'mean_intensity': 0.03498651928319979, 'subtracted_bg_per_pixel': 0}]}, {'label': 687, 'n_pixel': 852, 'measured_channels': [{'channel': 0, 'sum_intensity': 79.04844746738672, 'mean_intensity': 0.09277986791946799, 'subtracted_bg_per_pixel': 0}, {'channel': 1, 'sum_intensity': 32.79557505855337, 'mean_intensity': 0.038492458988912404, 'subtracted_bg_per_pixel': 0}, {'channel': 2, 'sum_intensity': 42.57647071778774, 'mean_intensity': 0.04997238347158186, 'subtracted_bg_per_pixel': 0}, {'channel': 3, 'sum_intensity': 41.135988561436534, 'mean_intensity': 0.0482816767153011, 'subtracted_bg_per_pixel': 0}]}, {'label': 720, 'n_pixel': 1645, 'measured_channels': [{'channel': 0, 'sum_intensity': 122.90356302633882, 'mean_intensity': 0.07471341217406614, 'subtracted_bg_per_pixel': 0}, {'channel': 1, 'sum_intensity': 72.54268733272329, 'mean_intensity': 0.04409889807460382, 'subtracted_bg_per_pixel': 0}, {'channel': 2, 'sum_intensity': 53.27695142943412, 'mean_intensity': 0.03238720451637333, 'subtracted_bg_per_pixel': 0}, {'channel': 3, 'sum_intensity': 44.10594358574599, 'mean_intensity': 0.02681212376033191, 'subtracted_bg_per_pixel': 0}]}, {'label': 723, 'n_pixel': 1758, 'measured_channels': [{'channel': 0, 'sum_intensity': 104.37871380336583, 'mean_intensity': 0.05937355733979854, 'subtracted_bg_per_pixel': 0}, {'channel': 1, 'sum_intensity': 33.0955674094148, 'mean_intensity': 0.01882569249682298, 'subtracted_bg_per_pixel': 0}, {'channel': 2, 'sum_intensity': 75.95916705019772, 'mean_intensity': 0.04320771732093158, 'subtracted_bg_per_pixel': 0}, {'channel': 3, 'sum_intensity': 73.58313891291618, 'mean_intensity': 0.04185616547947451, 'subtracted_bg_per_pixel': 0}]}, {'label': 754, 'n_pixel': 2373, 'measured_channels': [{'channel': 0, 'sum_intensity': 125.18846441246569, 'mean_intensity': 0.05275535794878453, 'subtracted_bg_per_pixel': 0}, {'channel': 1, 'sum_intensity': 32.771328560542315, 'mean_intensity': 0.013810083674901944, 'subtracted_bg_per_pixel': 0}, {'channel': 2, 'sum_intensity': 77.00636324472725, 'mean_intensity': 0.03245105910018005, 'subtracted_bg_per_pixel': 0}, {'channel': 3, 'sum_intensity': 66.08213946502656, 'mean_intensity': 0.027847509256226952, 'subtracted_bg_per_pixel': 0}]}, {'label': 764, 'n_pixel': 1077, 'measured_channels': [{'channel': 0, 'sum_intensity': 65.09851233661175, 'mean_intensity': 0.060444301148200326, 'subtracted_bg_per_pixel': 0}, {'channel': 1, 'sum_intensity': 16.308659601956606, 'mean_intensity': 0.015142673725122197, 'subtracted_bg_per_pixel': 0}, {'channel': 2, 'sum_intensity': 38.591409273445606, 'mean_intensity': 0.03583232058815748, 'subtracted_bg_per_pixel': 0}, {'channel': 3, 'sum_intensity': 45.22758845984936, 'mean_intensity': 0.041994046852227816, 'subtracted_bg_per_pixel': 0}]}, {'label': 767, 'n_pixel': 897, 'measured_channels': [{'channel': 0, 'sum_intensity': 83.31013967655599, 'mean_intensity': 0.09287640989582607, 'subtracted_bg_per_pixel': 0}, {'channel': 1, 'sum_intensity': 23.03222720697522, 'mean_intensity': 0.025676953407999133, 'subtracted_bg_per_pixel': 0}, {'channel': 2, 'sum_intensity': 47.10557725094259, 'mean_intensity': 0.05251457887507535, 'subtracted_bg_per_pixel': 0}, {'channel': 3, 'sum_intensity': 30.16159317828715, 'mean_intensity': 0.033624964524288904, 'subtracted_bg_per_pixel': 0}]}, {'label': 770, 'n_pixel': 1589, 'measured_channels': [{'channel': 0, 'sum_intensity': 109.65114840026945, 'mean_intensity': 0.06900638665844522, 'subtracted_bg_per_pixel': 0}, {'channel': 1, 'sum_intensity': 32.86807063082233, 'mean_intensity': 0.020684751812978183, 'subtracted_bg_per_pixel': 0}, {'channel': 2, 'sum_intensity': 59.399740799330175, 'mean_intensity': 0.037381838136771664, 'subtracted_bg_per_pixel': 0}, {'channel': 3, 'sum_intensity': 63.926344864070415, 'mean_intensity': 0.040230550575248845, 'subtracted_bg_per_pixel': 0}]}, {'label': 772, 'n_pixel': 502, 'measured_channels': [{'channel': 0, 'sum_intensity': 50.33867397904396, 'mean_intensity': 0.10027624298614335, 'subtracted_bg_per_pixel': 0}, {'channel': 1, 'sum_intensity': 18.581307750195265, 'mean_intensity': 0.03701455727130531, 'subtracted_bg_per_pixel': 0}, {'channel': 2, 'sum_intensity': 31.6220035366714, 'mean_intensity': 0.0629920389176721, 'subtracted_bg_per_pixel': 0}, {'channel': 3, 'sum_intensity': 33.22993821464479, 'mean_intensity': 0.06619509604510915, 'subtracted_bg_per_pixel': 0}]}, {'label': 781, 'n_pixel': 787, 'measured_channels': [{'channel': 0, 'sum_intensity': 107.52408643066883, 'mean_intensity': 0.13662526865396293, 'subtracted_bg_per_pixel': 0}, {'channel': 1, 'sum_intensity': 17.633569945115596, 'mean_intensity': 0.022406060921366704, 'subtracted_bg_per_pixel': 0}, {'channel': 2, 'sum_intensity': 48.052781058475375, 'mean_intensity': 0.061058171611785735, 'subtracted_bg_per_pixel': 0}, {'channel': 3, 'sum_intensity': 29.359701031818986, 'mean_intensity': 0.037305846292019045, 'subtracted_bg_per_pixel': 0}]}, {'label': 796, 'n_pixel': 1412, 'measured_channels': [{'channel': 0, 'sum_intensity': 89.50728638097644, 'mean_intensity': 0.0633904294482836, 'subtracted_bg_per_pixel': 0}, {'channel': 1, 'sum_intensity': 32.65934250224382, 'mean_intensity': 0.02312984596476191, 'subtracted_bg_per_pixel': 0}, {'channel': 2, 'sum_intensity': 57.781735084950924, 'mean_intensity': 0.04092190870039017, 'subtracted_bg_per_pixel': 0}, {'channel': 3, 'sum_intensity': 51.014999753795564, 'mean_intensity': 0.03612960322506768, 'subtracted_bg_per_pixel': 0}]}, {'label': 797, 'n_pixel': 507, 'measured_channels': [{'channel': 0, 'sum_intensity': 26.750393014401197, 'mean_intensity': 0.05276211639921341, 'subtracted_bg_per_pixel': 0}, {'channel': 1, 'sum_intensity': 20.331014031078666, 'mean_intensity': 0.04010061939068771, 'subtracted_bg_per_pixel': 0}, {'channel': 2, 'sum_intensity': 26.189623951911926, 'mean_intensity': 0.051656063021522536, 'subtracted_bg_per_pixel': 0}, {'channel': 3, 'sum_intensity': 15.420019840821624, 'mean_intensity': 0.030414240317202412, 'subtracted_bg_per_pixel': 0}]}, {'label': 798, 'n_pixel': 1363, 'measured_channels': [{'channel': 0, 'sum_intensity': 95.92069904878736, 'mean_intensity': 0.07037468748993937, 'subtracted_bg_per_pixel': 0}, {'channel': 1, 'sum_intensity': 14.771923548541963, 'mean_intensity': 0.010837801576333062, 'subtracted_bg_per_pixel': 0}, {'channel': 2, 'sum_intensity': 56.27443359885365, 'mean_intensity': 0.04128718532564464, 'subtracted_bg_per_pixel': 0}, {'channel': 3, 'sum_intensity': 42.417914221063256, 'mean_intensity': 0.031120993559107305, 'subtracted_bg_per_pixel': 0}]}, {'label': 799, 'n_pixel': 1335, 'measured_channels': [{'channel': 0, 'sum_intensity': 96.22447556257248, 'mean_intensity': 0.0720782588483689, 'subtracted_bg_per_pixel': 0}, {'channel': 1, 'sum_intensity': 30.618478833232075, 'mean_intensity': 0.022935190137252492, 'subtracted_bg_per_pixel': 0}, {'channel': 2, 'sum_intensity': 57.23915478400886, 'mean_intensity': 0.04287577137378941, 'subtracted_bg_per_pixel': 0}, {'channel': 3, 'sum_intensity': 56.51166567578912, 'mean_intensity': 0.04233083571220159, 'subtracted_bg_per_pixel': 0}]}, {'label': 800, 'n_pixel': 833, 'measured_channels': [{'channel': 0, 'sum_intensity': 93.3990082629025, 'mean_intensity': 0.11212365937923469, 'subtracted_bg_per_pixel': 0}, {'channel': 1, 'sum_intensity': 13.644968435168266, 'mean_intensity': 0.016380514327933093, 'subtracted_bg_per_pixel': 0}, {'channel': 2, 'sum_intensity': 52.45740451198071, 'mean_intensity': 0.06297407504439462, 'subtracted_bg_per_pixel': 0}, {'channel': 3, 'sum_intensity': 23.01774630881846, 'mean_intensity': 0.027632348509986145, 'subtracted_bg_per_pixel': 0}]}, {'label': 801, 'n_pixel': 860, 'measured_channels': [{'channel': 0, 'sum_intensity': 34.021622121334076, 'mean_intensity': 0.03956002572248148, 'subtracted_bg_per_pixel': 0}, {'channel': 1, 'sum_intensity': 22.98423754563555, 'mean_intensity': 0.026725857611204128, 'subtracted_bg_per_pixel': 0}, {'channel': 2, 'sum_intensity': 44.6752575468272, 'mean_intensity': 0.05194797389165953, 'subtracted_bg_per_pixel': 0}, {'channel': 3, 'sum_intensity': 20.727550287730992, 'mean_intensity': 0.024101802660152317, 'subtracted_bg_per_pixel': 0}]}, {'label': 802, 'n_pixel': 1990, 'measured_channels': [{'channel': 0, 'sum_intensity': 137.81054417602718, 'mean_intensity': 0.06925152973669707, 'subtracted_bg_per_pixel': 0}, {'channel': 1, 'sum_intensity': 80.9369193916209, 'mean_intensity': 0.04067181878975925, 'subtracted_bg_per_pixel': 0}, {'channel': 2, 'sum_intensity': 83.76284453831613, 'mean_intensity': 0.042091881677545795, 'subtracted_bg_per_pixel': 0}, {'channel': 3, 'sum_intensity': 93.53553082514554, 'mean_intensity': 0.047002779309118364, 'subtracted_bg_per_pixel': 0}]}, {'label': 803, 'n_pixel': 1092, 'measured_channels': [{'channel': 0, 'sum_intensity': 70.59102779999375, 'mean_intensity': 0.06464379835164263, 'subtracted_bg_per_pixel': 0}, {'channel': 1, 'sum_intensity': 24.00270096771419, 'mean_intensity': 0.02198049539167966, 'subtracted_bg_per_pixel': 0}, {'channel': 2, 'sum_intensity': 33.40968963224441, 'mean_intensity': 0.03059495387568169, 'subtracted_bg_per_pixel': 0}, {'channel': 3, 'sum_intensity': 36.50995664205402, 'mean_intensity': 0.033434026228987196, 'subtracted_bg_per_pixel': 0}]}, {'label': 804, 'n_pixel': 1306, 'measured_channels': [{'channel': 0, 'sum_intensity': 92.61722759716213, 'mean_intensity': 0.07091671332095109, 'subtracted_bg_per_pixel': 0}, {'channel': 1, 'sum_intensity': 42.26175342593342, 'mean_intensity': 0.032359688687544734, 'subtracted_bg_per_pixel': 0}, {'channel': 2, 'sum_intensity': 50.56450766324997, 'mean_intensity': 0.0387170809060107, 'subtracted_bg_per_pixel': 0}, {'channel': 3, 'sum_intensity': 50.282291979528964, 'mean_intensity': 0.038500989264570414, 'subtracted_bg_per_pixel': 0}]}, {'label': 805, 'n_pixel': 1712, 'measured_channels': [{'channel': 0, 'sum_intensity': 104.39153135195374, 'mean_intensity': 0.06097636177100102, 'subtracted_bg_per_pixel': 0}, {'channel': 1, 'sum_intensity': 42.36391259217635, 'mean_intensity': 0.02474527604683198, 'subtracted_bg_per_pixel': 0}, {'channel': 2, 'sum_intensity': 51.09388892585412, 'mean_intensity': 0.02984456128846619, 'subtracted_bg_per_pixel': 0}, {'channel': 3, 'sum_intensity': 55.11720468848944, 'mean_intensity': 0.03219462890682794, 'subtracted_bg_per_pixel': 0}]}, {'label': 806, 'n_pixel': 927, 'measured_channels': [{'channel': 0, 'sum_intensity': 82.90962090343237, 'mean_intensity': 0.08943864175127549, 'subtracted_bg_per_pixel': 0}, {'channel': 1, 'sum_intensity': 56.2899522036314, 'mean_intensity': 0.060722710036279826, 'subtracted_bg_per_pixel': 0}, {'channel': 2, 'sum_intensity': 40.20695819891989, 'mean_intensity': 0.04337320194058241, 'subtracted_bg_per_pixel': 0}, {'channel': 3, 'sum_intensity': 54.50338000431657, 'mean_intensity': 0.05879544768534689, 'subtracted_bg_per_pixel': 0}]}, {'label': 807, 'n_pixel': 1832, 'measured_channels': [{'channel': 0, 'sum_intensity': 83.43830042984337, 'mean_intensity': 0.04554492381541669, 'subtracted_bg_per_pixel': 0}, {'channel': 1, 'sum_intensity': 119.04357999190688, 'mean_intensity': 0.0649801200829186, 'subtracted_bg_per_pixel': 0}, {'channel': 2, 'sum_intensity': 72.22069145925343, 'mean_intensity': 0.03942177481400296, 'subtracted_bg_per_pixel': 0}, {'channel': 3, 'sum_intensity': 89.17582988087088, 'mean_intensity': 0.04867676303540987, 'subtracted_bg_per_pixel': 0}]}, {'label': 808, 'n_pixel': 1975, 'measured_channels': [{'channel': 0, 'sum_intensity': 132.62362108565867, 'mean_intensity': 0.0671512005497006, 'subtracted_bg_per_pixel': 0}, {'channel': 1, 'sum_intensity': 80.37065712315962, 'mean_intensity': 0.040694003606663094, 'subtracted_bg_per_pixel': 0}, {'channel': 2, 'sum_intensity': 76.1557796485722, 'mean_intensity': 0.03855988842965681, 'subtracted_bg_per_pixel': 0}, {'channel': 3, 'sum_intensity': 88.68560330197215, 'mean_intensity': 0.04490410293770742, 'subtracted_bg_per_pixel': 0}]}, {'label': 809, 'n_pixel': 1765, 'measured_channels': [{'channel': 0, 'sum_intensity': 103.24487697985023, 'mean_intensity': 0.05849568100841373, 'subtracted_bg_per_pixel': 0}, {'channel': 1, 'sum_intensity': 72.21612900123, 'mean_intensity': 0.04091565382505949, 'subtracted_bg_per_pixel': 0}, {'channel': 2, 'sum_intensity': 88.04901207610965, 'mean_intensity': 0.04988612582215844, 'subtracted_bg_per_pixel': 0}, {'channel': 3, 'sum_intensity': 92.62293446995318, 'mean_intensity': 0.05247758326909529, 'subtracted_bg_per_pixel': 0}]}]))]\n"
     ]
    }
   ],
   "source": [
    "# Load image\n",
    "uid = 5\n",
    "img = crud.read_image_by_uid(uid)\n",
    "\n",
    "clf_uid = 3\n",
    "int_clf = crud.read_classifier_by_uid(clf_uid)\n",
    "\n",
    "threshold = 0.7\n",
    "multichannel = int_clf.is_multichannel()"
   ]
  },
  {
   "cell_type": "code",
   "execution_count": 6,
   "id": "incorporated-course",
   "metadata": {},
   "outputs": [
    {
     "data": {
      "text/plain": [
       "(1547, 3169)"
      ]
     },
     "execution_count": 6,
     "metadata": {},
     "output_type": "execute_result"
    }
   ],
   "source": [
    "img_array = img.data[0, 0, ...]\n",
    "img_array.shape"
   ]
  },
  {
   "cell_type": "code",
   "execution_count": 3,
   "id": "american-publicity",
   "metadata": {},
   "outputs": [],
   "source": [
    "napari_viewer.view(img, display_bg_layer = False, display_segmentation_layers = True)\n",
    "# (2637955, 24)"
   ]
  },
  {
   "cell_type": "code",
   "execution_count": 17,
   "id": "competitive-gentleman",
   "metadata": {},
   "outputs": [],
   "source": [
    "segmentation_layer_uid = 6"
   ]
  },
  {
   "cell_type": "code",
   "execution_count": 18,
   "id": "collected-submission",
   "metadata": {},
   "outputs": [
    {
     "name": "stderr",
     "output_type": "stream",
     "text": [
      "100%|██████████████████████████████████████████████████████████████████████████████████| 37/37 [00:03<00:00, 12.33it/s]"
     ]
    },
    {
     "name": "stdout",
     "output_type": "stream",
     "text": [
      "On Init IntResultMeasurement\n"
     ]
    },
    {
     "name": "stderr",
     "output_type": "stream",
     "text": [
      "\n"
     ]
    }
   ],
   "source": [
    "measurement_result = img.measure_mask_in_image(segmentation_layer_uid)"
   ]
  },
  {
   "cell_type": "code",
   "execution_count": 2,
   "id": "sustainable-vegetable",
   "metadata": {},
   "outputs": [],
   "source": [
    "com_image_list = utils_com.get_com_image_list()"
   ]
  },
  {
   "cell_type": "code",
   "execution_count": 1,
   "id": "experimental-nancy",
   "metadata": {},
   "outputs": [],
   "source": [
    "# com_image_list"
   ]
  },
  {
   "cell_type": "code",
   "execution_count": 6,
   "id": "complimentary-catch",
   "metadata": {},
   "outputs": [],
   "source": [
    "import app.api.utils_paths as utils_paths\n",
    "utils_paths.make_measurement_path(3)"
   ]
  },
  {
   "cell_type": "code",
   "execution_count": 8,
   "id": "narrow-recorder",
   "metadata": {},
   "outputs": [],
   "source": [
    "with SessionLocal() as sess:\n",
    "    q = sess.query(db_models.Measurement).filter(db_models.Measurement.id == 1)\n",
    "    r = q.one()\n",
    "    db_measurement = utils_classes.measurement_sql_to_db(r)"
   ]
  },
  {
   "cell_type": "code",
   "execution_count": 4,
   "id": "ancient-coast",
   "metadata": {},
   "outputs": [
    {
     "name": "stdout",
     "output_type": "stream",
     "text": [
      "On Init IntExperiment:\n",
      "New Experiment created with id 2\n"
     ]
    }
   ],
   "source": [
    "# Create Experiment\n",
    "new_experiment = c_int.IntExperiment(\n",
    "    uid = -1,\n",
    "    name = \"Test Experiment\",\n",
    "    hint = \"Hinty Hint\",\n",
    ")\n",
    "new_experiment.on_init()"
   ]
  },
  {
   "cell_type": "code",
   "execution_count": 5,
   "id": "expanded-pollution",
   "metadata": {},
   "outputs": [
    {
     "name": "stdout",
     "output_type": "stream",
     "text": [
      "On Init IntExperimentGroup:\n",
      "New Group created with id 2\n"
     ]
    }
   ],
   "source": [
    "new_experiment.add_experiment_group(\"test group 1\")"
   ]
  },
  {
   "cell_type": "code",
   "execution_count": 6,
   "id": "accredited-domain",
   "metadata": {
    "collapsed": true,
    "jupyter": {
     "outputs_hidden": true
    }
   },
   "outputs": [
    {
     "name": "stdout",
     "output_type": "stream",
     "text": [
      "uid 5\n",
      "series_index 4\n",
      "name 0_test_czi.czi\n",
      "hint \n",
      "has_bg_layer False\n",
      "bg_layer_id None\n",
      "image_result_layers [IntImageResultLayer(uid=6, name='apply_stardist result', hint='', image_id=5, layer_type='labels', data=array([[0, 0, 0, ..., 0, 0, 0],\n",
      "       [0, 0, 0, ..., 0, 0, 0],\n",
      "       [0, 0, 0, ..., 0, 0, 0],\n",
      "       ...,\n",
      "       [0, 0, 0, ..., 0, 0, 0],\n",
      "       [0, 0, 0, ..., 0, 0, 0],\n",
      "       [0, 0, 0, ..., 0, 0, 0]]))]\n",
      "measurements [{'uid': 1, 'name': 'measurement_apply_stardist result_in_0_test_czi.czi', 'hint': '', 'image_id': 5, 'result_layer_id': 6, 'path': 'F:/Data_Storage/AG_Rittner/Microscope Framework/data/fileserver_folder/measurements/1.pkl'}, {'uid': 2, 'name': 'measurement_apply_stardist result_in_0_test_czi.czi', 'hint': '', 'image_id': 5, 'result_layer_id': 6, 'path': 'F:/Data_Storage/AG_Rittner/Microscope Framework/data/fileserver_folder/measurements/2.pkl'}]\n",
      "tags set()\n",
      "metadata {'image_name': '0_test_czi.czi #5', 'image_ID': 'Image_4', 'image_acquisition_date': '2020-06-10T09:42:08.983', 'pixel_dimensions': 'XYCZT', 'pixel_type': 'uint16', 'pixel_size_x': 1309, 'pixel_size_y': 2046, 'pixel_size_z': 1, 'pixel_size_slices': 4, 'pixel_size_physical_x': 0.908, 'pixel_size_physical_y': 0.908, 'pixel_size_physical_z': None, 'pixel_size_physical_unit_x': 'µm', 'pixel_size_physical_unit_y': 'µm', 'pixel_size_physical_unit_z': None, 'n_channels': 4, 'channel_names': ['AF488', 'DAPI', 'Cy3', 'Cy5'], 'custom_channel_names': ['AF488', 'DAPI', 'Cy3', 'Cy5'], 'original_filename': '0_test_czi.czi'}\n",
      "data [[[[0.         0.         0.         ... 0.         0.\n",
      "    0.        ]\n",
      "   [0.00331121 0.0034638  0.00317388 ... 0.         0.\n",
      "    0.        ]\n",
      "   [0.00317388 0.00294499 0.00364691 ... 0.         0.\n",
      "    0.        ]\n",
      "   ...\n",
      "   [0.         0.         0.00262455 ... 0.00433356 0.00334173\n",
      "    0.00323491]\n",
      "   [0.         0.         0.00296025 ... 0.00297551 0.00337224\n",
      "    0.00292973]\n",
      "   [0.         0.         0.00302129 ... 0.00373846 0.00315862\n",
      "    0.00354009]]\n",
      "\n",
      "  [[0.         0.         0.         ... 0.         0.\n",
      "    0.        ]\n",
      "   [0.00097658 0.00131228 0.00195315 ... 0.         0.\n",
      "    0.        ]\n",
      "   [0.00164797 0.00169375 0.00172427 ... 0.         0.\n",
      "    0.        ]\n",
      "   ...\n",
      "   [0.         0.         0.00144961 ... 0.00154116 0.00180056\n",
      "    0.00164797]\n",
      "   [0.         0.         0.00157168 ... 0.0016022  0.00181582\n",
      "    0.00183108]\n",
      "   [0.         0.         0.00154116 ... 0.00167849 0.00184634\n",
      "    0.00148013]]\n",
      "\n",
      "  [[0.         0.         0.         ... 0.         0.\n",
      "    0.        ]\n",
      "   [0.00563058 0.00469978 0.00495918 ... 0.         0.\n",
      "    0.        ]\n",
      "   [0.00489815 0.00509651 0.00517281 ... 0.         0.\n",
      "    0.        ]\n",
      "   ...\n",
      "   [0.         0.         0.00453193 ... 0.00495918 0.00482185\n",
      "    0.00546273]\n",
      "   [0.         0.         0.00450141 ... 0.00531014 0.0053254\n",
      "    0.00527962]\n",
      "   [0.         0.         0.00419623 ... 0.00486763 0.00521859\n",
      "    0.00587472]]\n",
      "\n",
      "  [[0.         0.         0.         ... 0.         0.\n",
      "    0.        ]\n",
      "   [0.0052491  0.00544747 0.00556954 ... 0.         0.\n",
      "    0.        ]\n",
      "   [0.00584421 0.00526436 0.00570687 ... 0.         0.\n",
      "    0.        ]\n",
      "   ...\n",
      "   [0.         0.         0.005066   ... 0.00642405 0.00601205\n",
      "    0.00668345]\n",
      "   [0.         0.         0.00497444 ... 0.00636301 0.0062562\n",
      "    0.00604257]\n",
      "   [0.         0.         0.00535592 ... 0.00628672 0.00614939\n",
      "    0.00683604]]]]\n",
      "result_measurements [IntResultMeasurement(uid=1, name='measurement_apply_stardist result_in_0_test_czi.czi', hint='', image_id=5, result_layer_id=6, measurement=IntResultMeasurement(uid=1, name='measurement_apply_stardist result_in_0_test_czi.czi', hint='', image_id=5, result_layer_id=6, measurement=[{'label': 0, 'n_pixel': 2634375, 'measured_channels': [{'channel': 0, 'sum_intensity': 39653.602751976345, 'mean_intensity': 0.015052375896361127, 'subtracted_bg_per_pixel': 0}, {'channel': 1, 'sum_intensity': 31052.401386268204, 'mean_intensity': 0.011787388426578678, 'subtracted_bg_per_pixel': 0}, {'channel': 2, 'sum_intensity': 28405.83338001836, 'mean_intensity': 0.010782760001904952, 'subtracted_bg_per_pixel': 0}, {'channel': 3, 'sum_intensity': 32326.93611811637, 'mean_intensity': 0.012271197577458171, 'subtracted_bg_per_pixel': 0}]}, {'label': 36, 'n_pixel': 1312, 'measured_channels': [{'channel': 0, 'sum_intensity': 63.252079136669636, 'mean_intensity': 0.0482104261712421, 'subtracted_bg_per_pixel': 0}, {'channel': 1, 'sum_intensity': 121.24284748267382, 'mean_intensity': 0.09241070692276969, 'subtracted_bg_per_pixel': 0}, {'channel': 2, 'sum_intensity': 48.85149930790067, 'mean_intensity': 0.03723437447248527, 'subtracted_bg_per_pixel': 0}, {'channel': 3, 'sum_intensity': 46.198657328262925, 'mean_intensity': 0.035212391256297965, 'subtracted_bg_per_pixel': 0}]}, {'label': 40, 'n_pixel': 658, 'measured_channels': [{'channel': 0, 'sum_intensity': 59.50548570230603, 'mean_intensity': 0.0904338688484894, 'subtracted_bg_per_pixel': 0}, {'channel': 1, 'sum_intensity': 12.284443483222276, 'mean_intensity': 0.018669366995778536, 'subtracted_bg_per_pixel': 0}, {'channel': 2, 'sum_intensity': 29.371099516749382, 'mean_intensity': 0.04463692935676198, 'subtracted_bg_per_pixel': 0}, {'channel': 3, 'sum_intensity': 32.622476575896144, 'mean_intensity': 0.04957823187826162, 'subtracted_bg_per_pixel': 0}]}, {'label': 52, 'n_pixel': 1183, 'measured_channels': [{'channel': 0, 'sum_intensity': 78.69248506613076, 'mean_intensity': 0.066519429472638, 'subtracted_bg_per_pixel': 0}, {'channel': 1, 'sum_intensity': 42.56633869558573, 'mean_intensity': 0.035981689514442715, 'subtracted_bg_per_pixel': 0}, {'channel': 2, 'sum_intensity': 52.86070052161813, 'mean_intensity': 0.044683601455298504, 'subtracted_bg_per_pixel': 0}, {'channel': 3, 'sum_intensity': 41.150103118270636, 'mean_intensity': 0.034784533489662414, 'subtracted_bg_per_pixel': 0}]}, {'label': 55, 'n_pixel': 554, 'measured_channels': [{'channel': 0, 'sum_intensity': 36.65618373453617, 'mean_intensity': 0.06616639663273677, 'subtracted_bg_per_pixel': 0}, {'channel': 1, 'sum_intensity': 29.189807043410838, 'mean_intensity': 0.05268918238882823, 'subtracted_bg_per_pixel': 0}, {'channel': 2, 'sum_intensity': 17.34537278022617, 'mean_intensity': 0.03130933714842269, 'subtracted_bg_per_pixel': 0}, {'channel': 3, 'sum_intensity': 18.952483436092734, 'mean_intensity': 0.034210258909914686, 'subtracted_bg_per_pixel': 0}]}, {'label': 119, 'n_pixel': 582, 'measured_channels': [{'channel': 0, 'sum_intensity': 20.500358628109097, 'mean_intensity': 0.03522398389709467, 'subtracted_bg_per_pixel': 0}, {'channel': 1, 'sum_intensity': 16.186999382916838, 'mean_intensity': 0.027812713716351956, 'subtracted_bg_per_pixel': 0}, {'channel': 2, 'sum_intensity': 27.501472543925047, 'mean_intensity': 0.04725338925073032, 'subtracted_bg_per_pixel': 0}, {'channel': 3, 'sum_intensity': 22.078217843547463, 'mean_intensity': 0.03793508220540801, 'subtracted_bg_per_pixel': 0}]}, {'label': 154, 'n_pixel': 810, 'measured_channels': [{'channel': 0, 'sum_intensity': 96.9941100999713, 'mean_intensity': 0.11974581493823616, 'subtracted_bg_per_pixel': 0}, {'channel': 1, 'sum_intensity': 16.212619272060692, 'mean_intensity': 0.020015579348223077, 'subtracted_bg_per_pixel': 0}, {'channel': 2, 'sum_intensity': 51.07125972956419, 'mean_intensity': 0.06305093793773357, 'subtracted_bg_per_pixel': 0}, {'channel': 3, 'sum_intensity': 22.27942330110818, 'mean_intensity': 0.027505460865565656, 'subtracted_bg_per_pixel': 0}]}, {'label': 176, 'n_pixel': 542, 'measured_channels': [{'channel': 0, 'sum_intensity': 37.992004327476025, 'mean_intensity': 0.0700959489436827, 'subtracted_bg_per_pixel': 0}, {'channel': 1, 'sum_intensity': 24.027649390976876, 'mean_intensity': 0.044331456440916746, 'subtracted_bg_per_pixel': 0}, {'channel': 2, 'sum_intensity': 20.30246432684362, 'mean_intensity': 0.03745842126723915, 'subtracted_bg_per_pixel': 0}, {'channel': 3, 'sum_intensity': 17.25313199684024, 'mean_intensity': 0.03183234685763882, 'subtracted_bg_per_pixel': 0}]}, {'label': 241, 'n_pixel': 1353, 'measured_channels': [{'channel': 0, 'sum_intensity': 106.26242480427027, 'mean_intensity': 0.07853837753456783, 'subtracted_bg_per_pixel': 0}, {'channel': 1, 'sum_intensity': 71.10740829864517, 'mean_intensity': 0.05255536459619007, 'subtracted_bg_per_pixel': 0}, {'channel': 2, 'sum_intensity': 67.71097900345922, 'mean_intensity': 0.050045069477796904, 'subtracted_bg_per_pixel': 0}, {'channel': 3, 'sum_intensity': 72.58892201818526, 'mean_intensity': 0.05365034886783833, 'subtracted_bg_per_pixel': 0}]}, {'label': 298, 'n_pixel': 1583, 'measured_channels': [{'channel': 0, 'sum_intensity': 107.4469216875732, 'mean_intensity': 0.06787550327705193, 'subtracted_bg_per_pixel': 0}, {'channel': 1, 'sum_intensity': 32.92677208641544, 'mean_intensity': 0.020800235051431106, 'subtracted_bg_per_pixel': 0}, {'channel': 2, 'sum_intensity': 66.07742448709905, 'mean_intensity': 0.04174189797037211, 'subtracted_bg_per_pixel': 0}, {'channel': 3, 'sum_intensity': 62.446555393747985, 'mean_intensity': 0.039448234613864805, 'subtracted_bg_per_pixel': 0}]}, {'label': 299, 'n_pixel': 1199, 'measured_channels': [{'channel': 0, 'sum_intensity': 59.725902339443564, 'mean_intensity': 0.04981309619636661, 'subtracted_bg_per_pixel': 0}, {'channel': 1, 'sum_intensity': 39.449149458669126, 'mean_intensity': 0.03290170930664648, 'subtracted_bg_per_pixel': 0}, {'channel': 2, 'sum_intensity': 42.4292973941192, 'mean_intensity': 0.03538723719275997, 'subtracted_bg_per_pixel': 0}, {'channel': 3, 'sum_intensity': 40.43189144413918, 'mean_intensity': 0.03372134399010774, 'subtracted_bg_per_pixel': 0}]}, {'label': 530, 'n_pixel': 577, 'measured_channels': [{'channel': 0, 'sum_intensity': 32.68314650095999, 'mean_intensity': 0.05664323483701905, 'subtracted_bg_per_pixel': 0}, {'channel': 1, 'sum_intensity': 22.4571298584342, 'mean_intensity': 0.03892050235430537, 'subtracted_bg_per_pixel': 0}, {'channel': 2, 'sum_intensity': 27.866453140974045, 'mean_intensity': 0.04829541272265866, 'subtracted_bg_per_pixel': 0}, {'channel': 3, 'sum_intensity': 22.242114944383502, 'mean_intensity': 0.03854785952232843, 'subtracted_bg_per_pixel': 0}]}, {'label': 638, 'n_pixel': 1166, 'measured_channels': [{'channel': 0, 'sum_intensity': 95.32748937420547, 'mean_intensity': 0.0817559943175004, 'subtracted_bg_per_pixel': 0}, {'channel': 1, 'sum_intensity': 22.093186967540532, 'mean_intensity': 0.0189478447406008, 'subtracted_bg_per_pixel': 0}, {'channel': 2, 'sum_intensity': 62.182147067040205, 'mean_intensity': 0.053329457175849235, 'subtracted_bg_per_pixel': 0}, {'channel': 3, 'sum_intensity': 53.20425732526928, 'mean_intensity': 0.045629723263524255, 'subtracted_bg_per_pixel': 0}]}, {'label': 677, 'n_pixel': 1931, 'measured_channels': [{'channel': 0, 'sum_intensity': 193.70406689867377, 'mean_intensity': 0.10031282594441936, 'subtracted_bg_per_pixel': 0}, {'channel': 1, 'sum_intensity': 41.63462288212031, 'mean_intensity': 0.021561171870595707, 'subtracted_bg_per_pixel': 0}, {'channel': 2, 'sum_intensity': 77.5554897096008, 'mean_intensity': 0.04016338151714179, 'subtracted_bg_per_pixel': 0}, {'channel': 3, 'sum_intensity': 67.5589687358588, 'mean_intensity': 0.03498651928319979, 'subtracted_bg_per_pixel': 0}]}, {'label': 687, 'n_pixel': 852, 'measured_channels': [{'channel': 0, 'sum_intensity': 79.04844746738672, 'mean_intensity': 0.09277986791946799, 'subtracted_bg_per_pixel': 0}, {'channel': 1, 'sum_intensity': 32.79557505855337, 'mean_intensity': 0.038492458988912404, 'subtracted_bg_per_pixel': 0}, {'channel': 2, 'sum_intensity': 42.57647071778774, 'mean_intensity': 0.04997238347158186, 'subtracted_bg_per_pixel': 0}, {'channel': 3, 'sum_intensity': 41.135988561436534, 'mean_intensity': 0.0482816767153011, 'subtracted_bg_per_pixel': 0}]}, {'label': 720, 'n_pixel': 1645, 'measured_channels': [{'channel': 0, 'sum_intensity': 122.90356302633882, 'mean_intensity': 0.07471341217406614, 'subtracted_bg_per_pixel': 0}, {'channel': 1, 'sum_intensity': 72.54268733272329, 'mean_intensity': 0.04409889807460382, 'subtracted_bg_per_pixel': 0}, {'channel': 2, 'sum_intensity': 53.27695142943412, 'mean_intensity': 0.03238720451637333, 'subtracted_bg_per_pixel': 0}, {'channel': 3, 'sum_intensity': 44.10594358574599, 'mean_intensity': 0.02681212376033191, 'subtracted_bg_per_pixel': 0}]}, {'label': 723, 'n_pixel': 1758, 'measured_channels': [{'channel': 0, 'sum_intensity': 104.37871380336583, 'mean_intensity': 0.05937355733979854, 'subtracted_bg_per_pixel': 0}, {'channel': 1, 'sum_intensity': 33.0955674094148, 'mean_intensity': 0.01882569249682298, 'subtracted_bg_per_pixel': 0}, {'channel': 2, 'sum_intensity': 75.95916705019772, 'mean_intensity': 0.04320771732093158, 'subtracted_bg_per_pixel': 0}, {'channel': 3, 'sum_intensity': 73.58313891291618, 'mean_intensity': 0.04185616547947451, 'subtracted_bg_per_pixel': 0}]}, {'label': 754, 'n_pixel': 2373, 'measured_channels': [{'channel': 0, 'sum_intensity': 125.18846441246569, 'mean_intensity': 0.05275535794878453, 'subtracted_bg_per_pixel': 0}, {'channel': 1, 'sum_intensity': 32.771328560542315, 'mean_intensity': 0.013810083674901944, 'subtracted_bg_per_pixel': 0}, {'channel': 2, 'sum_intensity': 77.00636324472725, 'mean_intensity': 0.03245105910018005, 'subtracted_bg_per_pixel': 0}, {'channel': 3, 'sum_intensity': 66.08213946502656, 'mean_intensity': 0.027847509256226952, 'subtracted_bg_per_pixel': 0}]}, {'label': 764, 'n_pixel': 1077, 'measured_channels': [{'channel': 0, 'sum_intensity': 65.09851233661175, 'mean_intensity': 0.060444301148200326, 'subtracted_bg_per_pixel': 0}, {'channel': 1, 'sum_intensity': 16.308659601956606, 'mean_intensity': 0.015142673725122197, 'subtracted_bg_per_pixel': 0}, {'channel': 2, 'sum_intensity': 38.591409273445606, 'mean_intensity': 0.03583232058815748, 'subtracted_bg_per_pixel': 0}, {'channel': 3, 'sum_intensity': 45.22758845984936, 'mean_intensity': 0.041994046852227816, 'subtracted_bg_per_pixel': 0}]}, {'label': 767, 'n_pixel': 897, 'measured_channels': [{'channel': 0, 'sum_intensity': 83.31013967655599, 'mean_intensity': 0.09287640989582607, 'subtracted_bg_per_pixel': 0}, {'channel': 1, 'sum_intensity': 23.03222720697522, 'mean_intensity': 0.025676953407999133, 'subtracted_bg_per_pixel': 0}, {'channel': 2, 'sum_intensity': 47.10557725094259, 'mean_intensity': 0.05251457887507535, 'subtracted_bg_per_pixel': 0}, {'channel': 3, 'sum_intensity': 30.16159317828715, 'mean_intensity': 0.033624964524288904, 'subtracted_bg_per_pixel': 0}]}, {'label': 770, 'n_pixel': 1589, 'measured_channels': [{'channel': 0, 'sum_intensity': 109.65114840026945, 'mean_intensity': 0.06900638665844522, 'subtracted_bg_per_pixel': 0}, {'channel': 1, 'sum_intensity': 32.86807063082233, 'mean_intensity': 0.020684751812978183, 'subtracted_bg_per_pixel': 0}, {'channel': 2, 'sum_intensity': 59.399740799330175, 'mean_intensity': 0.037381838136771664, 'subtracted_bg_per_pixel': 0}, {'channel': 3, 'sum_intensity': 63.926344864070415, 'mean_intensity': 0.040230550575248845, 'subtracted_bg_per_pixel': 0}]}, {'label': 772, 'n_pixel': 502, 'measured_channels': [{'channel': 0, 'sum_intensity': 50.33867397904396, 'mean_intensity': 0.10027624298614335, 'subtracted_bg_per_pixel': 0}, {'channel': 1, 'sum_intensity': 18.581307750195265, 'mean_intensity': 0.03701455727130531, 'subtracted_bg_per_pixel': 0}, {'channel': 2, 'sum_intensity': 31.6220035366714, 'mean_intensity': 0.0629920389176721, 'subtracted_bg_per_pixel': 0}, {'channel': 3, 'sum_intensity': 33.22993821464479, 'mean_intensity': 0.06619509604510915, 'subtracted_bg_per_pixel': 0}]}, {'label': 781, 'n_pixel': 787, 'measured_channels': [{'channel': 0, 'sum_intensity': 107.52408643066883, 'mean_intensity': 0.13662526865396293, 'subtracted_bg_per_pixel': 0}, {'channel': 1, 'sum_intensity': 17.633569945115596, 'mean_intensity': 0.022406060921366704, 'subtracted_bg_per_pixel': 0}, {'channel': 2, 'sum_intensity': 48.052781058475375, 'mean_intensity': 0.061058171611785735, 'subtracted_bg_per_pixel': 0}, {'channel': 3, 'sum_intensity': 29.359701031818986, 'mean_intensity': 0.037305846292019045, 'subtracted_bg_per_pixel': 0}]}, {'label': 796, 'n_pixel': 1412, 'measured_channels': [{'channel': 0, 'sum_intensity': 89.50728638097644, 'mean_intensity': 0.0633904294482836, 'subtracted_bg_per_pixel': 0}, {'channel': 1, 'sum_intensity': 32.65934250224382, 'mean_intensity': 0.02312984596476191, 'subtracted_bg_per_pixel': 0}, {'channel': 2, 'sum_intensity': 57.781735084950924, 'mean_intensity': 0.04092190870039017, 'subtracted_bg_per_pixel': 0}, {'channel': 3, 'sum_intensity': 51.014999753795564, 'mean_intensity': 0.03612960322506768, 'subtracted_bg_per_pixel': 0}]}, {'label': 797, 'n_pixel': 507, 'measured_channels': [{'channel': 0, 'sum_intensity': 26.750393014401197, 'mean_intensity': 0.05276211639921341, 'subtracted_bg_per_pixel': 0}, {'channel': 1, 'sum_intensity': 20.331014031078666, 'mean_intensity': 0.04010061939068771, 'subtracted_bg_per_pixel': 0}, {'channel': 2, 'sum_intensity': 26.189623951911926, 'mean_intensity': 0.051656063021522536, 'subtracted_bg_per_pixel': 0}, {'channel': 3, 'sum_intensity': 15.420019840821624, 'mean_intensity': 0.030414240317202412, 'subtracted_bg_per_pixel': 0}]}, {'label': 798, 'n_pixel': 1363, 'measured_channels': [{'channel': 0, 'sum_intensity': 95.92069904878736, 'mean_intensity': 0.07037468748993937, 'subtracted_bg_per_pixel': 0}, {'channel': 1, 'sum_intensity': 14.771923548541963, 'mean_intensity': 0.010837801576333062, 'subtracted_bg_per_pixel': 0}, {'channel': 2, 'sum_intensity': 56.27443359885365, 'mean_intensity': 0.04128718532564464, 'subtracted_bg_per_pixel': 0}, {'channel': 3, 'sum_intensity': 42.417914221063256, 'mean_intensity': 0.031120993559107305, 'subtracted_bg_per_pixel': 0}]}, {'label': 799, 'n_pixel': 1335, 'measured_channels': [{'channel': 0, 'sum_intensity': 96.22447556257248, 'mean_intensity': 0.0720782588483689, 'subtracted_bg_per_pixel': 0}, {'channel': 1, 'sum_intensity': 30.618478833232075, 'mean_intensity': 0.022935190137252492, 'subtracted_bg_per_pixel': 0}, {'channel': 2, 'sum_intensity': 57.23915478400886, 'mean_intensity': 0.04287577137378941, 'subtracted_bg_per_pixel': 0}, {'channel': 3, 'sum_intensity': 56.51166567578912, 'mean_intensity': 0.04233083571220159, 'subtracted_bg_per_pixel': 0}]}, {'label': 800, 'n_pixel': 833, 'measured_channels': [{'channel': 0, 'sum_intensity': 93.3990082629025, 'mean_intensity': 0.11212365937923469, 'subtracted_bg_per_pixel': 0}, {'channel': 1, 'sum_intensity': 13.644968435168266, 'mean_intensity': 0.016380514327933093, 'subtracted_bg_per_pixel': 0}, {'channel': 2, 'sum_intensity': 52.45740451198071, 'mean_intensity': 0.06297407504439462, 'subtracted_bg_per_pixel': 0}, {'channel': 3, 'sum_intensity': 23.01774630881846, 'mean_intensity': 0.027632348509986145, 'subtracted_bg_per_pixel': 0}]}, {'label': 801, 'n_pixel': 860, 'measured_channels': [{'channel': 0, 'sum_intensity': 34.021622121334076, 'mean_intensity': 0.03956002572248148, 'subtracted_bg_per_pixel': 0}, {'channel': 1, 'sum_intensity': 22.98423754563555, 'mean_intensity': 0.026725857611204128, 'subtracted_bg_per_pixel': 0}, {'channel': 2, 'sum_intensity': 44.6752575468272, 'mean_intensity': 0.05194797389165953, 'subtracted_bg_per_pixel': 0}, {'channel': 3, 'sum_intensity': 20.727550287730992, 'mean_intensity': 0.024101802660152317, 'subtracted_bg_per_pixel': 0}]}, {'label': 802, 'n_pixel': 1990, 'measured_channels': [{'channel': 0, 'sum_intensity': 137.81054417602718, 'mean_intensity': 0.06925152973669707, 'subtracted_bg_per_pixel': 0}, {'channel': 1, 'sum_intensity': 80.9369193916209, 'mean_intensity': 0.04067181878975925, 'subtracted_bg_per_pixel': 0}, {'channel': 2, 'sum_intensity': 83.76284453831613, 'mean_intensity': 0.042091881677545795, 'subtracted_bg_per_pixel': 0}, {'channel': 3, 'sum_intensity': 93.53553082514554, 'mean_intensity': 0.047002779309118364, 'subtracted_bg_per_pixel': 0}]}, {'label': 803, 'n_pixel': 1092, 'measured_channels': [{'channel': 0, 'sum_intensity': 70.59102779999375, 'mean_intensity': 0.06464379835164263, 'subtracted_bg_per_pixel': 0}, {'channel': 1, 'sum_intensity': 24.00270096771419, 'mean_intensity': 0.02198049539167966, 'subtracted_bg_per_pixel': 0}, {'channel': 2, 'sum_intensity': 33.40968963224441, 'mean_intensity': 0.03059495387568169, 'subtracted_bg_per_pixel': 0}, {'channel': 3, 'sum_intensity': 36.50995664205402, 'mean_intensity': 0.033434026228987196, 'subtracted_bg_per_pixel': 0}]}, {'label': 804, 'n_pixel': 1306, 'measured_channels': [{'channel': 0, 'sum_intensity': 92.61722759716213, 'mean_intensity': 0.07091671332095109, 'subtracted_bg_per_pixel': 0}, {'channel': 1, 'sum_intensity': 42.26175342593342, 'mean_intensity': 0.032359688687544734, 'subtracted_bg_per_pixel': 0}, {'channel': 2, 'sum_intensity': 50.56450766324997, 'mean_intensity': 0.0387170809060107, 'subtracted_bg_per_pixel': 0}, {'channel': 3, 'sum_intensity': 50.282291979528964, 'mean_intensity': 0.038500989264570414, 'subtracted_bg_per_pixel': 0}]}, {'label': 805, 'n_pixel': 1712, 'measured_channels': [{'channel': 0, 'sum_intensity': 104.39153135195374, 'mean_intensity': 0.06097636177100102, 'subtracted_bg_per_pixel': 0}, {'channel': 1, 'sum_intensity': 42.36391259217635, 'mean_intensity': 0.02474527604683198, 'subtracted_bg_per_pixel': 0}, {'channel': 2, 'sum_intensity': 51.09388892585412, 'mean_intensity': 0.02984456128846619, 'subtracted_bg_per_pixel': 0}, {'channel': 3, 'sum_intensity': 55.11720468848944, 'mean_intensity': 0.03219462890682794, 'subtracted_bg_per_pixel': 0}]}, {'label': 806, 'n_pixel': 927, 'measured_channels': [{'channel': 0, 'sum_intensity': 82.90962090343237, 'mean_intensity': 0.08943864175127549, 'subtracted_bg_per_pixel': 0}, {'channel': 1, 'sum_intensity': 56.2899522036314, 'mean_intensity': 0.060722710036279826, 'subtracted_bg_per_pixel': 0}, {'channel': 2, 'sum_intensity': 40.20695819891989, 'mean_intensity': 0.04337320194058241, 'subtracted_bg_per_pixel': 0}, {'channel': 3, 'sum_intensity': 54.50338000431657, 'mean_intensity': 0.05879544768534689, 'subtracted_bg_per_pixel': 0}]}, {'label': 807, 'n_pixel': 1832, 'measured_channels': [{'channel': 0, 'sum_intensity': 83.43830042984337, 'mean_intensity': 0.04554492381541669, 'subtracted_bg_per_pixel': 0}, {'channel': 1, 'sum_intensity': 119.04357999190688, 'mean_intensity': 0.0649801200829186, 'subtracted_bg_per_pixel': 0}, {'channel': 2, 'sum_intensity': 72.22069145925343, 'mean_intensity': 0.03942177481400296, 'subtracted_bg_per_pixel': 0}, {'channel': 3, 'sum_intensity': 89.17582988087088, 'mean_intensity': 0.04867676303540987, 'subtracted_bg_per_pixel': 0}]}, {'label': 808, 'n_pixel': 1975, 'measured_channels': [{'channel': 0, 'sum_intensity': 132.62362108565867, 'mean_intensity': 0.0671512005497006, 'subtracted_bg_per_pixel': 0}, {'channel': 1, 'sum_intensity': 80.37065712315962, 'mean_intensity': 0.040694003606663094, 'subtracted_bg_per_pixel': 0}, {'channel': 2, 'sum_intensity': 76.1557796485722, 'mean_intensity': 0.03855988842965681, 'subtracted_bg_per_pixel': 0}, {'channel': 3, 'sum_intensity': 88.68560330197215, 'mean_intensity': 0.04490410293770742, 'subtracted_bg_per_pixel': 0}]}, {'label': 809, 'n_pixel': 1765, 'measured_channels': [{'channel': 0, 'sum_intensity': 103.24487697985023, 'mean_intensity': 0.05849568100841373, 'subtracted_bg_per_pixel': 0}, {'channel': 1, 'sum_intensity': 72.21612900123, 'mean_intensity': 0.04091565382505949, 'subtracted_bg_per_pixel': 0}, {'channel': 2, 'sum_intensity': 88.04901207610965, 'mean_intensity': 0.04988612582215844, 'subtracted_bg_per_pixel': 0}, {'channel': 3, 'sum_intensity': 92.62293446995318, 'mean_intensity': 0.05247758326909529, 'subtracted_bg_per_pixel': 0}]}])), IntResultMeasurement(uid=2, name='measurement_apply_stardist result_in_0_test_czi.czi', hint='', image_id=5, result_layer_id=6, measurement=IntResultMeasurement(uid=2, name='measurement_apply_stardist result_in_0_test_czi.czi', hint='', image_id=5, result_layer_id=6, measurement=[{'label': 0, 'n_pixel': 2634375, 'measured_channels': [{'channel': 0, 'sum_intensity': 39653.602751976345, 'mean_intensity': 0.015052375896361127, 'subtracted_bg_per_pixel': 0}, {'channel': 1, 'sum_intensity': 31052.401386268204, 'mean_intensity': 0.011787388426578678, 'subtracted_bg_per_pixel': 0}, {'channel': 2, 'sum_intensity': 28405.83338001836, 'mean_intensity': 0.010782760001904952, 'subtracted_bg_per_pixel': 0}, {'channel': 3, 'sum_intensity': 32326.93611811637, 'mean_intensity': 0.012271197577458171, 'subtracted_bg_per_pixel': 0}]}, {'label': 36, 'n_pixel': 1312, 'measured_channels': [{'channel': 0, 'sum_intensity': 63.252079136669636, 'mean_intensity': 0.0482104261712421, 'subtracted_bg_per_pixel': 0}, {'channel': 1, 'sum_intensity': 121.24284748267382, 'mean_intensity': 0.09241070692276969, 'subtracted_bg_per_pixel': 0}, {'channel': 2, 'sum_intensity': 48.85149930790067, 'mean_intensity': 0.03723437447248527, 'subtracted_bg_per_pixel': 0}, {'channel': 3, 'sum_intensity': 46.198657328262925, 'mean_intensity': 0.035212391256297965, 'subtracted_bg_per_pixel': 0}]}, {'label': 40, 'n_pixel': 658, 'measured_channels': [{'channel': 0, 'sum_intensity': 59.50548570230603, 'mean_intensity': 0.0904338688484894, 'subtracted_bg_per_pixel': 0}, {'channel': 1, 'sum_intensity': 12.284443483222276, 'mean_intensity': 0.018669366995778536, 'subtracted_bg_per_pixel': 0}, {'channel': 2, 'sum_intensity': 29.371099516749382, 'mean_intensity': 0.04463692935676198, 'subtracted_bg_per_pixel': 0}, {'channel': 3, 'sum_intensity': 32.622476575896144, 'mean_intensity': 0.04957823187826162, 'subtracted_bg_per_pixel': 0}]}, {'label': 52, 'n_pixel': 1183, 'measured_channels': [{'channel': 0, 'sum_intensity': 78.69248506613076, 'mean_intensity': 0.066519429472638, 'subtracted_bg_per_pixel': 0}, {'channel': 1, 'sum_intensity': 42.56633869558573, 'mean_intensity': 0.035981689514442715, 'subtracted_bg_per_pixel': 0}, {'channel': 2, 'sum_intensity': 52.86070052161813, 'mean_intensity': 0.044683601455298504, 'subtracted_bg_per_pixel': 0}, {'channel': 3, 'sum_intensity': 41.150103118270636, 'mean_intensity': 0.034784533489662414, 'subtracted_bg_per_pixel': 0}]}, {'label': 55, 'n_pixel': 554, 'measured_channels': [{'channel': 0, 'sum_intensity': 36.65618373453617, 'mean_intensity': 0.06616639663273677, 'subtracted_bg_per_pixel': 0}, {'channel': 1, 'sum_intensity': 29.189807043410838, 'mean_intensity': 0.05268918238882823, 'subtracted_bg_per_pixel': 0}, {'channel': 2, 'sum_intensity': 17.34537278022617, 'mean_intensity': 0.03130933714842269, 'subtracted_bg_per_pixel': 0}, {'channel': 3, 'sum_intensity': 18.952483436092734, 'mean_intensity': 0.034210258909914686, 'subtracted_bg_per_pixel': 0}]}, {'label': 119, 'n_pixel': 582, 'measured_channels': [{'channel': 0, 'sum_intensity': 20.500358628109097, 'mean_intensity': 0.03522398389709467, 'subtracted_bg_per_pixel': 0}, {'channel': 1, 'sum_intensity': 16.186999382916838, 'mean_intensity': 0.027812713716351956, 'subtracted_bg_per_pixel': 0}, {'channel': 2, 'sum_intensity': 27.501472543925047, 'mean_intensity': 0.04725338925073032, 'subtracted_bg_per_pixel': 0}, {'channel': 3, 'sum_intensity': 22.078217843547463, 'mean_intensity': 0.03793508220540801, 'subtracted_bg_per_pixel': 0}]}, {'label': 154, 'n_pixel': 810, 'measured_channels': [{'channel': 0, 'sum_intensity': 96.9941100999713, 'mean_intensity': 0.11974581493823616, 'subtracted_bg_per_pixel': 0}, {'channel': 1, 'sum_intensity': 16.212619272060692, 'mean_intensity': 0.020015579348223077, 'subtracted_bg_per_pixel': 0}, {'channel': 2, 'sum_intensity': 51.07125972956419, 'mean_intensity': 0.06305093793773357, 'subtracted_bg_per_pixel': 0}, {'channel': 3, 'sum_intensity': 22.27942330110818, 'mean_intensity': 0.027505460865565656, 'subtracted_bg_per_pixel': 0}]}, {'label': 176, 'n_pixel': 542, 'measured_channels': [{'channel': 0, 'sum_intensity': 37.992004327476025, 'mean_intensity': 0.0700959489436827, 'subtracted_bg_per_pixel': 0}, {'channel': 1, 'sum_intensity': 24.027649390976876, 'mean_intensity': 0.044331456440916746, 'subtracted_bg_per_pixel': 0}, {'channel': 2, 'sum_intensity': 20.30246432684362, 'mean_intensity': 0.03745842126723915, 'subtracted_bg_per_pixel': 0}, {'channel': 3, 'sum_intensity': 17.25313199684024, 'mean_intensity': 0.03183234685763882, 'subtracted_bg_per_pixel': 0}]}, {'label': 241, 'n_pixel': 1353, 'measured_channels': [{'channel': 0, 'sum_intensity': 106.26242480427027, 'mean_intensity': 0.07853837753456783, 'subtracted_bg_per_pixel': 0}, {'channel': 1, 'sum_intensity': 71.10740829864517, 'mean_intensity': 0.05255536459619007, 'subtracted_bg_per_pixel': 0}, {'channel': 2, 'sum_intensity': 67.71097900345922, 'mean_intensity': 0.050045069477796904, 'subtracted_bg_per_pixel': 0}, {'channel': 3, 'sum_intensity': 72.58892201818526, 'mean_intensity': 0.05365034886783833, 'subtracted_bg_per_pixel': 0}]}, {'label': 298, 'n_pixel': 1583, 'measured_channels': [{'channel': 0, 'sum_intensity': 107.4469216875732, 'mean_intensity': 0.06787550327705193, 'subtracted_bg_per_pixel': 0}, {'channel': 1, 'sum_intensity': 32.92677208641544, 'mean_intensity': 0.020800235051431106, 'subtracted_bg_per_pixel': 0}, {'channel': 2, 'sum_intensity': 66.07742448709905, 'mean_intensity': 0.04174189797037211, 'subtracted_bg_per_pixel': 0}, {'channel': 3, 'sum_intensity': 62.446555393747985, 'mean_intensity': 0.039448234613864805, 'subtracted_bg_per_pixel': 0}]}, {'label': 299, 'n_pixel': 1199, 'measured_channels': [{'channel': 0, 'sum_intensity': 59.725902339443564, 'mean_intensity': 0.04981309619636661, 'subtracted_bg_per_pixel': 0}, {'channel': 1, 'sum_intensity': 39.449149458669126, 'mean_intensity': 0.03290170930664648, 'subtracted_bg_per_pixel': 0}, {'channel': 2, 'sum_intensity': 42.4292973941192, 'mean_intensity': 0.03538723719275997, 'subtracted_bg_per_pixel': 0}, {'channel': 3, 'sum_intensity': 40.43189144413918, 'mean_intensity': 0.03372134399010774, 'subtracted_bg_per_pixel': 0}]}, {'label': 530, 'n_pixel': 577, 'measured_channels': [{'channel': 0, 'sum_intensity': 32.68314650095999, 'mean_intensity': 0.05664323483701905, 'subtracted_bg_per_pixel': 0}, {'channel': 1, 'sum_intensity': 22.4571298584342, 'mean_intensity': 0.03892050235430537, 'subtracted_bg_per_pixel': 0}, {'channel': 2, 'sum_intensity': 27.866453140974045, 'mean_intensity': 0.04829541272265866, 'subtracted_bg_per_pixel': 0}, {'channel': 3, 'sum_intensity': 22.242114944383502, 'mean_intensity': 0.03854785952232843, 'subtracted_bg_per_pixel': 0}]}, {'label': 638, 'n_pixel': 1166, 'measured_channels': [{'channel': 0, 'sum_intensity': 95.32748937420547, 'mean_intensity': 0.0817559943175004, 'subtracted_bg_per_pixel': 0}, {'channel': 1, 'sum_intensity': 22.093186967540532, 'mean_intensity': 0.0189478447406008, 'subtracted_bg_per_pixel': 0}, {'channel': 2, 'sum_intensity': 62.182147067040205, 'mean_intensity': 0.053329457175849235, 'subtracted_bg_per_pixel': 0}, {'channel': 3, 'sum_intensity': 53.20425732526928, 'mean_intensity': 0.045629723263524255, 'subtracted_bg_per_pixel': 0}]}, {'label': 677, 'n_pixel': 1931, 'measured_channels': [{'channel': 0, 'sum_intensity': 193.70406689867377, 'mean_intensity': 0.10031282594441936, 'subtracted_bg_per_pixel': 0}, {'channel': 1, 'sum_intensity': 41.63462288212031, 'mean_intensity': 0.021561171870595707, 'subtracted_bg_per_pixel': 0}, {'channel': 2, 'sum_intensity': 77.5554897096008, 'mean_intensity': 0.04016338151714179, 'subtracted_bg_per_pixel': 0}, {'channel': 3, 'sum_intensity': 67.5589687358588, 'mean_intensity': 0.03498651928319979, 'subtracted_bg_per_pixel': 0}]}, {'label': 687, 'n_pixel': 852, 'measured_channels': [{'channel': 0, 'sum_intensity': 79.04844746738672, 'mean_intensity': 0.09277986791946799, 'subtracted_bg_per_pixel': 0}, {'channel': 1, 'sum_intensity': 32.79557505855337, 'mean_intensity': 0.038492458988912404, 'subtracted_bg_per_pixel': 0}, {'channel': 2, 'sum_intensity': 42.57647071778774, 'mean_intensity': 0.04997238347158186, 'subtracted_bg_per_pixel': 0}, {'channel': 3, 'sum_intensity': 41.135988561436534, 'mean_intensity': 0.0482816767153011, 'subtracted_bg_per_pixel': 0}]}, {'label': 720, 'n_pixel': 1645, 'measured_channels': [{'channel': 0, 'sum_intensity': 122.90356302633882, 'mean_intensity': 0.07471341217406614, 'subtracted_bg_per_pixel': 0}, {'channel': 1, 'sum_intensity': 72.54268733272329, 'mean_intensity': 0.04409889807460382, 'subtracted_bg_per_pixel': 0}, {'channel': 2, 'sum_intensity': 53.27695142943412, 'mean_intensity': 0.03238720451637333, 'subtracted_bg_per_pixel': 0}, {'channel': 3, 'sum_intensity': 44.10594358574599, 'mean_intensity': 0.02681212376033191, 'subtracted_bg_per_pixel': 0}]}, {'label': 723, 'n_pixel': 1758, 'measured_channels': [{'channel': 0, 'sum_intensity': 104.37871380336583, 'mean_intensity': 0.05937355733979854, 'subtracted_bg_per_pixel': 0}, {'channel': 1, 'sum_intensity': 33.0955674094148, 'mean_intensity': 0.01882569249682298, 'subtracted_bg_per_pixel': 0}, {'channel': 2, 'sum_intensity': 75.95916705019772, 'mean_intensity': 0.04320771732093158, 'subtracted_bg_per_pixel': 0}, {'channel': 3, 'sum_intensity': 73.58313891291618, 'mean_intensity': 0.04185616547947451, 'subtracted_bg_per_pixel': 0}]}, {'label': 754, 'n_pixel': 2373, 'measured_channels': [{'channel': 0, 'sum_intensity': 125.18846441246569, 'mean_intensity': 0.05275535794878453, 'subtracted_bg_per_pixel': 0}, {'channel': 1, 'sum_intensity': 32.771328560542315, 'mean_intensity': 0.013810083674901944, 'subtracted_bg_per_pixel': 0}, {'channel': 2, 'sum_intensity': 77.00636324472725, 'mean_intensity': 0.03245105910018005, 'subtracted_bg_per_pixel': 0}, {'channel': 3, 'sum_intensity': 66.08213946502656, 'mean_intensity': 0.027847509256226952, 'subtracted_bg_per_pixel': 0}]}, {'label': 764, 'n_pixel': 1077, 'measured_channels': [{'channel': 0, 'sum_intensity': 65.09851233661175, 'mean_intensity': 0.060444301148200326, 'subtracted_bg_per_pixel': 0}, {'channel': 1, 'sum_intensity': 16.308659601956606, 'mean_intensity': 0.015142673725122197, 'subtracted_bg_per_pixel': 0}, {'channel': 2, 'sum_intensity': 38.591409273445606, 'mean_intensity': 0.03583232058815748, 'subtracted_bg_per_pixel': 0}, {'channel': 3, 'sum_intensity': 45.22758845984936, 'mean_intensity': 0.041994046852227816, 'subtracted_bg_per_pixel': 0}]}, {'label': 767, 'n_pixel': 897, 'measured_channels': [{'channel': 0, 'sum_intensity': 83.31013967655599, 'mean_intensity': 0.09287640989582607, 'subtracted_bg_per_pixel': 0}, {'channel': 1, 'sum_intensity': 23.03222720697522, 'mean_intensity': 0.025676953407999133, 'subtracted_bg_per_pixel': 0}, {'channel': 2, 'sum_intensity': 47.10557725094259, 'mean_intensity': 0.05251457887507535, 'subtracted_bg_per_pixel': 0}, {'channel': 3, 'sum_intensity': 30.16159317828715, 'mean_intensity': 0.033624964524288904, 'subtracted_bg_per_pixel': 0}]}, {'label': 770, 'n_pixel': 1589, 'measured_channels': [{'channel': 0, 'sum_intensity': 109.65114840026945, 'mean_intensity': 0.06900638665844522, 'subtracted_bg_per_pixel': 0}, {'channel': 1, 'sum_intensity': 32.86807063082233, 'mean_intensity': 0.020684751812978183, 'subtracted_bg_per_pixel': 0}, {'channel': 2, 'sum_intensity': 59.399740799330175, 'mean_intensity': 0.037381838136771664, 'subtracted_bg_per_pixel': 0}, {'channel': 3, 'sum_intensity': 63.926344864070415, 'mean_intensity': 0.040230550575248845, 'subtracted_bg_per_pixel': 0}]}, {'label': 772, 'n_pixel': 502, 'measured_channels': [{'channel': 0, 'sum_intensity': 50.33867397904396, 'mean_intensity': 0.10027624298614335, 'subtracted_bg_per_pixel': 0}, {'channel': 1, 'sum_intensity': 18.581307750195265, 'mean_intensity': 0.03701455727130531, 'subtracted_bg_per_pixel': 0}, {'channel': 2, 'sum_intensity': 31.6220035366714, 'mean_intensity': 0.0629920389176721, 'subtracted_bg_per_pixel': 0}, {'channel': 3, 'sum_intensity': 33.22993821464479, 'mean_intensity': 0.06619509604510915, 'subtracted_bg_per_pixel': 0}]}, {'label': 781, 'n_pixel': 787, 'measured_channels': [{'channel': 0, 'sum_intensity': 107.52408643066883, 'mean_intensity': 0.13662526865396293, 'subtracted_bg_per_pixel': 0}, {'channel': 1, 'sum_intensity': 17.633569945115596, 'mean_intensity': 0.022406060921366704, 'subtracted_bg_per_pixel': 0}, {'channel': 2, 'sum_intensity': 48.052781058475375, 'mean_intensity': 0.061058171611785735, 'subtracted_bg_per_pixel': 0}, {'channel': 3, 'sum_intensity': 29.359701031818986, 'mean_intensity': 0.037305846292019045, 'subtracted_bg_per_pixel': 0}]}, {'label': 796, 'n_pixel': 1412, 'measured_channels': [{'channel': 0, 'sum_intensity': 89.50728638097644, 'mean_intensity': 0.0633904294482836, 'subtracted_bg_per_pixel': 0}, {'channel': 1, 'sum_intensity': 32.65934250224382, 'mean_intensity': 0.02312984596476191, 'subtracted_bg_per_pixel': 0}, {'channel': 2, 'sum_intensity': 57.781735084950924, 'mean_intensity': 0.04092190870039017, 'subtracted_bg_per_pixel': 0}, {'channel': 3, 'sum_intensity': 51.014999753795564, 'mean_intensity': 0.03612960322506768, 'subtracted_bg_per_pixel': 0}]}, {'label': 797, 'n_pixel': 507, 'measured_channels': [{'channel': 0, 'sum_intensity': 26.750393014401197, 'mean_intensity': 0.05276211639921341, 'subtracted_bg_per_pixel': 0}, {'channel': 1, 'sum_intensity': 20.331014031078666, 'mean_intensity': 0.04010061939068771, 'subtracted_bg_per_pixel': 0}, {'channel': 2, 'sum_intensity': 26.189623951911926, 'mean_intensity': 0.051656063021522536, 'subtracted_bg_per_pixel': 0}, {'channel': 3, 'sum_intensity': 15.420019840821624, 'mean_intensity': 0.030414240317202412, 'subtracted_bg_per_pixel': 0}]}, {'label': 798, 'n_pixel': 1363, 'measured_channels': [{'channel': 0, 'sum_intensity': 95.92069904878736, 'mean_intensity': 0.07037468748993937, 'subtracted_bg_per_pixel': 0}, {'channel': 1, 'sum_intensity': 14.771923548541963, 'mean_intensity': 0.010837801576333062, 'subtracted_bg_per_pixel': 0}, {'channel': 2, 'sum_intensity': 56.27443359885365, 'mean_intensity': 0.04128718532564464, 'subtracted_bg_per_pixel': 0}, {'channel': 3, 'sum_intensity': 42.417914221063256, 'mean_intensity': 0.031120993559107305, 'subtracted_bg_per_pixel': 0}]}, {'label': 799, 'n_pixel': 1335, 'measured_channels': [{'channel': 0, 'sum_intensity': 96.22447556257248, 'mean_intensity': 0.0720782588483689, 'subtracted_bg_per_pixel': 0}, {'channel': 1, 'sum_intensity': 30.618478833232075, 'mean_intensity': 0.022935190137252492, 'subtracted_bg_per_pixel': 0}, {'channel': 2, 'sum_intensity': 57.23915478400886, 'mean_intensity': 0.04287577137378941, 'subtracted_bg_per_pixel': 0}, {'channel': 3, 'sum_intensity': 56.51166567578912, 'mean_intensity': 0.04233083571220159, 'subtracted_bg_per_pixel': 0}]}, {'label': 800, 'n_pixel': 833, 'measured_channels': [{'channel': 0, 'sum_intensity': 93.3990082629025, 'mean_intensity': 0.11212365937923469, 'subtracted_bg_per_pixel': 0}, {'channel': 1, 'sum_intensity': 13.644968435168266, 'mean_intensity': 0.016380514327933093, 'subtracted_bg_per_pixel': 0}, {'channel': 2, 'sum_intensity': 52.45740451198071, 'mean_intensity': 0.06297407504439462, 'subtracted_bg_per_pixel': 0}, {'channel': 3, 'sum_intensity': 23.01774630881846, 'mean_intensity': 0.027632348509986145, 'subtracted_bg_per_pixel': 0}]}, {'label': 801, 'n_pixel': 860, 'measured_channels': [{'channel': 0, 'sum_intensity': 34.021622121334076, 'mean_intensity': 0.03956002572248148, 'subtracted_bg_per_pixel': 0}, {'channel': 1, 'sum_intensity': 22.98423754563555, 'mean_intensity': 0.026725857611204128, 'subtracted_bg_per_pixel': 0}, {'channel': 2, 'sum_intensity': 44.6752575468272, 'mean_intensity': 0.05194797389165953, 'subtracted_bg_per_pixel': 0}, {'channel': 3, 'sum_intensity': 20.727550287730992, 'mean_intensity': 0.024101802660152317, 'subtracted_bg_per_pixel': 0}]}, {'label': 802, 'n_pixel': 1990, 'measured_channels': [{'channel': 0, 'sum_intensity': 137.81054417602718, 'mean_intensity': 0.06925152973669707, 'subtracted_bg_per_pixel': 0}, {'channel': 1, 'sum_intensity': 80.9369193916209, 'mean_intensity': 0.04067181878975925, 'subtracted_bg_per_pixel': 0}, {'channel': 2, 'sum_intensity': 83.76284453831613, 'mean_intensity': 0.042091881677545795, 'subtracted_bg_per_pixel': 0}, {'channel': 3, 'sum_intensity': 93.53553082514554, 'mean_intensity': 0.047002779309118364, 'subtracted_bg_per_pixel': 0}]}, {'label': 803, 'n_pixel': 1092, 'measured_channels': [{'channel': 0, 'sum_intensity': 70.59102779999375, 'mean_intensity': 0.06464379835164263, 'subtracted_bg_per_pixel': 0}, {'channel': 1, 'sum_intensity': 24.00270096771419, 'mean_intensity': 0.02198049539167966, 'subtracted_bg_per_pixel': 0}, {'channel': 2, 'sum_intensity': 33.40968963224441, 'mean_intensity': 0.03059495387568169, 'subtracted_bg_per_pixel': 0}, {'channel': 3, 'sum_intensity': 36.50995664205402, 'mean_intensity': 0.033434026228987196, 'subtracted_bg_per_pixel': 0}]}, {'label': 804, 'n_pixel': 1306, 'measured_channels': [{'channel': 0, 'sum_intensity': 92.61722759716213, 'mean_intensity': 0.07091671332095109, 'subtracted_bg_per_pixel': 0}, {'channel': 1, 'sum_intensity': 42.26175342593342, 'mean_intensity': 0.032359688687544734, 'subtracted_bg_per_pixel': 0}, {'channel': 2, 'sum_intensity': 50.56450766324997, 'mean_intensity': 0.0387170809060107, 'subtracted_bg_per_pixel': 0}, {'channel': 3, 'sum_intensity': 50.282291979528964, 'mean_intensity': 0.038500989264570414, 'subtracted_bg_per_pixel': 0}]}, {'label': 805, 'n_pixel': 1712, 'measured_channels': [{'channel': 0, 'sum_intensity': 104.39153135195374, 'mean_intensity': 0.06097636177100102, 'subtracted_bg_per_pixel': 0}, {'channel': 1, 'sum_intensity': 42.36391259217635, 'mean_intensity': 0.02474527604683198, 'subtracted_bg_per_pixel': 0}, {'channel': 2, 'sum_intensity': 51.09388892585412, 'mean_intensity': 0.02984456128846619, 'subtracted_bg_per_pixel': 0}, {'channel': 3, 'sum_intensity': 55.11720468848944, 'mean_intensity': 0.03219462890682794, 'subtracted_bg_per_pixel': 0}]}, {'label': 806, 'n_pixel': 927, 'measured_channels': [{'channel': 0, 'sum_intensity': 82.90962090343237, 'mean_intensity': 0.08943864175127549, 'subtracted_bg_per_pixel': 0}, {'channel': 1, 'sum_intensity': 56.2899522036314, 'mean_intensity': 0.060722710036279826, 'subtracted_bg_per_pixel': 0}, {'channel': 2, 'sum_intensity': 40.20695819891989, 'mean_intensity': 0.04337320194058241, 'subtracted_bg_per_pixel': 0}, {'channel': 3, 'sum_intensity': 54.50338000431657, 'mean_intensity': 0.05879544768534689, 'subtracted_bg_per_pixel': 0}]}, {'label': 807, 'n_pixel': 1832, 'measured_channels': [{'channel': 0, 'sum_intensity': 83.43830042984337, 'mean_intensity': 0.04554492381541669, 'subtracted_bg_per_pixel': 0}, {'channel': 1, 'sum_intensity': 119.04357999190688, 'mean_intensity': 0.0649801200829186, 'subtracted_bg_per_pixel': 0}, {'channel': 2, 'sum_intensity': 72.22069145925343, 'mean_intensity': 0.03942177481400296, 'subtracted_bg_per_pixel': 0}, {'channel': 3, 'sum_intensity': 89.17582988087088, 'mean_intensity': 0.04867676303540987, 'subtracted_bg_per_pixel': 0}]}, {'label': 808, 'n_pixel': 1975, 'measured_channels': [{'channel': 0, 'sum_intensity': 132.62362108565867, 'mean_intensity': 0.0671512005497006, 'subtracted_bg_per_pixel': 0}, {'channel': 1, 'sum_intensity': 80.37065712315962, 'mean_intensity': 0.040694003606663094, 'subtracted_bg_per_pixel': 0}, {'channel': 2, 'sum_intensity': 76.1557796485722, 'mean_intensity': 0.03855988842965681, 'subtracted_bg_per_pixel': 0}, {'channel': 3, 'sum_intensity': 88.68560330197215, 'mean_intensity': 0.04490410293770742, 'subtracted_bg_per_pixel': 0}]}, {'label': 809, 'n_pixel': 1765, 'measured_channels': [{'channel': 0, 'sum_intensity': 103.24487697985023, 'mean_intensity': 0.05849568100841373, 'subtracted_bg_per_pixel': 0}, {'channel': 1, 'sum_intensity': 72.21612900123, 'mean_intensity': 0.04091565382505949, 'subtracted_bg_per_pixel': 0}, {'channel': 2, 'sum_intensity': 88.04901207610965, 'mean_intensity': 0.04988612582215844, 'subtracted_bg_per_pixel': 0}, {'channel': 3, 'sum_intensity': 92.62293446995318, 'mean_intensity': 0.05247758326909529, 'subtracted_bg_per_pixel': 0}]}]))]\n"
     ]
    }
   ],
   "source": [
    "new_experiment.experiment_groups[0].add_image_by_uid(uid)"
   ]
  },
  {
   "cell_type": "code",
   "execution_count": 7,
   "id": "designed-belly",
   "metadata": {},
   "outputs": [],
   "source": [
    "new_exp_group = new_experiment.experiment_groups[0]"
   ]
  },
  {
   "cell_type": "code",
   "execution_count": 8,
   "id": "legal-result",
   "metadata": {
    "collapsed": true,
    "jupyter": {
     "outputs_hidden": true
    }
   },
   "outputs": [
    {
     "name": "stdout",
     "output_type": "stream",
     "text": [
      "uid 5\n",
      "series_index 4\n",
      "name 0_test_czi.czi\n",
      "hint \n",
      "has_bg_layer False\n",
      "bg_layer_id None\n",
      "image_result_layers [IntImageResultLayer(uid=6, name='apply_stardist result', hint='', image_id=5, layer_type='labels', data=array([[0, 0, 0, ..., 0, 0, 0],\n",
      "       [0, 0, 0, ..., 0, 0, 0],\n",
      "       [0, 0, 0, ..., 0, 0, 0],\n",
      "       ...,\n",
      "       [0, 0, 0, ..., 0, 0, 0],\n",
      "       [0, 0, 0, ..., 0, 0, 0],\n",
      "       [0, 0, 0, ..., 0, 0, 0]]))]\n",
      "measurements [{'uid': 1, 'name': 'measurement_apply_stardist result_in_0_test_czi.czi', 'hint': '', 'image_id': 5, 'result_layer_id': 6, 'path': 'F:/Data_Storage/AG_Rittner/Microscope Framework/data/fileserver_folder/measurements/1.pkl'}, {'uid': 2, 'name': 'measurement_apply_stardist result_in_0_test_czi.czi', 'hint': '', 'image_id': 5, 'result_layer_id': 6, 'path': 'F:/Data_Storage/AG_Rittner/Microscope Framework/data/fileserver_folder/measurements/2.pkl'}]\n",
      "tags set()\n",
      "metadata {'image_name': '0_test_czi.czi #5', 'image_ID': 'Image_4', 'image_acquisition_date': '2020-06-10T09:42:08.983', 'pixel_dimensions': 'XYCZT', 'pixel_type': 'uint16', 'pixel_size_x': 1309, 'pixel_size_y': 2046, 'pixel_size_z': 1, 'pixel_size_slices': 4, 'pixel_size_physical_x': 0.908, 'pixel_size_physical_y': 0.908, 'pixel_size_physical_z': None, 'pixel_size_physical_unit_x': 'µm', 'pixel_size_physical_unit_y': 'µm', 'pixel_size_physical_unit_z': None, 'n_channels': 4, 'channel_names': ['AF488', 'DAPI', 'Cy3', 'Cy5'], 'custom_channel_names': ['AF488', 'DAPI', 'Cy3', 'Cy5'], 'original_filename': '0_test_czi.czi'}\n",
      "data [[[[0.         0.         0.         ... 0.         0.\n",
      "    0.        ]\n",
      "   [0.00331121 0.0034638  0.00317388 ... 0.         0.\n",
      "    0.        ]\n",
      "   [0.00317388 0.00294499 0.00364691 ... 0.         0.\n",
      "    0.        ]\n",
      "   ...\n",
      "   [0.         0.         0.00262455 ... 0.00433356 0.00334173\n",
      "    0.00323491]\n",
      "   [0.         0.         0.00296025 ... 0.00297551 0.00337224\n",
      "    0.00292973]\n",
      "   [0.         0.         0.00302129 ... 0.00373846 0.00315862\n",
      "    0.00354009]]\n",
      "\n",
      "  [[0.         0.         0.         ... 0.         0.\n",
      "    0.        ]\n",
      "   [0.00097658 0.00131228 0.00195315 ... 0.         0.\n",
      "    0.        ]\n",
      "   [0.00164797 0.00169375 0.00172427 ... 0.         0.\n",
      "    0.        ]\n",
      "   ...\n",
      "   [0.         0.         0.00144961 ... 0.00154116 0.00180056\n",
      "    0.00164797]\n",
      "   [0.         0.         0.00157168 ... 0.0016022  0.00181582\n",
      "    0.00183108]\n",
      "   [0.         0.         0.00154116 ... 0.00167849 0.00184634\n",
      "    0.00148013]]\n",
      "\n",
      "  [[0.         0.         0.         ... 0.         0.\n",
      "    0.        ]\n",
      "   [0.00563058 0.00469978 0.00495918 ... 0.         0.\n",
      "    0.        ]\n",
      "   [0.00489815 0.00509651 0.00517281 ... 0.         0.\n",
      "    0.        ]\n",
      "   ...\n",
      "   [0.         0.         0.00453193 ... 0.00495918 0.00482185\n",
      "    0.00546273]\n",
      "   [0.         0.         0.00450141 ... 0.00531014 0.0053254\n",
      "    0.00527962]\n",
      "   [0.         0.         0.00419623 ... 0.00486763 0.00521859\n",
      "    0.00587472]]\n",
      "\n",
      "  [[0.         0.         0.         ... 0.         0.\n",
      "    0.        ]\n",
      "   [0.0052491  0.00544747 0.00556954 ... 0.         0.\n",
      "    0.        ]\n",
      "   [0.00584421 0.00526436 0.00570687 ... 0.         0.\n",
      "    0.        ]\n",
      "   ...\n",
      "   [0.         0.         0.005066   ... 0.00642405 0.00601205\n",
      "    0.00668345]\n",
      "   [0.         0.         0.00497444 ... 0.00636301 0.0062562\n",
      "    0.00604257]\n",
      "   [0.         0.         0.00535592 ... 0.00628672 0.00614939\n",
      "    0.00683604]]]]\n",
      "result_measurements [IntResultMeasurement(uid=1, name='measurement_apply_stardist result_in_0_test_czi.czi', hint='', image_id=5, result_layer_id=6, measurement=IntResultMeasurement(uid=1, name='measurement_apply_stardist result_in_0_test_czi.czi', hint='', image_id=5, result_layer_id=6, measurement=[{'label': 0, 'n_pixel': 2634375, 'measured_channels': [{'channel': 0, 'sum_intensity': 39653.602751976345, 'mean_intensity': 0.015052375896361127, 'subtracted_bg_per_pixel': 0}, {'channel': 1, 'sum_intensity': 31052.401386268204, 'mean_intensity': 0.011787388426578678, 'subtracted_bg_per_pixel': 0}, {'channel': 2, 'sum_intensity': 28405.83338001836, 'mean_intensity': 0.010782760001904952, 'subtracted_bg_per_pixel': 0}, {'channel': 3, 'sum_intensity': 32326.93611811637, 'mean_intensity': 0.012271197577458171, 'subtracted_bg_per_pixel': 0}]}, {'label': 36, 'n_pixel': 1312, 'measured_channels': [{'channel': 0, 'sum_intensity': 63.252079136669636, 'mean_intensity': 0.0482104261712421, 'subtracted_bg_per_pixel': 0}, {'channel': 1, 'sum_intensity': 121.24284748267382, 'mean_intensity': 0.09241070692276969, 'subtracted_bg_per_pixel': 0}, {'channel': 2, 'sum_intensity': 48.85149930790067, 'mean_intensity': 0.03723437447248527, 'subtracted_bg_per_pixel': 0}, {'channel': 3, 'sum_intensity': 46.198657328262925, 'mean_intensity': 0.035212391256297965, 'subtracted_bg_per_pixel': 0}]}, {'label': 40, 'n_pixel': 658, 'measured_channels': [{'channel': 0, 'sum_intensity': 59.50548570230603, 'mean_intensity': 0.0904338688484894, 'subtracted_bg_per_pixel': 0}, {'channel': 1, 'sum_intensity': 12.284443483222276, 'mean_intensity': 0.018669366995778536, 'subtracted_bg_per_pixel': 0}, {'channel': 2, 'sum_intensity': 29.371099516749382, 'mean_intensity': 0.04463692935676198, 'subtracted_bg_per_pixel': 0}, {'channel': 3, 'sum_intensity': 32.622476575896144, 'mean_intensity': 0.04957823187826162, 'subtracted_bg_per_pixel': 0}]}, {'label': 52, 'n_pixel': 1183, 'measured_channels': [{'channel': 0, 'sum_intensity': 78.69248506613076, 'mean_intensity': 0.066519429472638, 'subtracted_bg_per_pixel': 0}, {'channel': 1, 'sum_intensity': 42.56633869558573, 'mean_intensity': 0.035981689514442715, 'subtracted_bg_per_pixel': 0}, {'channel': 2, 'sum_intensity': 52.86070052161813, 'mean_intensity': 0.044683601455298504, 'subtracted_bg_per_pixel': 0}, {'channel': 3, 'sum_intensity': 41.150103118270636, 'mean_intensity': 0.034784533489662414, 'subtracted_bg_per_pixel': 0}]}, {'label': 55, 'n_pixel': 554, 'measured_channels': [{'channel': 0, 'sum_intensity': 36.65618373453617, 'mean_intensity': 0.06616639663273677, 'subtracted_bg_per_pixel': 0}, {'channel': 1, 'sum_intensity': 29.189807043410838, 'mean_intensity': 0.05268918238882823, 'subtracted_bg_per_pixel': 0}, {'channel': 2, 'sum_intensity': 17.34537278022617, 'mean_intensity': 0.03130933714842269, 'subtracted_bg_per_pixel': 0}, {'channel': 3, 'sum_intensity': 18.952483436092734, 'mean_intensity': 0.034210258909914686, 'subtracted_bg_per_pixel': 0}]}, {'label': 119, 'n_pixel': 582, 'measured_channels': [{'channel': 0, 'sum_intensity': 20.500358628109097, 'mean_intensity': 0.03522398389709467, 'subtracted_bg_per_pixel': 0}, {'channel': 1, 'sum_intensity': 16.186999382916838, 'mean_intensity': 0.027812713716351956, 'subtracted_bg_per_pixel': 0}, {'channel': 2, 'sum_intensity': 27.501472543925047, 'mean_intensity': 0.04725338925073032, 'subtracted_bg_per_pixel': 0}, {'channel': 3, 'sum_intensity': 22.078217843547463, 'mean_intensity': 0.03793508220540801, 'subtracted_bg_per_pixel': 0}]}, {'label': 154, 'n_pixel': 810, 'measured_channels': [{'channel': 0, 'sum_intensity': 96.9941100999713, 'mean_intensity': 0.11974581493823616, 'subtracted_bg_per_pixel': 0}, {'channel': 1, 'sum_intensity': 16.212619272060692, 'mean_intensity': 0.020015579348223077, 'subtracted_bg_per_pixel': 0}, {'channel': 2, 'sum_intensity': 51.07125972956419, 'mean_intensity': 0.06305093793773357, 'subtracted_bg_per_pixel': 0}, {'channel': 3, 'sum_intensity': 22.27942330110818, 'mean_intensity': 0.027505460865565656, 'subtracted_bg_per_pixel': 0}]}, {'label': 176, 'n_pixel': 542, 'measured_channels': [{'channel': 0, 'sum_intensity': 37.992004327476025, 'mean_intensity': 0.0700959489436827, 'subtracted_bg_per_pixel': 0}, {'channel': 1, 'sum_intensity': 24.027649390976876, 'mean_intensity': 0.044331456440916746, 'subtracted_bg_per_pixel': 0}, {'channel': 2, 'sum_intensity': 20.30246432684362, 'mean_intensity': 0.03745842126723915, 'subtracted_bg_per_pixel': 0}, {'channel': 3, 'sum_intensity': 17.25313199684024, 'mean_intensity': 0.03183234685763882, 'subtracted_bg_per_pixel': 0}]}, {'label': 241, 'n_pixel': 1353, 'measured_channels': [{'channel': 0, 'sum_intensity': 106.26242480427027, 'mean_intensity': 0.07853837753456783, 'subtracted_bg_per_pixel': 0}, {'channel': 1, 'sum_intensity': 71.10740829864517, 'mean_intensity': 0.05255536459619007, 'subtracted_bg_per_pixel': 0}, {'channel': 2, 'sum_intensity': 67.71097900345922, 'mean_intensity': 0.050045069477796904, 'subtracted_bg_per_pixel': 0}, {'channel': 3, 'sum_intensity': 72.58892201818526, 'mean_intensity': 0.05365034886783833, 'subtracted_bg_per_pixel': 0}]}, {'label': 298, 'n_pixel': 1583, 'measured_channels': [{'channel': 0, 'sum_intensity': 107.4469216875732, 'mean_intensity': 0.06787550327705193, 'subtracted_bg_per_pixel': 0}, {'channel': 1, 'sum_intensity': 32.92677208641544, 'mean_intensity': 0.020800235051431106, 'subtracted_bg_per_pixel': 0}, {'channel': 2, 'sum_intensity': 66.07742448709905, 'mean_intensity': 0.04174189797037211, 'subtracted_bg_per_pixel': 0}, {'channel': 3, 'sum_intensity': 62.446555393747985, 'mean_intensity': 0.039448234613864805, 'subtracted_bg_per_pixel': 0}]}, {'label': 299, 'n_pixel': 1199, 'measured_channels': [{'channel': 0, 'sum_intensity': 59.725902339443564, 'mean_intensity': 0.04981309619636661, 'subtracted_bg_per_pixel': 0}, {'channel': 1, 'sum_intensity': 39.449149458669126, 'mean_intensity': 0.03290170930664648, 'subtracted_bg_per_pixel': 0}, {'channel': 2, 'sum_intensity': 42.4292973941192, 'mean_intensity': 0.03538723719275997, 'subtracted_bg_per_pixel': 0}, {'channel': 3, 'sum_intensity': 40.43189144413918, 'mean_intensity': 0.03372134399010774, 'subtracted_bg_per_pixel': 0}]}, {'label': 530, 'n_pixel': 577, 'measured_channels': [{'channel': 0, 'sum_intensity': 32.68314650095999, 'mean_intensity': 0.05664323483701905, 'subtracted_bg_per_pixel': 0}, {'channel': 1, 'sum_intensity': 22.4571298584342, 'mean_intensity': 0.03892050235430537, 'subtracted_bg_per_pixel': 0}, {'channel': 2, 'sum_intensity': 27.866453140974045, 'mean_intensity': 0.04829541272265866, 'subtracted_bg_per_pixel': 0}, {'channel': 3, 'sum_intensity': 22.242114944383502, 'mean_intensity': 0.03854785952232843, 'subtracted_bg_per_pixel': 0}]}, {'label': 638, 'n_pixel': 1166, 'measured_channels': [{'channel': 0, 'sum_intensity': 95.32748937420547, 'mean_intensity': 0.0817559943175004, 'subtracted_bg_per_pixel': 0}, {'channel': 1, 'sum_intensity': 22.093186967540532, 'mean_intensity': 0.0189478447406008, 'subtracted_bg_per_pixel': 0}, {'channel': 2, 'sum_intensity': 62.182147067040205, 'mean_intensity': 0.053329457175849235, 'subtracted_bg_per_pixel': 0}, {'channel': 3, 'sum_intensity': 53.20425732526928, 'mean_intensity': 0.045629723263524255, 'subtracted_bg_per_pixel': 0}]}, {'label': 677, 'n_pixel': 1931, 'measured_channels': [{'channel': 0, 'sum_intensity': 193.70406689867377, 'mean_intensity': 0.10031282594441936, 'subtracted_bg_per_pixel': 0}, {'channel': 1, 'sum_intensity': 41.63462288212031, 'mean_intensity': 0.021561171870595707, 'subtracted_bg_per_pixel': 0}, {'channel': 2, 'sum_intensity': 77.5554897096008, 'mean_intensity': 0.04016338151714179, 'subtracted_bg_per_pixel': 0}, {'channel': 3, 'sum_intensity': 67.5589687358588, 'mean_intensity': 0.03498651928319979, 'subtracted_bg_per_pixel': 0}]}, {'label': 687, 'n_pixel': 852, 'measured_channels': [{'channel': 0, 'sum_intensity': 79.04844746738672, 'mean_intensity': 0.09277986791946799, 'subtracted_bg_per_pixel': 0}, {'channel': 1, 'sum_intensity': 32.79557505855337, 'mean_intensity': 0.038492458988912404, 'subtracted_bg_per_pixel': 0}, {'channel': 2, 'sum_intensity': 42.57647071778774, 'mean_intensity': 0.04997238347158186, 'subtracted_bg_per_pixel': 0}, {'channel': 3, 'sum_intensity': 41.135988561436534, 'mean_intensity': 0.0482816767153011, 'subtracted_bg_per_pixel': 0}]}, {'label': 720, 'n_pixel': 1645, 'measured_channels': [{'channel': 0, 'sum_intensity': 122.90356302633882, 'mean_intensity': 0.07471341217406614, 'subtracted_bg_per_pixel': 0}, {'channel': 1, 'sum_intensity': 72.54268733272329, 'mean_intensity': 0.04409889807460382, 'subtracted_bg_per_pixel': 0}, {'channel': 2, 'sum_intensity': 53.27695142943412, 'mean_intensity': 0.03238720451637333, 'subtracted_bg_per_pixel': 0}, {'channel': 3, 'sum_intensity': 44.10594358574599, 'mean_intensity': 0.02681212376033191, 'subtracted_bg_per_pixel': 0}]}, {'label': 723, 'n_pixel': 1758, 'measured_channels': [{'channel': 0, 'sum_intensity': 104.37871380336583, 'mean_intensity': 0.05937355733979854, 'subtracted_bg_per_pixel': 0}, {'channel': 1, 'sum_intensity': 33.0955674094148, 'mean_intensity': 0.01882569249682298, 'subtracted_bg_per_pixel': 0}, {'channel': 2, 'sum_intensity': 75.95916705019772, 'mean_intensity': 0.04320771732093158, 'subtracted_bg_per_pixel': 0}, {'channel': 3, 'sum_intensity': 73.58313891291618, 'mean_intensity': 0.04185616547947451, 'subtracted_bg_per_pixel': 0}]}, {'label': 754, 'n_pixel': 2373, 'measured_channels': [{'channel': 0, 'sum_intensity': 125.18846441246569, 'mean_intensity': 0.05275535794878453, 'subtracted_bg_per_pixel': 0}, {'channel': 1, 'sum_intensity': 32.771328560542315, 'mean_intensity': 0.013810083674901944, 'subtracted_bg_per_pixel': 0}, {'channel': 2, 'sum_intensity': 77.00636324472725, 'mean_intensity': 0.03245105910018005, 'subtracted_bg_per_pixel': 0}, {'channel': 3, 'sum_intensity': 66.08213946502656, 'mean_intensity': 0.027847509256226952, 'subtracted_bg_per_pixel': 0}]}, {'label': 764, 'n_pixel': 1077, 'measured_channels': [{'channel': 0, 'sum_intensity': 65.09851233661175, 'mean_intensity': 0.060444301148200326, 'subtracted_bg_per_pixel': 0}, {'channel': 1, 'sum_intensity': 16.308659601956606, 'mean_intensity': 0.015142673725122197, 'subtracted_bg_per_pixel': 0}, {'channel': 2, 'sum_intensity': 38.591409273445606, 'mean_intensity': 0.03583232058815748, 'subtracted_bg_per_pixel': 0}, {'channel': 3, 'sum_intensity': 45.22758845984936, 'mean_intensity': 0.041994046852227816, 'subtracted_bg_per_pixel': 0}]}, {'label': 767, 'n_pixel': 897, 'measured_channels': [{'channel': 0, 'sum_intensity': 83.31013967655599, 'mean_intensity': 0.09287640989582607, 'subtracted_bg_per_pixel': 0}, {'channel': 1, 'sum_intensity': 23.03222720697522, 'mean_intensity': 0.025676953407999133, 'subtracted_bg_per_pixel': 0}, {'channel': 2, 'sum_intensity': 47.10557725094259, 'mean_intensity': 0.05251457887507535, 'subtracted_bg_per_pixel': 0}, {'channel': 3, 'sum_intensity': 30.16159317828715, 'mean_intensity': 0.033624964524288904, 'subtracted_bg_per_pixel': 0}]}, {'label': 770, 'n_pixel': 1589, 'measured_channels': [{'channel': 0, 'sum_intensity': 109.65114840026945, 'mean_intensity': 0.06900638665844522, 'subtracted_bg_per_pixel': 0}, {'channel': 1, 'sum_intensity': 32.86807063082233, 'mean_intensity': 0.020684751812978183, 'subtracted_bg_per_pixel': 0}, {'channel': 2, 'sum_intensity': 59.399740799330175, 'mean_intensity': 0.037381838136771664, 'subtracted_bg_per_pixel': 0}, {'channel': 3, 'sum_intensity': 63.926344864070415, 'mean_intensity': 0.040230550575248845, 'subtracted_bg_per_pixel': 0}]}, {'label': 772, 'n_pixel': 502, 'measured_channels': [{'channel': 0, 'sum_intensity': 50.33867397904396, 'mean_intensity': 0.10027624298614335, 'subtracted_bg_per_pixel': 0}, {'channel': 1, 'sum_intensity': 18.581307750195265, 'mean_intensity': 0.03701455727130531, 'subtracted_bg_per_pixel': 0}, {'channel': 2, 'sum_intensity': 31.6220035366714, 'mean_intensity': 0.0629920389176721, 'subtracted_bg_per_pixel': 0}, {'channel': 3, 'sum_intensity': 33.22993821464479, 'mean_intensity': 0.06619509604510915, 'subtracted_bg_per_pixel': 0}]}, {'label': 781, 'n_pixel': 787, 'measured_channels': [{'channel': 0, 'sum_intensity': 107.52408643066883, 'mean_intensity': 0.13662526865396293, 'subtracted_bg_per_pixel': 0}, {'channel': 1, 'sum_intensity': 17.633569945115596, 'mean_intensity': 0.022406060921366704, 'subtracted_bg_per_pixel': 0}, {'channel': 2, 'sum_intensity': 48.052781058475375, 'mean_intensity': 0.061058171611785735, 'subtracted_bg_per_pixel': 0}, {'channel': 3, 'sum_intensity': 29.359701031818986, 'mean_intensity': 0.037305846292019045, 'subtracted_bg_per_pixel': 0}]}, {'label': 796, 'n_pixel': 1412, 'measured_channels': [{'channel': 0, 'sum_intensity': 89.50728638097644, 'mean_intensity': 0.0633904294482836, 'subtracted_bg_per_pixel': 0}, {'channel': 1, 'sum_intensity': 32.65934250224382, 'mean_intensity': 0.02312984596476191, 'subtracted_bg_per_pixel': 0}, {'channel': 2, 'sum_intensity': 57.781735084950924, 'mean_intensity': 0.04092190870039017, 'subtracted_bg_per_pixel': 0}, {'channel': 3, 'sum_intensity': 51.014999753795564, 'mean_intensity': 0.03612960322506768, 'subtracted_bg_per_pixel': 0}]}, {'label': 797, 'n_pixel': 507, 'measured_channels': [{'channel': 0, 'sum_intensity': 26.750393014401197, 'mean_intensity': 0.05276211639921341, 'subtracted_bg_per_pixel': 0}, {'channel': 1, 'sum_intensity': 20.331014031078666, 'mean_intensity': 0.04010061939068771, 'subtracted_bg_per_pixel': 0}, {'channel': 2, 'sum_intensity': 26.189623951911926, 'mean_intensity': 0.051656063021522536, 'subtracted_bg_per_pixel': 0}, {'channel': 3, 'sum_intensity': 15.420019840821624, 'mean_intensity': 0.030414240317202412, 'subtracted_bg_per_pixel': 0}]}, {'label': 798, 'n_pixel': 1363, 'measured_channels': [{'channel': 0, 'sum_intensity': 95.92069904878736, 'mean_intensity': 0.07037468748993937, 'subtracted_bg_per_pixel': 0}, {'channel': 1, 'sum_intensity': 14.771923548541963, 'mean_intensity': 0.010837801576333062, 'subtracted_bg_per_pixel': 0}, {'channel': 2, 'sum_intensity': 56.27443359885365, 'mean_intensity': 0.04128718532564464, 'subtracted_bg_per_pixel': 0}, {'channel': 3, 'sum_intensity': 42.417914221063256, 'mean_intensity': 0.031120993559107305, 'subtracted_bg_per_pixel': 0}]}, {'label': 799, 'n_pixel': 1335, 'measured_channels': [{'channel': 0, 'sum_intensity': 96.22447556257248, 'mean_intensity': 0.0720782588483689, 'subtracted_bg_per_pixel': 0}, {'channel': 1, 'sum_intensity': 30.618478833232075, 'mean_intensity': 0.022935190137252492, 'subtracted_bg_per_pixel': 0}, {'channel': 2, 'sum_intensity': 57.23915478400886, 'mean_intensity': 0.04287577137378941, 'subtracted_bg_per_pixel': 0}, {'channel': 3, 'sum_intensity': 56.51166567578912, 'mean_intensity': 0.04233083571220159, 'subtracted_bg_per_pixel': 0}]}, {'label': 800, 'n_pixel': 833, 'measured_channels': [{'channel': 0, 'sum_intensity': 93.3990082629025, 'mean_intensity': 0.11212365937923469, 'subtracted_bg_per_pixel': 0}, {'channel': 1, 'sum_intensity': 13.644968435168266, 'mean_intensity': 0.016380514327933093, 'subtracted_bg_per_pixel': 0}, {'channel': 2, 'sum_intensity': 52.45740451198071, 'mean_intensity': 0.06297407504439462, 'subtracted_bg_per_pixel': 0}, {'channel': 3, 'sum_intensity': 23.01774630881846, 'mean_intensity': 0.027632348509986145, 'subtracted_bg_per_pixel': 0}]}, {'label': 801, 'n_pixel': 860, 'measured_channels': [{'channel': 0, 'sum_intensity': 34.021622121334076, 'mean_intensity': 0.03956002572248148, 'subtracted_bg_per_pixel': 0}, {'channel': 1, 'sum_intensity': 22.98423754563555, 'mean_intensity': 0.026725857611204128, 'subtracted_bg_per_pixel': 0}, {'channel': 2, 'sum_intensity': 44.6752575468272, 'mean_intensity': 0.05194797389165953, 'subtracted_bg_per_pixel': 0}, {'channel': 3, 'sum_intensity': 20.727550287730992, 'mean_intensity': 0.024101802660152317, 'subtracted_bg_per_pixel': 0}]}, {'label': 802, 'n_pixel': 1990, 'measured_channels': [{'channel': 0, 'sum_intensity': 137.81054417602718, 'mean_intensity': 0.06925152973669707, 'subtracted_bg_per_pixel': 0}, {'channel': 1, 'sum_intensity': 80.9369193916209, 'mean_intensity': 0.04067181878975925, 'subtracted_bg_per_pixel': 0}, {'channel': 2, 'sum_intensity': 83.76284453831613, 'mean_intensity': 0.042091881677545795, 'subtracted_bg_per_pixel': 0}, {'channel': 3, 'sum_intensity': 93.53553082514554, 'mean_intensity': 0.047002779309118364, 'subtracted_bg_per_pixel': 0}]}, {'label': 803, 'n_pixel': 1092, 'measured_channels': [{'channel': 0, 'sum_intensity': 70.59102779999375, 'mean_intensity': 0.06464379835164263, 'subtracted_bg_per_pixel': 0}, {'channel': 1, 'sum_intensity': 24.00270096771419, 'mean_intensity': 0.02198049539167966, 'subtracted_bg_per_pixel': 0}, {'channel': 2, 'sum_intensity': 33.40968963224441, 'mean_intensity': 0.03059495387568169, 'subtracted_bg_per_pixel': 0}, {'channel': 3, 'sum_intensity': 36.50995664205402, 'mean_intensity': 0.033434026228987196, 'subtracted_bg_per_pixel': 0}]}, {'label': 804, 'n_pixel': 1306, 'measured_channels': [{'channel': 0, 'sum_intensity': 92.61722759716213, 'mean_intensity': 0.07091671332095109, 'subtracted_bg_per_pixel': 0}, {'channel': 1, 'sum_intensity': 42.26175342593342, 'mean_intensity': 0.032359688687544734, 'subtracted_bg_per_pixel': 0}, {'channel': 2, 'sum_intensity': 50.56450766324997, 'mean_intensity': 0.0387170809060107, 'subtracted_bg_per_pixel': 0}, {'channel': 3, 'sum_intensity': 50.282291979528964, 'mean_intensity': 0.038500989264570414, 'subtracted_bg_per_pixel': 0}]}, {'label': 805, 'n_pixel': 1712, 'measured_channels': [{'channel': 0, 'sum_intensity': 104.39153135195374, 'mean_intensity': 0.06097636177100102, 'subtracted_bg_per_pixel': 0}, {'channel': 1, 'sum_intensity': 42.36391259217635, 'mean_intensity': 0.02474527604683198, 'subtracted_bg_per_pixel': 0}, {'channel': 2, 'sum_intensity': 51.09388892585412, 'mean_intensity': 0.02984456128846619, 'subtracted_bg_per_pixel': 0}, {'channel': 3, 'sum_intensity': 55.11720468848944, 'mean_intensity': 0.03219462890682794, 'subtracted_bg_per_pixel': 0}]}, {'label': 806, 'n_pixel': 927, 'measured_channels': [{'channel': 0, 'sum_intensity': 82.90962090343237, 'mean_intensity': 0.08943864175127549, 'subtracted_bg_per_pixel': 0}, {'channel': 1, 'sum_intensity': 56.2899522036314, 'mean_intensity': 0.060722710036279826, 'subtracted_bg_per_pixel': 0}, {'channel': 2, 'sum_intensity': 40.20695819891989, 'mean_intensity': 0.04337320194058241, 'subtracted_bg_per_pixel': 0}, {'channel': 3, 'sum_intensity': 54.50338000431657, 'mean_intensity': 0.05879544768534689, 'subtracted_bg_per_pixel': 0}]}, {'label': 807, 'n_pixel': 1832, 'measured_channels': [{'channel': 0, 'sum_intensity': 83.43830042984337, 'mean_intensity': 0.04554492381541669, 'subtracted_bg_per_pixel': 0}, {'channel': 1, 'sum_intensity': 119.04357999190688, 'mean_intensity': 0.0649801200829186, 'subtracted_bg_per_pixel': 0}, {'channel': 2, 'sum_intensity': 72.22069145925343, 'mean_intensity': 0.03942177481400296, 'subtracted_bg_per_pixel': 0}, {'channel': 3, 'sum_intensity': 89.17582988087088, 'mean_intensity': 0.04867676303540987, 'subtracted_bg_per_pixel': 0}]}, {'label': 808, 'n_pixel': 1975, 'measured_channels': [{'channel': 0, 'sum_intensity': 132.62362108565867, 'mean_intensity': 0.0671512005497006, 'subtracted_bg_per_pixel': 0}, {'channel': 1, 'sum_intensity': 80.37065712315962, 'mean_intensity': 0.040694003606663094, 'subtracted_bg_per_pixel': 0}, {'channel': 2, 'sum_intensity': 76.1557796485722, 'mean_intensity': 0.03855988842965681, 'subtracted_bg_per_pixel': 0}, {'channel': 3, 'sum_intensity': 88.68560330197215, 'mean_intensity': 0.04490410293770742, 'subtracted_bg_per_pixel': 0}]}, {'label': 809, 'n_pixel': 1765, 'measured_channels': [{'channel': 0, 'sum_intensity': 103.24487697985023, 'mean_intensity': 0.05849568100841373, 'subtracted_bg_per_pixel': 0}, {'channel': 1, 'sum_intensity': 72.21612900123, 'mean_intensity': 0.04091565382505949, 'subtracted_bg_per_pixel': 0}, {'channel': 2, 'sum_intensity': 88.04901207610965, 'mean_intensity': 0.04988612582215844, 'subtracted_bg_per_pixel': 0}, {'channel': 3, 'sum_intensity': 92.62293446995318, 'mean_intensity': 0.05247758326909529, 'subtracted_bg_per_pixel': 0}]}])), IntResultMeasurement(uid=2, name='measurement_apply_stardist result_in_0_test_czi.czi', hint='', image_id=5, result_layer_id=6, measurement=IntResultMeasurement(uid=2, name='measurement_apply_stardist result_in_0_test_czi.czi', hint='', image_id=5, result_layer_id=6, measurement=[{'label': 0, 'n_pixel': 2634375, 'measured_channels': [{'channel': 0, 'sum_intensity': 39653.602751976345, 'mean_intensity': 0.015052375896361127, 'subtracted_bg_per_pixel': 0}, {'channel': 1, 'sum_intensity': 31052.401386268204, 'mean_intensity': 0.011787388426578678, 'subtracted_bg_per_pixel': 0}, {'channel': 2, 'sum_intensity': 28405.83338001836, 'mean_intensity': 0.010782760001904952, 'subtracted_bg_per_pixel': 0}, {'channel': 3, 'sum_intensity': 32326.93611811637, 'mean_intensity': 0.012271197577458171, 'subtracted_bg_per_pixel': 0}]}, {'label': 36, 'n_pixel': 1312, 'measured_channels': [{'channel': 0, 'sum_intensity': 63.252079136669636, 'mean_intensity': 0.0482104261712421, 'subtracted_bg_per_pixel': 0}, {'channel': 1, 'sum_intensity': 121.24284748267382, 'mean_intensity': 0.09241070692276969, 'subtracted_bg_per_pixel': 0}, {'channel': 2, 'sum_intensity': 48.85149930790067, 'mean_intensity': 0.03723437447248527, 'subtracted_bg_per_pixel': 0}, {'channel': 3, 'sum_intensity': 46.198657328262925, 'mean_intensity': 0.035212391256297965, 'subtracted_bg_per_pixel': 0}]}, {'label': 40, 'n_pixel': 658, 'measured_channels': [{'channel': 0, 'sum_intensity': 59.50548570230603, 'mean_intensity': 0.0904338688484894, 'subtracted_bg_per_pixel': 0}, {'channel': 1, 'sum_intensity': 12.284443483222276, 'mean_intensity': 0.018669366995778536, 'subtracted_bg_per_pixel': 0}, {'channel': 2, 'sum_intensity': 29.371099516749382, 'mean_intensity': 0.04463692935676198, 'subtracted_bg_per_pixel': 0}, {'channel': 3, 'sum_intensity': 32.622476575896144, 'mean_intensity': 0.04957823187826162, 'subtracted_bg_per_pixel': 0}]}, {'label': 52, 'n_pixel': 1183, 'measured_channels': [{'channel': 0, 'sum_intensity': 78.69248506613076, 'mean_intensity': 0.066519429472638, 'subtracted_bg_per_pixel': 0}, {'channel': 1, 'sum_intensity': 42.56633869558573, 'mean_intensity': 0.035981689514442715, 'subtracted_bg_per_pixel': 0}, {'channel': 2, 'sum_intensity': 52.86070052161813, 'mean_intensity': 0.044683601455298504, 'subtracted_bg_per_pixel': 0}, {'channel': 3, 'sum_intensity': 41.150103118270636, 'mean_intensity': 0.034784533489662414, 'subtracted_bg_per_pixel': 0}]}, {'label': 55, 'n_pixel': 554, 'measured_channels': [{'channel': 0, 'sum_intensity': 36.65618373453617, 'mean_intensity': 0.06616639663273677, 'subtracted_bg_per_pixel': 0}, {'channel': 1, 'sum_intensity': 29.189807043410838, 'mean_intensity': 0.05268918238882823, 'subtracted_bg_per_pixel': 0}, {'channel': 2, 'sum_intensity': 17.34537278022617, 'mean_intensity': 0.03130933714842269, 'subtracted_bg_per_pixel': 0}, {'channel': 3, 'sum_intensity': 18.952483436092734, 'mean_intensity': 0.034210258909914686, 'subtracted_bg_per_pixel': 0}]}, {'label': 119, 'n_pixel': 582, 'measured_channels': [{'channel': 0, 'sum_intensity': 20.500358628109097, 'mean_intensity': 0.03522398389709467, 'subtracted_bg_per_pixel': 0}, {'channel': 1, 'sum_intensity': 16.186999382916838, 'mean_intensity': 0.027812713716351956, 'subtracted_bg_per_pixel': 0}, {'channel': 2, 'sum_intensity': 27.501472543925047, 'mean_intensity': 0.04725338925073032, 'subtracted_bg_per_pixel': 0}, {'channel': 3, 'sum_intensity': 22.078217843547463, 'mean_intensity': 0.03793508220540801, 'subtracted_bg_per_pixel': 0}]}, {'label': 154, 'n_pixel': 810, 'measured_channels': [{'channel': 0, 'sum_intensity': 96.9941100999713, 'mean_intensity': 0.11974581493823616, 'subtracted_bg_per_pixel': 0}, {'channel': 1, 'sum_intensity': 16.212619272060692, 'mean_intensity': 0.020015579348223077, 'subtracted_bg_per_pixel': 0}, {'channel': 2, 'sum_intensity': 51.07125972956419, 'mean_intensity': 0.06305093793773357, 'subtracted_bg_per_pixel': 0}, {'channel': 3, 'sum_intensity': 22.27942330110818, 'mean_intensity': 0.027505460865565656, 'subtracted_bg_per_pixel': 0}]}, {'label': 176, 'n_pixel': 542, 'measured_channels': [{'channel': 0, 'sum_intensity': 37.992004327476025, 'mean_intensity': 0.0700959489436827, 'subtracted_bg_per_pixel': 0}, {'channel': 1, 'sum_intensity': 24.027649390976876, 'mean_intensity': 0.044331456440916746, 'subtracted_bg_per_pixel': 0}, {'channel': 2, 'sum_intensity': 20.30246432684362, 'mean_intensity': 0.03745842126723915, 'subtracted_bg_per_pixel': 0}, {'channel': 3, 'sum_intensity': 17.25313199684024, 'mean_intensity': 0.03183234685763882, 'subtracted_bg_per_pixel': 0}]}, {'label': 241, 'n_pixel': 1353, 'measured_channels': [{'channel': 0, 'sum_intensity': 106.26242480427027, 'mean_intensity': 0.07853837753456783, 'subtracted_bg_per_pixel': 0}, {'channel': 1, 'sum_intensity': 71.10740829864517, 'mean_intensity': 0.05255536459619007, 'subtracted_bg_per_pixel': 0}, {'channel': 2, 'sum_intensity': 67.71097900345922, 'mean_intensity': 0.050045069477796904, 'subtracted_bg_per_pixel': 0}, {'channel': 3, 'sum_intensity': 72.58892201818526, 'mean_intensity': 0.05365034886783833, 'subtracted_bg_per_pixel': 0}]}, {'label': 298, 'n_pixel': 1583, 'measured_channels': [{'channel': 0, 'sum_intensity': 107.4469216875732, 'mean_intensity': 0.06787550327705193, 'subtracted_bg_per_pixel': 0}, {'channel': 1, 'sum_intensity': 32.92677208641544, 'mean_intensity': 0.020800235051431106, 'subtracted_bg_per_pixel': 0}, {'channel': 2, 'sum_intensity': 66.07742448709905, 'mean_intensity': 0.04174189797037211, 'subtracted_bg_per_pixel': 0}, {'channel': 3, 'sum_intensity': 62.446555393747985, 'mean_intensity': 0.039448234613864805, 'subtracted_bg_per_pixel': 0}]}, {'label': 299, 'n_pixel': 1199, 'measured_channels': [{'channel': 0, 'sum_intensity': 59.725902339443564, 'mean_intensity': 0.04981309619636661, 'subtracted_bg_per_pixel': 0}, {'channel': 1, 'sum_intensity': 39.449149458669126, 'mean_intensity': 0.03290170930664648, 'subtracted_bg_per_pixel': 0}, {'channel': 2, 'sum_intensity': 42.4292973941192, 'mean_intensity': 0.03538723719275997, 'subtracted_bg_per_pixel': 0}, {'channel': 3, 'sum_intensity': 40.43189144413918, 'mean_intensity': 0.03372134399010774, 'subtracted_bg_per_pixel': 0}]}, {'label': 530, 'n_pixel': 577, 'measured_channels': [{'channel': 0, 'sum_intensity': 32.68314650095999, 'mean_intensity': 0.05664323483701905, 'subtracted_bg_per_pixel': 0}, {'channel': 1, 'sum_intensity': 22.4571298584342, 'mean_intensity': 0.03892050235430537, 'subtracted_bg_per_pixel': 0}, {'channel': 2, 'sum_intensity': 27.866453140974045, 'mean_intensity': 0.04829541272265866, 'subtracted_bg_per_pixel': 0}, {'channel': 3, 'sum_intensity': 22.242114944383502, 'mean_intensity': 0.03854785952232843, 'subtracted_bg_per_pixel': 0}]}, {'label': 638, 'n_pixel': 1166, 'measured_channels': [{'channel': 0, 'sum_intensity': 95.32748937420547, 'mean_intensity': 0.0817559943175004, 'subtracted_bg_per_pixel': 0}, {'channel': 1, 'sum_intensity': 22.093186967540532, 'mean_intensity': 0.0189478447406008, 'subtracted_bg_per_pixel': 0}, {'channel': 2, 'sum_intensity': 62.182147067040205, 'mean_intensity': 0.053329457175849235, 'subtracted_bg_per_pixel': 0}, {'channel': 3, 'sum_intensity': 53.20425732526928, 'mean_intensity': 0.045629723263524255, 'subtracted_bg_per_pixel': 0}]}, {'label': 677, 'n_pixel': 1931, 'measured_channels': [{'channel': 0, 'sum_intensity': 193.70406689867377, 'mean_intensity': 0.10031282594441936, 'subtracted_bg_per_pixel': 0}, {'channel': 1, 'sum_intensity': 41.63462288212031, 'mean_intensity': 0.021561171870595707, 'subtracted_bg_per_pixel': 0}, {'channel': 2, 'sum_intensity': 77.5554897096008, 'mean_intensity': 0.04016338151714179, 'subtracted_bg_per_pixel': 0}, {'channel': 3, 'sum_intensity': 67.5589687358588, 'mean_intensity': 0.03498651928319979, 'subtracted_bg_per_pixel': 0}]}, {'label': 687, 'n_pixel': 852, 'measured_channels': [{'channel': 0, 'sum_intensity': 79.04844746738672, 'mean_intensity': 0.09277986791946799, 'subtracted_bg_per_pixel': 0}, {'channel': 1, 'sum_intensity': 32.79557505855337, 'mean_intensity': 0.038492458988912404, 'subtracted_bg_per_pixel': 0}, {'channel': 2, 'sum_intensity': 42.57647071778774, 'mean_intensity': 0.04997238347158186, 'subtracted_bg_per_pixel': 0}, {'channel': 3, 'sum_intensity': 41.135988561436534, 'mean_intensity': 0.0482816767153011, 'subtracted_bg_per_pixel': 0}]}, {'label': 720, 'n_pixel': 1645, 'measured_channels': [{'channel': 0, 'sum_intensity': 122.90356302633882, 'mean_intensity': 0.07471341217406614, 'subtracted_bg_per_pixel': 0}, {'channel': 1, 'sum_intensity': 72.54268733272329, 'mean_intensity': 0.04409889807460382, 'subtracted_bg_per_pixel': 0}, {'channel': 2, 'sum_intensity': 53.27695142943412, 'mean_intensity': 0.03238720451637333, 'subtracted_bg_per_pixel': 0}, {'channel': 3, 'sum_intensity': 44.10594358574599, 'mean_intensity': 0.02681212376033191, 'subtracted_bg_per_pixel': 0}]}, {'label': 723, 'n_pixel': 1758, 'measured_channels': [{'channel': 0, 'sum_intensity': 104.37871380336583, 'mean_intensity': 0.05937355733979854, 'subtracted_bg_per_pixel': 0}, {'channel': 1, 'sum_intensity': 33.0955674094148, 'mean_intensity': 0.01882569249682298, 'subtracted_bg_per_pixel': 0}, {'channel': 2, 'sum_intensity': 75.95916705019772, 'mean_intensity': 0.04320771732093158, 'subtracted_bg_per_pixel': 0}, {'channel': 3, 'sum_intensity': 73.58313891291618, 'mean_intensity': 0.04185616547947451, 'subtracted_bg_per_pixel': 0}]}, {'label': 754, 'n_pixel': 2373, 'measured_channels': [{'channel': 0, 'sum_intensity': 125.18846441246569, 'mean_intensity': 0.05275535794878453, 'subtracted_bg_per_pixel': 0}, {'channel': 1, 'sum_intensity': 32.771328560542315, 'mean_intensity': 0.013810083674901944, 'subtracted_bg_per_pixel': 0}, {'channel': 2, 'sum_intensity': 77.00636324472725, 'mean_intensity': 0.03245105910018005, 'subtracted_bg_per_pixel': 0}, {'channel': 3, 'sum_intensity': 66.08213946502656, 'mean_intensity': 0.027847509256226952, 'subtracted_bg_per_pixel': 0}]}, {'label': 764, 'n_pixel': 1077, 'measured_channels': [{'channel': 0, 'sum_intensity': 65.09851233661175, 'mean_intensity': 0.060444301148200326, 'subtracted_bg_per_pixel': 0}, {'channel': 1, 'sum_intensity': 16.308659601956606, 'mean_intensity': 0.015142673725122197, 'subtracted_bg_per_pixel': 0}, {'channel': 2, 'sum_intensity': 38.591409273445606, 'mean_intensity': 0.03583232058815748, 'subtracted_bg_per_pixel': 0}, {'channel': 3, 'sum_intensity': 45.22758845984936, 'mean_intensity': 0.041994046852227816, 'subtracted_bg_per_pixel': 0}]}, {'label': 767, 'n_pixel': 897, 'measured_channels': [{'channel': 0, 'sum_intensity': 83.31013967655599, 'mean_intensity': 0.09287640989582607, 'subtracted_bg_per_pixel': 0}, {'channel': 1, 'sum_intensity': 23.03222720697522, 'mean_intensity': 0.025676953407999133, 'subtracted_bg_per_pixel': 0}, {'channel': 2, 'sum_intensity': 47.10557725094259, 'mean_intensity': 0.05251457887507535, 'subtracted_bg_per_pixel': 0}, {'channel': 3, 'sum_intensity': 30.16159317828715, 'mean_intensity': 0.033624964524288904, 'subtracted_bg_per_pixel': 0}]}, {'label': 770, 'n_pixel': 1589, 'measured_channels': [{'channel': 0, 'sum_intensity': 109.65114840026945, 'mean_intensity': 0.06900638665844522, 'subtracted_bg_per_pixel': 0}, {'channel': 1, 'sum_intensity': 32.86807063082233, 'mean_intensity': 0.020684751812978183, 'subtracted_bg_per_pixel': 0}, {'channel': 2, 'sum_intensity': 59.399740799330175, 'mean_intensity': 0.037381838136771664, 'subtracted_bg_per_pixel': 0}, {'channel': 3, 'sum_intensity': 63.926344864070415, 'mean_intensity': 0.040230550575248845, 'subtracted_bg_per_pixel': 0}]}, {'label': 772, 'n_pixel': 502, 'measured_channels': [{'channel': 0, 'sum_intensity': 50.33867397904396, 'mean_intensity': 0.10027624298614335, 'subtracted_bg_per_pixel': 0}, {'channel': 1, 'sum_intensity': 18.581307750195265, 'mean_intensity': 0.03701455727130531, 'subtracted_bg_per_pixel': 0}, {'channel': 2, 'sum_intensity': 31.6220035366714, 'mean_intensity': 0.0629920389176721, 'subtracted_bg_per_pixel': 0}, {'channel': 3, 'sum_intensity': 33.22993821464479, 'mean_intensity': 0.06619509604510915, 'subtracted_bg_per_pixel': 0}]}, {'label': 781, 'n_pixel': 787, 'measured_channels': [{'channel': 0, 'sum_intensity': 107.52408643066883, 'mean_intensity': 0.13662526865396293, 'subtracted_bg_per_pixel': 0}, {'channel': 1, 'sum_intensity': 17.633569945115596, 'mean_intensity': 0.022406060921366704, 'subtracted_bg_per_pixel': 0}, {'channel': 2, 'sum_intensity': 48.052781058475375, 'mean_intensity': 0.061058171611785735, 'subtracted_bg_per_pixel': 0}, {'channel': 3, 'sum_intensity': 29.359701031818986, 'mean_intensity': 0.037305846292019045, 'subtracted_bg_per_pixel': 0}]}, {'label': 796, 'n_pixel': 1412, 'measured_channels': [{'channel': 0, 'sum_intensity': 89.50728638097644, 'mean_intensity': 0.0633904294482836, 'subtracted_bg_per_pixel': 0}, {'channel': 1, 'sum_intensity': 32.65934250224382, 'mean_intensity': 0.02312984596476191, 'subtracted_bg_per_pixel': 0}, {'channel': 2, 'sum_intensity': 57.781735084950924, 'mean_intensity': 0.04092190870039017, 'subtracted_bg_per_pixel': 0}, {'channel': 3, 'sum_intensity': 51.014999753795564, 'mean_intensity': 0.03612960322506768, 'subtracted_bg_per_pixel': 0}]}, {'label': 797, 'n_pixel': 507, 'measured_channels': [{'channel': 0, 'sum_intensity': 26.750393014401197, 'mean_intensity': 0.05276211639921341, 'subtracted_bg_per_pixel': 0}, {'channel': 1, 'sum_intensity': 20.331014031078666, 'mean_intensity': 0.04010061939068771, 'subtracted_bg_per_pixel': 0}, {'channel': 2, 'sum_intensity': 26.189623951911926, 'mean_intensity': 0.051656063021522536, 'subtracted_bg_per_pixel': 0}, {'channel': 3, 'sum_intensity': 15.420019840821624, 'mean_intensity': 0.030414240317202412, 'subtracted_bg_per_pixel': 0}]}, {'label': 798, 'n_pixel': 1363, 'measured_channels': [{'channel': 0, 'sum_intensity': 95.92069904878736, 'mean_intensity': 0.07037468748993937, 'subtracted_bg_per_pixel': 0}, {'channel': 1, 'sum_intensity': 14.771923548541963, 'mean_intensity': 0.010837801576333062, 'subtracted_bg_per_pixel': 0}, {'channel': 2, 'sum_intensity': 56.27443359885365, 'mean_intensity': 0.04128718532564464, 'subtracted_bg_per_pixel': 0}, {'channel': 3, 'sum_intensity': 42.417914221063256, 'mean_intensity': 0.031120993559107305, 'subtracted_bg_per_pixel': 0}]}, {'label': 799, 'n_pixel': 1335, 'measured_channels': [{'channel': 0, 'sum_intensity': 96.22447556257248, 'mean_intensity': 0.0720782588483689, 'subtracted_bg_per_pixel': 0}, {'channel': 1, 'sum_intensity': 30.618478833232075, 'mean_intensity': 0.022935190137252492, 'subtracted_bg_per_pixel': 0}, {'channel': 2, 'sum_intensity': 57.23915478400886, 'mean_intensity': 0.04287577137378941, 'subtracted_bg_per_pixel': 0}, {'channel': 3, 'sum_intensity': 56.51166567578912, 'mean_intensity': 0.04233083571220159, 'subtracted_bg_per_pixel': 0}]}, {'label': 800, 'n_pixel': 833, 'measured_channels': [{'channel': 0, 'sum_intensity': 93.3990082629025, 'mean_intensity': 0.11212365937923469, 'subtracted_bg_per_pixel': 0}, {'channel': 1, 'sum_intensity': 13.644968435168266, 'mean_intensity': 0.016380514327933093, 'subtracted_bg_per_pixel': 0}, {'channel': 2, 'sum_intensity': 52.45740451198071, 'mean_intensity': 0.06297407504439462, 'subtracted_bg_per_pixel': 0}, {'channel': 3, 'sum_intensity': 23.01774630881846, 'mean_intensity': 0.027632348509986145, 'subtracted_bg_per_pixel': 0}]}, {'label': 801, 'n_pixel': 860, 'measured_channels': [{'channel': 0, 'sum_intensity': 34.021622121334076, 'mean_intensity': 0.03956002572248148, 'subtracted_bg_per_pixel': 0}, {'channel': 1, 'sum_intensity': 22.98423754563555, 'mean_intensity': 0.026725857611204128, 'subtracted_bg_per_pixel': 0}, {'channel': 2, 'sum_intensity': 44.6752575468272, 'mean_intensity': 0.05194797389165953, 'subtracted_bg_per_pixel': 0}, {'channel': 3, 'sum_intensity': 20.727550287730992, 'mean_intensity': 0.024101802660152317, 'subtracted_bg_per_pixel': 0}]}, {'label': 802, 'n_pixel': 1990, 'measured_channels': [{'channel': 0, 'sum_intensity': 137.81054417602718, 'mean_intensity': 0.06925152973669707, 'subtracted_bg_per_pixel': 0}, {'channel': 1, 'sum_intensity': 80.9369193916209, 'mean_intensity': 0.04067181878975925, 'subtracted_bg_per_pixel': 0}, {'channel': 2, 'sum_intensity': 83.76284453831613, 'mean_intensity': 0.042091881677545795, 'subtracted_bg_per_pixel': 0}, {'channel': 3, 'sum_intensity': 93.53553082514554, 'mean_intensity': 0.047002779309118364, 'subtracted_bg_per_pixel': 0}]}, {'label': 803, 'n_pixel': 1092, 'measured_channels': [{'channel': 0, 'sum_intensity': 70.59102779999375, 'mean_intensity': 0.06464379835164263, 'subtracted_bg_per_pixel': 0}, {'channel': 1, 'sum_intensity': 24.00270096771419, 'mean_intensity': 0.02198049539167966, 'subtracted_bg_per_pixel': 0}, {'channel': 2, 'sum_intensity': 33.40968963224441, 'mean_intensity': 0.03059495387568169, 'subtracted_bg_per_pixel': 0}, {'channel': 3, 'sum_intensity': 36.50995664205402, 'mean_intensity': 0.033434026228987196, 'subtracted_bg_per_pixel': 0}]}, {'label': 804, 'n_pixel': 1306, 'measured_channels': [{'channel': 0, 'sum_intensity': 92.61722759716213, 'mean_intensity': 0.07091671332095109, 'subtracted_bg_per_pixel': 0}, {'channel': 1, 'sum_intensity': 42.26175342593342, 'mean_intensity': 0.032359688687544734, 'subtracted_bg_per_pixel': 0}, {'channel': 2, 'sum_intensity': 50.56450766324997, 'mean_intensity': 0.0387170809060107, 'subtracted_bg_per_pixel': 0}, {'channel': 3, 'sum_intensity': 50.282291979528964, 'mean_intensity': 0.038500989264570414, 'subtracted_bg_per_pixel': 0}]}, {'label': 805, 'n_pixel': 1712, 'measured_channels': [{'channel': 0, 'sum_intensity': 104.39153135195374, 'mean_intensity': 0.06097636177100102, 'subtracted_bg_per_pixel': 0}, {'channel': 1, 'sum_intensity': 42.36391259217635, 'mean_intensity': 0.02474527604683198, 'subtracted_bg_per_pixel': 0}, {'channel': 2, 'sum_intensity': 51.09388892585412, 'mean_intensity': 0.02984456128846619, 'subtracted_bg_per_pixel': 0}, {'channel': 3, 'sum_intensity': 55.11720468848944, 'mean_intensity': 0.03219462890682794, 'subtracted_bg_per_pixel': 0}]}, {'label': 806, 'n_pixel': 927, 'measured_channels': [{'channel': 0, 'sum_intensity': 82.90962090343237, 'mean_intensity': 0.08943864175127549, 'subtracted_bg_per_pixel': 0}, {'channel': 1, 'sum_intensity': 56.2899522036314, 'mean_intensity': 0.060722710036279826, 'subtracted_bg_per_pixel': 0}, {'channel': 2, 'sum_intensity': 40.20695819891989, 'mean_intensity': 0.04337320194058241, 'subtracted_bg_per_pixel': 0}, {'channel': 3, 'sum_intensity': 54.50338000431657, 'mean_intensity': 0.05879544768534689, 'subtracted_bg_per_pixel': 0}]}, {'label': 807, 'n_pixel': 1832, 'measured_channels': [{'channel': 0, 'sum_intensity': 83.43830042984337, 'mean_intensity': 0.04554492381541669, 'subtracted_bg_per_pixel': 0}, {'channel': 1, 'sum_intensity': 119.04357999190688, 'mean_intensity': 0.0649801200829186, 'subtracted_bg_per_pixel': 0}, {'channel': 2, 'sum_intensity': 72.22069145925343, 'mean_intensity': 0.03942177481400296, 'subtracted_bg_per_pixel': 0}, {'channel': 3, 'sum_intensity': 89.17582988087088, 'mean_intensity': 0.04867676303540987, 'subtracted_bg_per_pixel': 0}]}, {'label': 808, 'n_pixel': 1975, 'measured_channels': [{'channel': 0, 'sum_intensity': 132.62362108565867, 'mean_intensity': 0.0671512005497006, 'subtracted_bg_per_pixel': 0}, {'channel': 1, 'sum_intensity': 80.37065712315962, 'mean_intensity': 0.040694003606663094, 'subtracted_bg_per_pixel': 0}, {'channel': 2, 'sum_intensity': 76.1557796485722, 'mean_intensity': 0.03855988842965681, 'subtracted_bg_per_pixel': 0}, {'channel': 3, 'sum_intensity': 88.68560330197215, 'mean_intensity': 0.04490410293770742, 'subtracted_bg_per_pixel': 0}]}, {'label': 809, 'n_pixel': 1765, 'measured_channels': [{'channel': 0, 'sum_intensity': 103.24487697985023, 'mean_intensity': 0.05849568100841373, 'subtracted_bg_per_pixel': 0}, {'channel': 1, 'sum_intensity': 72.21612900123, 'mean_intensity': 0.04091565382505949, 'subtracted_bg_per_pixel': 0}, {'channel': 2, 'sum_intensity': 88.04901207610965, 'mean_intensity': 0.04988612582215844, 'subtracted_bg_per_pixel': 0}, {'channel': 3, 'sum_intensity': 92.62293446995318, 'mean_intensity': 0.05247758326909529, 'subtracted_bg_per_pixel': 0}]}]))]\n"
     ]
    }
   ],
   "source": [
    "new_exp_group.add_image_by_uid(uid)"
   ]
  },
  {
   "cell_type": "code",
   "execution_count": 15,
   "id": "bronze-prophet",
   "metadata": {},
   "outputs": [],
   "source": [
    "new_exp_group.add_result_layer(1)"
   ]
  },
  {
   "cell_type": "code",
   "execution_count": 9,
   "id": "annoying-corps",
   "metadata": {},
   "outputs": [],
   "source": [
    "new_exp_group.add_measurement(1)"
   ]
  },
  {
   "cell_type": "code",
   "execution_count": 10,
   "id": "thermal-bouquet",
   "metadata": {},
   "outputs": [
    {
     "data": {
      "text/plain": [
       "[1]"
      ]
     },
     "execution_count": 10,
     "metadata": {},
     "output_type": "execute_result"
    }
   ],
   "source": [
    "new_exp_group.dict()[\"measurement_ids\"]\n",
    "# new_exp_group.dict()[\"result_layer_ids\"]\n",
    "# new_exp_group.dict()[\"images\"]"
   ]
  },
  {
   "cell_type": "code",
   "execution_count": 11,
   "id": "vulnerable-sweet",
   "metadata": {},
   "outputs": [],
   "source": [
    "new_exp_group.remove_result_layer(1)"
   ]
  },
  {
   "cell_type": "code",
   "execution_count": 12,
   "id": "violent-combat",
   "metadata": {},
   "outputs": [],
   "source": [
    "new_exp_group.remove_image(uid)"
   ]
  },
  {
   "cell_type": "code",
   "execution_count": 13,
   "id": "sophisticated-variation",
   "metadata": {},
   "outputs": [],
   "source": [
    "new_exp_group.remove_measurement(1)"
   ]
  },
  {
   "cell_type": "code",
   "execution_count": 20,
   "id": "close-subscriber",
   "metadata": {},
   "outputs": [],
   "source": [
    "img = new_exp_group.images[0]\n",
    "result_layer = img.select_result_layer(6)\n",
    "result_layer_array = result_layer.data"
   ]
  },
  {
   "cell_type": "code",
   "execution_count": 24,
   "id": "boolean-banks",
   "metadata": {},
   "outputs": [
    {
     "data": {
      "text/plain": [
       "(2046, 1309)"
      ]
     },
     "execution_count": 24,
     "metadata": {},
     "output_type": "execute_result"
    }
   ],
   "source": [
    "result_layer_array.shape"
   ]
  },
  {
   "cell_type": "code",
   "execution_count": 30,
   "id": "wireless-fitting",
   "metadata": {},
   "outputs": [],
   "source": [
    "result_layer_array[result_layer_array>0] = 1"
   ]
  },
  {
   "cell_type": "code",
   "execution_count": 34,
   "id": "grand-insider",
   "metadata": {},
   "outputs": [],
   "source": [
    "result_layer_array = result_layer_array.astype(bool)"
   ]
  },
  {
   "cell_type": "code",
   "execution_count": 43,
   "id": "fewer-moldova",
   "metadata": {},
   "outputs": [],
   "source": [
    "cl_img_array = morphology.area_closing(\n",
    "    result_layer_array, \n",
    "    200,\n",
    ")\n",
    "\n",
    "rm_so_img_array = morphology.remove_small_objects(\n",
    "    cl_img_array,\n",
    "    min_size = 64,\n",
    "    connectivity = 4\n",
    ")\n",
    "\n",
    "rm_so_fh_img_array = morphology.remove_small_holes(\n",
    "    rm_so_img_array,\n",
    "    900,\n",
    "    4\n",
    ")"
   ]
  },
  {
   "cell_type": "code",
   "execution_count": 39,
   "id": "dutch-ensemble",
   "metadata": {},
   "outputs": [
    {
     "data": {
      "text/plain": [
       "array([False,  True])"
      ]
     },
     "execution_count": 39,
     "metadata": {},
     "output_type": "execute_result"
    }
   ],
   "source": [
    "np.unique(rm_so_img_array)"
   ]
  },
  {
   "cell_type": "code",
   "execution_count": 21,
   "id": "cross-fundamental",
   "metadata": {},
   "outputs": [],
   "source": [
    "\n",
    "import skimage.morphology as morphology"
   ]
  },
  {
   "cell_type": "code",
   "execution_count": 44,
   "id": "alternate-marker",
   "metadata": {},
   "outputs": [
    {
     "data": {
      "text/plain": [
       "<matplotlib.image.AxesImage at 0x2861db042e0>"
      ]
     },
     "execution_count": 44,
     "metadata": {},
     "output_type": "execute_result"
    },
    {
     "data": {
      "image/png": "[encoded data removed]",
      "text/plain": [
       "<Figure size 1152x1152 with 1 Axes>"
      ]
     },
     "metadata": {
      "needs_background": "light"
     },
     "output_type": "display_data"
    }
   ],
   "source": [
    "plt.figure(figsize = (16,16))\n",
    "plt.imshow(rm_so_img_array)"
   ]
  },
  {
   "cell_type": "code",
   "execution_count": null,
   "id": "hairy-karma",
   "metadata": {},
   "outputs": [],
   "source": []
  },
  {
   "cell_type": "code",
   "execution_count": null,
   "id": "emotional-world",
   "metadata": {},
   "outputs": [],
   "source": []
  },
  {
   "cell_type": "code",
   "execution_count": null,
   "id": "identified-circular",
   "metadata": {},
   "outputs": [],
   "source": []
  },
  {
   "cell_type": "code",
   "execution_count": null,
   "id": "original-faith",
   "metadata": {},
   "outputs": [],
   "source": []
  },
  {
   "cell_type": "code",
   "execution_count": null,
   "id": "executive-seminar",
   "metadata": {},
   "outputs": [],
   "source": []
  },
  {
   "cell_type": "code",
   "execution_count": 22,
   "id": "choice-tsunami",
   "metadata": {},
   "outputs": [
    {
     "name": "stdout",
     "output_type": "stream",
     "text": [
      "[1, 3, 4, 5, 6, 7, 8, 9, 10, 11, 12, 13]\n"
     ]
    }
   ],
   "source": [
    "with SessionLocal(expire_on_commit = False) as sess:\n",
    "    sql_image = sess.query(db_models.Image).filter(db_models.Image.id == uid).one()\n",
    "    print([_.id for _ in sql_image.experiment_groups])"
   ]
  },
  {
   "cell_type": "code",
   "execution_count": 20,
   "id": "greek-publication",
   "metadata": {},
   "outputs": [
    {
     "ename": "DetachedInstanceError",
     "evalue": "Parent instance <Image at 0x1a24196f2e0> is not bound to a Session; lazy load operation of attribute 'experiment_groups' cannot proceed (Background on this error at: http://sqlalche.me/e/14/bhk3)",
     "output_type": "error",
     "traceback": [
      "\u001b[1;31m---------------------------------------------------------------------------\u001b[0m",
      "\u001b[1;31mDetachedInstanceError\u001b[0m                     Traceback (most recent call last)",
      "\u001b[1;32m<ipython-input-20-e71edd2f1999>\u001b[0m in \u001b[0;36m<module>\u001b[1;34m\u001b[0m\n\u001b[1;32m----> 1\u001b[1;33m \u001b[0msql_image\u001b[0m\u001b[1;33m.\u001b[0m\u001b[0mexperiment_groups\u001b[0m\u001b[1;33m\u001b[0m\u001b[1;33m\u001b[0m\u001b[0m\n\u001b[0m",
      "\u001b[1;32mc:\\users\\tlux1\\anaconda3\\envs\\mistos\\lib\\site-packages\\sqlalchemy\\orm\\attributes.py\u001b[0m in \u001b[0;36m__get__\u001b[1;34m(self, instance, owner)\u001b[0m\n\u001b[0;32m    361\u001b[0m                     \u001b[0mreplace_context\u001b[0m\u001b[1;33m=\u001b[0m\u001b[0merr\u001b[0m\u001b[1;33m,\u001b[0m\u001b[1;33m\u001b[0m\u001b[1;33m\u001b[0m\u001b[0m\n\u001b[0;32m    362\u001b[0m                 )\n\u001b[1;32m--> 363\u001b[1;33m             \u001b[1;32mreturn\u001b[0m \u001b[0mself\u001b[0m\u001b[1;33m.\u001b[0m\u001b[0mimpl\u001b[0m\u001b[1;33m.\u001b[0m\u001b[0mget\u001b[0m\u001b[1;33m(\u001b[0m\u001b[0mstate\u001b[0m\u001b[1;33m,\u001b[0m \u001b[0mdict_\u001b[0m\u001b[1;33m)\u001b[0m\u001b[1;33m\u001b[0m\u001b[1;33m\u001b[0m\u001b[0m\n\u001b[0m\u001b[0;32m    364\u001b[0m \u001b[1;33m\u001b[0m\u001b[0m\n\u001b[0;32m    365\u001b[0m \u001b[1;33m\u001b[0m\u001b[0m\n",
      "\u001b[1;32mc:\\users\\tlux1\\anaconda3\\envs\\mistos\\lib\\site-packages\\sqlalchemy\\orm\\attributes.py\u001b[0m in \u001b[0;36mget\u001b[1;34m(self, state, dict_, passive)\u001b[0m\n\u001b[0;32m    802\u001b[0m                     \u001b[0mvalue\u001b[0m \u001b[1;33m=\u001b[0m \u001b[0mcallable_\u001b[0m\u001b[1;33m(\u001b[0m\u001b[0mstate\u001b[0m\u001b[1;33m,\u001b[0m \u001b[0mpassive\u001b[0m\u001b[1;33m)\u001b[0m\u001b[1;33m\u001b[0m\u001b[1;33m\u001b[0m\u001b[0m\n\u001b[0;32m    803\u001b[0m                 \u001b[1;32melif\u001b[0m \u001b[0mself\u001b[0m\u001b[1;33m.\u001b[0m\u001b[0mcallable_\u001b[0m\u001b[1;33m:\u001b[0m\u001b[1;33m\u001b[0m\u001b[1;33m\u001b[0m\u001b[0m\n\u001b[1;32m--> 804\u001b[1;33m                     \u001b[0mvalue\u001b[0m \u001b[1;33m=\u001b[0m \u001b[0mself\u001b[0m\u001b[1;33m.\u001b[0m\u001b[0mcallable_\u001b[0m\u001b[1;33m(\u001b[0m\u001b[0mstate\u001b[0m\u001b[1;33m,\u001b[0m \u001b[0mpassive\u001b[0m\u001b[1;33m)\u001b[0m\u001b[1;33m\u001b[0m\u001b[1;33m\u001b[0m\u001b[0m\n\u001b[0m\u001b[0;32m    805\u001b[0m                 \u001b[1;32melse\u001b[0m\u001b[1;33m:\u001b[0m\u001b[1;33m\u001b[0m\u001b[1;33m\u001b[0m\u001b[0m\n\u001b[0;32m    806\u001b[0m                     \u001b[0mvalue\u001b[0m \u001b[1;33m=\u001b[0m \u001b[0mATTR_EMPTY\u001b[0m\u001b[1;33m\u001b[0m\u001b[1;33m\u001b[0m\u001b[0m\n",
      "\u001b[1;32mc:\\users\\tlux1\\anaconda3\\envs\\mistos\\lib\\site-packages\\sqlalchemy\\orm\\strategies.py\u001b[0m in \u001b[0;36m_load_for_state\u001b[1;34m(self, state, passive, loadopt)\u001b[0m\n\u001b[0;32m    819\u001b[0m                 \u001b[1;32mreturn\u001b[0m \u001b[0mattributes\u001b[0m\u001b[1;33m.\u001b[0m\u001b[0mPASSIVE_NO_RESULT\u001b[0m\u001b[1;33m\u001b[0m\u001b[1;33m\u001b[0m\u001b[0m\n\u001b[0;32m    820\u001b[0m \u001b[1;33m\u001b[0m\u001b[0m\n\u001b[1;32m--> 821\u001b[1;33m             raise orm_exc.DetachedInstanceError(\n\u001b[0m\u001b[0;32m    822\u001b[0m                 \u001b[1;34m\"Parent instance %s is not bound to a Session; \"\u001b[0m\u001b[1;33m\u001b[0m\u001b[1;33m\u001b[0m\u001b[0m\n\u001b[0;32m    823\u001b[0m                 \u001b[1;34m\"lazy load operation of attribute '%s' cannot proceed\"\u001b[0m\u001b[1;33m\u001b[0m\u001b[1;33m\u001b[0m\u001b[0m\n",
      "\u001b[1;31mDetachedInstanceError\u001b[0m: Parent instance <Image at 0x1a24196f2e0> is not bound to a Session; lazy load operation of attribute 'experiment_groups' cannot proceed (Background on this error at: http://sqlalche.me/e/14/bhk3)"
     ]
    }
   ],
   "source": [
    "sql_image.experiment_groups"
   ]
  },
  {
   "cell_type": "code",
   "execution_count": null,
   "id": "generic-integral",
   "metadata": {},
   "outputs": [],
   "source": [
    "\n",
    "        "
   ]
  },
  {
   "cell_type": "code",
   "execution_count": null,
   "id": "available-flood",
   "metadata": {},
   "outputs": [],
   "source": []
  },
  {
   "cell_type": "code",
   "execution_count": null,
   "id": "talented-services",
   "metadata": {},
   "outputs": [],
   "source": []
  },
  {
   "cell_type": "code",
   "execution_count": null,
   "id": "advised-blues",
   "metadata": {},
   "outputs": [],
   "source": []
  },
  {
   "cell_type": "code",
   "execution_count": 9,
   "id": "surrounded-poverty",
   "metadata": {},
   "outputs": [],
   "source": [
    "# add result layer to experiment group"
   ]
  },
  {
   "cell_type": "code",
   "execution_count": 10,
   "id": "related-maximum",
   "metadata": {},
   "outputs": [],
   "source": [
    "# add measurement to ex"
   ]
  },
  {
   "cell_type": "code",
   "execution_count": null,
   "id": "aware-nation",
   "metadata": {},
   "outputs": [],
   "source": []
  },
  {
   "cell_type": "code",
   "execution_count": 11,
   "id": "dying-arlington",
   "metadata": {},
   "outputs": [],
   "source": [
    "# create experiment"
   ]
  },
  {
   "cell_type": "code",
   "execution_count": null,
   "id": "radio-jurisdiction",
   "metadata": {},
   "outputs": [],
   "source": []
  },
  {
   "cell_type": "code",
   "execution_count": null,
   "id": "incident-disease",
   "metadata": {},
   "outputs": [],
   "source": []
  },
  {
   "cell_type": "code",
   "execution_count": 12,
   "id": "palestinian-qualification",
   "metadata": {},
   "outputs": [],
   "source": [
    "# create experiment groups"
   ]
  },
  {
   "cell_type": "code",
   "execution_count": 13,
   "id": "distinct-theme",
   "metadata": {},
   "outputs": [],
   "source": [
    "# Remove Experiment groups"
   ]
  },
  {
   "cell_type": "code",
   "execution_count": 25,
   "id": "twelve-backing",
   "metadata": {},
   "outputs": [],
   "source": [
    "# Add Images to groups"
   ]
  },
  {
   "cell_type": "code",
   "execution_count": 26,
   "id": "hybrid-patrick",
   "metadata": {},
   "outputs": [],
   "source": [
    "# Remove Images from groups"
   ]
  },
  {
   "cell_type": "code",
   "execution_count": 27,
   "id": "comic-dining",
   "metadata": {},
   "outputs": [],
   "source": [
    "# Make measurements"
   ]
  },
  {
   "cell_type": "code",
   "execution_count": 28,
   "id": "delayed-cooperation",
   "metadata": {},
   "outputs": [],
   "source": [
    "# remove measurements"
   ]
  },
  {
   "cell_type": "code",
   "execution_count": 29,
   "id": "viral-break",
   "metadata": {},
   "outputs": [],
   "source": [
    "# create result"
   ]
  },
  {
   "cell_type": "code",
   "execution_count": null,
   "id": "informal-cancer",
   "metadata": {},
   "outputs": [],
   "source": [
    "# Remove result"
   ]
  }
 ],
 "metadata": {
  "kernelspec": {
   "display_name": "Python 3",
   "language": "python",
   "name": "python3"
  },
  "language_info": {
   "codemirror_mode": {
    "name": "ipython",
    "version": 3
   },
   "file_extension": ".py",
   "mimetype": "text/x-python",
   "name": "python",
   "nbconvert_exporter": "python",
   "pygments_lexer": "ipython3",
   "version": "3.8.5"
  }
 },
 "nbformat": 4,
 "nbformat_minor": 5
}
