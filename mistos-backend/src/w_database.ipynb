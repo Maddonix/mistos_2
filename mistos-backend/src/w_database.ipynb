{
 "cells": [
  {
   "cell_type": "code",
   "execution_count": 1,
   "id": "modern-filling",
   "metadata": {},
   "outputs": [
    {
     "name": "stdout",
     "output_type": "stream",
     "text": [
      "Found model '2D_versatile_fluo' for 'StarDist2D'.\n",
      "Loading network weights from 'weights_best.h5'.\n",
      "Loading thresholds from 'thresholds.json'.\n",
      "Using default values: prob_thresh=0.479071, nms_thresh=0.3.\n"
     ]
    }
   ],
   "source": [
    "import importlib\n",
    "import numpy as np\n",
    "from fastapi import APIRouter, Depends, HTTPException\n",
    "import glob\n",
    "import pathlib\n",
    "import zarr\n",
    "import os\n",
    "from pydantic import BaseModel\n",
    "from typing import List, Optional\n",
    "import matplotlib.pyplot as plt\n",
    "# import napari\n",
    "\n",
    "# Import db\n",
    "from app import db_models\n",
    "from app.database import SessionLocal, engine\n",
    "import app.crud as crud\n",
    "\n",
    "# Import classes\n",
    "from app.api import classes_internal as c_int\n",
    "from app.api import classes_db as c_db\n",
    "from app.api import classes_com as c_com\n",
    "from app.api import utils_import\n",
    "from app.api import utils_paths\n",
    "from app.tests import utils_tests\n",
    "from app.api import napari_viewer\n",
    "from app.api import utils_segmentation_random_forest as utils_seg_rf"
   ]
  },
  {
   "cell_type": "code",
   "execution_count": 5,
   "id": "general-champion",
   "metadata": {},
   "outputs": [],
   "source": [
    "# has to be included at top of main.py\n",
    "# db_models.Base.metadata.create_all(bind=engine)"
   ]
  },
  {
   "cell_type": "code",
   "execution_count": 7,
   "id": "nervous-happening",
   "metadata": {},
   "outputs": [],
   "source": [
    "# import test images\n",
    "# utils_tests.import_test_images()"
   ]
  },
  {
   "cell_type": "code",
   "execution_count": 8,
   "id": "mathematical-chart",
   "metadata": {},
   "outputs": [
    {
     "name": "stdout",
     "output_type": "stream",
     "text": [
      "Found model '2D_versatile_fluo' for 'StarDist2D'.\n",
      "Loading network weights from 'weights_best.h5'.\n",
      "Loading thresholds from 'thresholds.json'.\n",
      "Using default values: prob_thresh=0.479071, nms_thresh=0.3.\n"
     ]
    },
    {
     "data": {
      "text/plain": [
       "<module 'app.api.napari_viewer' from 'D:\\\\Programming\\\\github\\\\mistos\\\\prototyping\\\\backend\\\\src\\\\app\\\\api\\\\napari_viewer.py'>"
      ]
     },
     "execution_count": 8,
     "metadata": {},
     "output_type": "execute_result"
    }
   ],
   "source": [
    "importlib.reload(utils_tests)\n",
    "importlib.reload(utils_paths)\n",
    "importlib.reload(c_int)\n",
    "importlib.reload(c_db)\n",
    "importlib.reload(c_com)\n",
    "importlib.reload(crud)\n",
    "importlib.reload(napari_viewer)"
   ]
  },
  {
   "cell_type": "code",
   "execution_count": 6,
   "id": "constitutional-africa",
   "metadata": {},
   "outputs": [],
   "source": [
    "from app.api import utils_segmentation_random_forest as utils_segmentation_rf"
   ]
  },
  {
   "cell_type": "code",
   "execution_count": 9,
   "id": "cutting-edwards",
   "metadata": {},
   "outputs": [],
   "source": [
    "# Load image\n",
    "uid = 9\n",
    "img = crud.read_image_by_uid(uid)\n",
    "\n",
    "clf_uid = 3\n",
    "int_clf = crud.read_classifier_by_uid(clf_uid)\n",
    "\n",
    "threshold = 0.7\n",
    "multichannel = int_clf.is_multichannel()"
   ]
  },
  {
   "cell_type": "code",
   "execution_count": 3,
   "id": "cultural-pension",
   "metadata": {},
   "outputs": [
    {
     "data": {
      "text/plain": [
       "(2044, 1309)"
      ]
     },
     "execution_count": 3,
     "metadata": {},
     "output_type": "execute_result"
    }
   ],
   "source": [
    "img_array = img.data[0, 0, ...]\n",
    "img_array.shape"
   ]
  },
  {
   "cell_type": "code",
   "execution_count": 10,
   "id": "therapeutic-madagascar",
   "metadata": {},
   "outputs": [],
   "source": [
    "napari_viewer.view(img, display_bg_layer = False, display_segmentation_layers = True)\n",
    "# (2637955, 24)"
   ]
  },
  {
   "cell_type": "code",
   "execution_count": 3,
   "id": "literary-nickname",
   "metadata": {},
   "outputs": [],
   "source": [
    "segmentation_layer_uid = 6"
   ]
  },
  {
   "cell_type": "code",
   "execution_count": 7,
   "id": "judicial-fault",
   "metadata": {},
   "outputs": [
    {
     "ename": "NameError",
     "evalue": "name 'segmentation_layer_uid' is not defined",
     "output_type": "error",
     "traceback": [
      "\u001b[1;31m---------------------------------------------------------------------------\u001b[0m",
      "\u001b[1;31mNameError\u001b[0m                                 Traceback (most recent call last)",
      "\u001b[1;32m<ipython-input-7-5a83e03d49bb>\u001b[0m in \u001b[0;36m<module>\u001b[1;34m\u001b[0m\n\u001b[1;32m----> 1\u001b[1;33m \u001b[0mmeasurement_result\u001b[0m \u001b[1;33m=\u001b[0m \u001b[0mimg\u001b[0m\u001b[1;33m.\u001b[0m\u001b[0mmeasure_mask_in_image\u001b[0m\u001b[1;33m(\u001b[0m\u001b[0msegmentation_layer_uid\u001b[0m\u001b[1;33m)\u001b[0m\u001b[1;33m\u001b[0m\u001b[1;33m\u001b[0m\u001b[0m\n\u001b[0m",
      "\u001b[1;31mNameError\u001b[0m: name 'segmentation_layer_uid' is not defined"
     ]
    }
   ],
   "source": [
    "measurement_result = img.measure_mask_in_image(segmentation_layer_uid)"
   ]
  },
  {
   "cell_type": "code",
   "execution_count": 6,
   "id": "curious-passenger",
   "metadata": {},
   "outputs": [],
   "source": [
    "import app.api.utils_paths as utils_paths\n",
    "utils_paths.make_measurement_path(3)"
   ]
  },
  {
   "cell_type": "code",
   "execution_count": 32,
   "id": "infrared-absence",
   "metadata": {},
   "outputs": [
    {
     "data": {
      "text/plain": [
       "32"
      ]
     },
     "execution_count": 32,
     "metadata": {},
     "output_type": "execute_result"
    }
   ],
   "source": [
    "len(measurement_result.measurement)"
   ]
  },
  {
   "cell_type": "code",
   "execution_count": 3,
   "id": "irish-buffalo",
   "metadata": {},
   "outputs": [
    {
     "name": "stdout",
     "output_type": "stream",
     "text": [
      "On Init IntExperiment:\n",
      "New Experiment created with id 17\n"
     ]
    }
   ],
   "source": [
    "# Create Experiment\n",
    "new_experiment = c_int.IntExperiment(\n",
    "    uid = -1,\n",
    "    name = \"Test Experiment\",\n",
    "    hint = \"Hinty Hint\",\n",
    ")\n",
    "new_experiment.on_init()"
   ]
  },
  {
   "cell_type": "code",
   "execution_count": 4,
   "id": "sought-roman",
   "metadata": {},
   "outputs": [
    {
     "name": "stdout",
     "output_type": "stream",
     "text": [
      "On Init IntExperimentGroup:\n",
      "New Group created with id 17\n"
     ]
    }
   ],
   "source": [
    "new_experiment.add_experiment_group(\"test group 1\")"
   ]
  },
  {
   "cell_type": "code",
   "execution_count": 5,
   "id": "revised-apple",
   "metadata": {},
   "outputs": [],
   "source": [
    "new_experiment.experiment_groups[0].add_image_by_uid(uid)"
   ]
  },
  {
   "cell_type": "code",
   "execution_count": 6,
   "id": "weekly-oakland",
   "metadata": {},
   "outputs": [],
   "source": [
    "new_exp_group = new_experiment.experiment_groups[0]"
   ]
  },
  {
   "cell_type": "code",
   "execution_count": 16,
   "id": "beginning-cemetery",
   "metadata": {},
   "outputs": [],
   "source": [
    "new_exp_group.add_image_by_uid(uid)"
   ]
  },
  {
   "cell_type": "code",
   "execution_count": 15,
   "id": "vietnamese-demonstration",
   "metadata": {},
   "outputs": [],
   "source": [
    "new_exp_group.add_result_layer(1)"
   ]
  },
  {
   "cell_type": "code",
   "execution_count": 9,
   "id": "developing-recipe",
   "metadata": {},
   "outputs": [],
   "source": [
    "new_exp_group.add_measurement(1)"
   ]
  },
  {
   "cell_type": "code",
   "execution_count": 10,
   "id": "intellectual-supplier",
   "metadata": {},
   "outputs": [
    {
     "data": {
      "text/plain": [
       "[1]"
      ]
     },
     "execution_count": 10,
     "metadata": {},
     "output_type": "execute_result"
    }
   ],
   "source": [
    "new_exp_group.dict()[\"measurement_ids\"]\n",
    "# new_exp_group.dict()[\"result_layer_ids\"]\n",
    "# new_exp_group.dict()[\"images\"]"
   ]
  },
  {
   "cell_type": "code",
   "execution_count": 11,
   "id": "ignored-gamma",
   "metadata": {},
   "outputs": [],
   "source": [
    "new_exp_group.remove_result_layer(1)"
   ]
  },
  {
   "cell_type": "code",
   "execution_count": 12,
   "id": "failing-athens",
   "metadata": {},
   "outputs": [],
   "source": [
    "new_exp_group.remove_image(uid)"
   ]
  },
  {
   "cell_type": "code",
   "execution_count": 13,
   "id": "unnecessary-sewing",
   "metadata": {},
   "outputs": [],
   "source": [
    "new_exp_group.remove_measurement(1)"
   ]
  },
  {
   "cell_type": "code",
   "execution_count": 20,
   "id": "capable-artwork",
   "metadata": {},
   "outputs": [],
   "source": [
    "img = new_exp_group.images[0]\n",
    "result_layer = img.select_result_layer(6)\n",
    "result_layer_array = result_layer.data"
   ]
  },
  {
   "cell_type": "code",
   "execution_count": 24,
   "id": "systematic-passing",
   "metadata": {},
   "outputs": [
    {
     "data": {
      "text/plain": [
       "(2046, 1309)"
      ]
     },
     "execution_count": 24,
     "metadata": {},
     "output_type": "execute_result"
    }
   ],
   "source": [
    "result_layer_array.shape"
   ]
  },
  {
   "cell_type": "code",
   "execution_count": 30,
   "id": "twelve-component",
   "metadata": {},
   "outputs": [],
   "source": [
    "result_layer_array[result_layer_array>0] = 1"
   ]
  },
  {
   "cell_type": "code",
   "execution_count": 34,
   "id": "statistical-ozone",
   "metadata": {},
   "outputs": [],
   "source": [
    "result_layer_array = result_layer_array.astype(bool)"
   ]
  },
  {
   "cell_type": "code",
   "execution_count": 35,
   "id": "psychological-sauce",
   "metadata": {},
   "outputs": [
    {
     "data": {
      "text/plain": [
       "array([False,  True])"
      ]
     },
     "execution_count": 35,
     "metadata": {},
     "output_type": "execute_result"
    }
   ],
   "source": [
    "np.unique(result_layer_array)"
   ]
  },
  {
   "cell_type": "code",
   "execution_count": 43,
   "id": "crude-copper",
   "metadata": {},
   "outputs": [],
   "source": [
    "cl_img_array = morphology.area_closing(\n",
    "    result_layer_array, \n",
    "    200,\n",
    ")\n",
    "\n",
    "rm_so_img_array = morphology.remove_small_objects(\n",
    "    cl_img_array,\n",
    "    min_size = 64,\n",
    "    connectivity = 4\n",
    ")\n",
    "\n",
    "rm_so_fh_img_array = morphology.remove_small_holes(\n",
    "    rm_so_img_array,\n",
    "    900,\n",
    "    4\n",
    ")"
   ]
  },
  {
   "cell_type": "code",
   "execution_count": 39,
   "id": "derived-match",
   "metadata": {},
   "outputs": [
    {
     "data": {
      "text/plain": [
       "array([False,  True])"
      ]
     },
     "execution_count": 39,
     "metadata": {},
     "output_type": "execute_result"
    }
   ],
   "source": [
    "np.unique(rm_so_img_array)"
   ]
  },
  {
   "cell_type": "code",
   "execution_count": 21,
   "id": "enhanced-review",
   "metadata": {},
   "outputs": [],
   "source": [
    "\n",
    "import skimage.morphology as morphology"
   ]
  },
  {
   "cell_type": "code",
   "execution_count": 44,
   "id": "stunning-philip",
   "metadata": {},
   "outputs": [
    {
     "data": {
      "text/plain": [
       "<matplotlib.image.AxesImage at 0x2861db042e0>"
      ]
     },
     "execution_count": 44,
     "metadata": {},
     "output_type": "execute_result"
    },
    {
     "data": {
      "image/png": "[encoded data removed]",
      "text/plain": [
       "<Figure size 1152x1152 with 1 Axes>"
      ]
     },
     "metadata": {
      "needs_background": "light"
     },
     "output_type": "display_data"
    }
   ],
   "source": [
    "plt.figure(figsize = (16,16))\n",
    "plt.imshow(rm_so_img_array)"
   ]
  },
  {
   "cell_type": "code",
   "execution_count": null,
   "id": "continuous-jacket",
   "metadata": {},
   "outputs": [],
   "source": []
  },
  {
   "cell_type": "code",
   "execution_count": null,
   "id": "accessible-response",
   "metadata": {},
   "outputs": [],
   "source": []
  },
  {
   "cell_type": "code",
   "execution_count": null,
   "id": "acceptable-macro",
   "metadata": {},
   "outputs": [],
   "source": []
  },
  {
   "cell_type": "code",
   "execution_count": null,
   "id": "administrative-collaboration",
   "metadata": {},
   "outputs": [],
   "source": []
  },
  {
   "cell_type": "code",
   "execution_count": null,
   "id": "narrative-algorithm",
   "metadata": {},
   "outputs": [],
   "source": []
  },
  {
   "cell_type": "code",
   "execution_count": 22,
   "id": "bored-terrorism",
   "metadata": {},
   "outputs": [
    {
     "name": "stdout",
     "output_type": "stream",
     "text": [
      "[1, 3, 4, 5, 6, 7, 8, 9, 10, 11, 12, 13]\n"
     ]
    }
   ],
   "source": [
    "with SessionLocal(expire_on_commit = False) as sess:\n",
    "    sql_image = sess.query(db_models.Image).filter(db_models.Image.id == uid).one()\n",
    "    print([_.id for _ in sql_image.experiment_groups])"
   ]
  },
  {
   "cell_type": "code",
   "execution_count": 20,
   "id": "handled-password",
   "metadata": {},
   "outputs": [
    {
     "ename": "DetachedInstanceError",
     "evalue": "Parent instance <Image at 0x1a24196f2e0> is not bound to a Session; lazy load operation of attribute 'experiment_groups' cannot proceed (Background on this error at: http://sqlalche.me/e/14/bhk3)",
     "output_type": "error",
     "traceback": [
      "\u001b[1;31m---------------------------------------------------------------------------\u001b[0m",
      "\u001b[1;31mDetachedInstanceError\u001b[0m                     Traceback (most recent call last)",
      "\u001b[1;32m<ipython-input-20-e71edd2f1999>\u001b[0m in \u001b[0;36m<module>\u001b[1;34m\u001b[0m\n\u001b[1;32m----> 1\u001b[1;33m \u001b[0msql_image\u001b[0m\u001b[1;33m.\u001b[0m\u001b[0mexperiment_groups\u001b[0m\u001b[1;33m\u001b[0m\u001b[1;33m\u001b[0m\u001b[0m\n\u001b[0m",
      "\u001b[1;32mc:\\users\\tlux1\\anaconda3\\envs\\mistos\\lib\\site-packages\\sqlalchemy\\orm\\attributes.py\u001b[0m in \u001b[0;36m__get__\u001b[1;34m(self, instance, owner)\u001b[0m\n\u001b[0;32m    361\u001b[0m                     \u001b[0mreplace_context\u001b[0m\u001b[1;33m=\u001b[0m\u001b[0merr\u001b[0m\u001b[1;33m,\u001b[0m\u001b[1;33m\u001b[0m\u001b[1;33m\u001b[0m\u001b[0m\n\u001b[0;32m    362\u001b[0m                 )\n\u001b[1;32m--> 363\u001b[1;33m             \u001b[1;32mreturn\u001b[0m \u001b[0mself\u001b[0m\u001b[1;33m.\u001b[0m\u001b[0mimpl\u001b[0m\u001b[1;33m.\u001b[0m\u001b[0mget\u001b[0m\u001b[1;33m(\u001b[0m\u001b[0mstate\u001b[0m\u001b[1;33m,\u001b[0m \u001b[0mdict_\u001b[0m\u001b[1;33m)\u001b[0m\u001b[1;33m\u001b[0m\u001b[1;33m\u001b[0m\u001b[0m\n\u001b[0m\u001b[0;32m    364\u001b[0m \u001b[1;33m\u001b[0m\u001b[0m\n\u001b[0;32m    365\u001b[0m \u001b[1;33m\u001b[0m\u001b[0m\n",
      "\u001b[1;32mc:\\users\\tlux1\\anaconda3\\envs\\mistos\\lib\\site-packages\\sqlalchemy\\orm\\attributes.py\u001b[0m in \u001b[0;36mget\u001b[1;34m(self, state, dict_, passive)\u001b[0m\n\u001b[0;32m    802\u001b[0m                     \u001b[0mvalue\u001b[0m \u001b[1;33m=\u001b[0m \u001b[0mcallable_\u001b[0m\u001b[1;33m(\u001b[0m\u001b[0mstate\u001b[0m\u001b[1;33m,\u001b[0m \u001b[0mpassive\u001b[0m\u001b[1;33m)\u001b[0m\u001b[1;33m\u001b[0m\u001b[1;33m\u001b[0m\u001b[0m\n\u001b[0;32m    803\u001b[0m                 \u001b[1;32melif\u001b[0m \u001b[0mself\u001b[0m\u001b[1;33m.\u001b[0m\u001b[0mcallable_\u001b[0m\u001b[1;33m:\u001b[0m\u001b[1;33m\u001b[0m\u001b[1;33m\u001b[0m\u001b[0m\n\u001b[1;32m--> 804\u001b[1;33m                     \u001b[0mvalue\u001b[0m \u001b[1;33m=\u001b[0m \u001b[0mself\u001b[0m\u001b[1;33m.\u001b[0m\u001b[0mcallable_\u001b[0m\u001b[1;33m(\u001b[0m\u001b[0mstate\u001b[0m\u001b[1;33m,\u001b[0m \u001b[0mpassive\u001b[0m\u001b[1;33m)\u001b[0m\u001b[1;33m\u001b[0m\u001b[1;33m\u001b[0m\u001b[0m\n\u001b[0m\u001b[0;32m    805\u001b[0m                 \u001b[1;32melse\u001b[0m\u001b[1;33m:\u001b[0m\u001b[1;33m\u001b[0m\u001b[1;33m\u001b[0m\u001b[0m\n\u001b[0;32m    806\u001b[0m                     \u001b[0mvalue\u001b[0m \u001b[1;33m=\u001b[0m \u001b[0mATTR_EMPTY\u001b[0m\u001b[1;33m\u001b[0m\u001b[1;33m\u001b[0m\u001b[0m\n",
      "\u001b[1;32mc:\\users\\tlux1\\anaconda3\\envs\\mistos\\lib\\site-packages\\sqlalchemy\\orm\\strategies.py\u001b[0m in \u001b[0;36m_load_for_state\u001b[1;34m(self, state, passive, loadopt)\u001b[0m\n\u001b[0;32m    819\u001b[0m                 \u001b[1;32mreturn\u001b[0m \u001b[0mattributes\u001b[0m\u001b[1;33m.\u001b[0m\u001b[0mPASSIVE_NO_RESULT\u001b[0m\u001b[1;33m\u001b[0m\u001b[1;33m\u001b[0m\u001b[0m\n\u001b[0;32m    820\u001b[0m \u001b[1;33m\u001b[0m\u001b[0m\n\u001b[1;32m--> 821\u001b[1;33m             raise orm_exc.DetachedInstanceError(\n\u001b[0m\u001b[0;32m    822\u001b[0m                 \u001b[1;34m\"Parent instance %s is not bound to a Session; \"\u001b[0m\u001b[1;33m\u001b[0m\u001b[1;33m\u001b[0m\u001b[0m\n\u001b[0;32m    823\u001b[0m                 \u001b[1;34m\"lazy load operation of attribute '%s' cannot proceed\"\u001b[0m\u001b[1;33m\u001b[0m\u001b[1;33m\u001b[0m\u001b[0m\n",
      "\u001b[1;31mDetachedInstanceError\u001b[0m: Parent instance <Image at 0x1a24196f2e0> is not bound to a Session; lazy load operation of attribute 'experiment_groups' cannot proceed (Background on this error at: http://sqlalche.me/e/14/bhk3)"
     ]
    }
   ],
   "source": [
    "sql_image.experiment_groups"
   ]
  },
  {
   "cell_type": "code",
   "execution_count": null,
   "id": "japanese-handle",
   "metadata": {},
   "outputs": [],
   "source": [
    "\n",
    "        "
   ]
  },
  {
   "cell_type": "code",
   "execution_count": null,
   "id": "vocal-aspect",
   "metadata": {},
   "outputs": [],
   "source": []
  },
  {
   "cell_type": "code",
   "execution_count": null,
   "id": "nervous-paradise",
   "metadata": {},
   "outputs": [],
   "source": []
  },
  {
   "cell_type": "code",
   "execution_count": null,
   "id": "binding-wisconsin",
   "metadata": {},
   "outputs": [],
   "source": []
  },
  {
   "cell_type": "code",
   "execution_count": 9,
   "id": "prompt-television",
   "metadata": {},
   "outputs": [],
   "source": [
    "# add result layer to experiment group"
   ]
  },
  {
   "cell_type": "code",
   "execution_count": 10,
   "id": "greatest-portrait",
   "metadata": {},
   "outputs": [],
   "source": [
    "# add measurement to ex"
   ]
  },
  {
   "cell_type": "code",
   "execution_count": null,
   "id": "handed-directive",
   "metadata": {},
   "outputs": [],
   "source": []
  },
  {
   "cell_type": "code",
   "execution_count": 11,
   "id": "statutory-healthcare",
   "metadata": {},
   "outputs": [],
   "source": [
    "# create experiment"
   ]
  },
  {
   "cell_type": "code",
   "execution_count": null,
   "id": "devoted-sarah",
   "metadata": {},
   "outputs": [],
   "source": []
  },
  {
   "cell_type": "code",
   "execution_count": null,
   "id": "ranking-crisis",
   "metadata": {},
   "outputs": [],
   "source": []
  },
  {
   "cell_type": "code",
   "execution_count": 12,
   "id": "threaded-baseline",
   "metadata": {},
   "outputs": [],
   "source": [
    "# create experiment groups"
   ]
  },
  {
   "cell_type": "code",
   "execution_count": 13,
   "id": "average-speed",
   "metadata": {},
   "outputs": [],
   "source": [
    "# Remove Experiment groups"
   ]
  },
  {
   "cell_type": "code",
   "execution_count": 25,
   "id": "essential-device",
   "metadata": {},
   "outputs": [],
   "source": [
    "# Add Images to groups"
   ]
  },
  {
   "cell_type": "code",
   "execution_count": 26,
   "id": "gothic-margin",
   "metadata": {},
   "outputs": [],
   "source": [
    "# Remove Images from groups"
   ]
  },
  {
   "cell_type": "code",
   "execution_count": 27,
   "id": "entire-badge",
   "metadata": {},
   "outputs": [],
   "source": [
    "# Make measurements"
   ]
  },
  {
   "cell_type": "code",
   "execution_count": 28,
   "id": "gross-harassment",
   "metadata": {},
   "outputs": [],
   "source": [
    "# remove measurements"
   ]
  },
  {
   "cell_type": "code",
   "execution_count": 29,
   "id": "mounted-renaissance",
   "metadata": {},
   "outputs": [],
   "source": [
    "# create result"
   ]
  },
  {
   "cell_type": "code",
   "execution_count": null,
   "id": "transparent-seven",
   "metadata": {},
   "outputs": [],
   "source": [
    "# Remove result"
   ]
  }
 ],
 "metadata": {
  "kernelspec": {
   "display_name": "Python 3",
   "language": "python",
   "name": "python3"
  },
  "language_info": {
   "codemirror_mode": {
    "name": "ipython",
    "version": 3
   },
   "file_extension": ".py",
   "mimetype": "text/x-python",
   "name": "python",
   "nbconvert_exporter": "python",
   "pygments_lexer": "ipython3",
   "version": "3.8.5"
  }
 },
 "nbformat": 4,
 "nbformat_minor": 5
}
